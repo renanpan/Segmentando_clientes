{
 "cells": [
  {
   "cell_type": "markdown",
   "metadata": {},
   "source": [
    "# Segmentando clientes"
   ]
  },
  {
   "cell_type": "markdown",
   "metadata": {},
   "source": [
    "### O objetivo do presente projeto é de realizar a segmentação de clientes de um site de compras com diversas categorias de produtos."
   ]
  },
  {
   "cell_type": "markdown",
   "metadata": {},
   "source": [
    "Inicialmente estarei utilizando algumas técnicas de tratamento e análise exploratória de dados. Na sequência realizarei a análise de coorte para entendimento do perfil dos usuários e por fim estarei trabalhando a segmentação dos dados."
   ]
  },
  {
   "cell_type": "code",
   "execution_count": 112,
   "metadata": {},
   "outputs": [],
   "source": [
    "# Importando as bibliotecas\n",
    "import pandas as pd\n",
    "import matplotlib.pyplot as plt\n",
    "import datetime as dt\n",
    "import numpy as np\n",
    "import nltk, warnings\n",
    "import plotly.express as px\n",
    "import seaborn as sns\n",
    "\n",
    "##bibliotecas para aprendizado de maquina\n",
    "from sklearn.model_selection import train_test_split\n",
    "from sklearn.linear_model import LogisticRegression\n",
    "from sklearn.metrics import accuracy_score\n",
    "from sklearn.model_selection import KFold\n",
    "from sklearn import base\n",
    "\n",
    "from sklearn.preprocessing import StandardScaler\n",
    "from sklearn.cluster import KMeans\n",
    "from scipy.cluster.hierarchy import dendrogram, linkage\n",
    "from sklearn.metrics import silhouette_samples, silhouette_score \n",
    "\n",
    "from sklearn.preprocessing import OneHotEncoder\n",
    "from sklearn.decomposition import PCA\n"
   ]
  },
  {
   "cell_type": "markdown",
   "metadata": {},
   "source": [
    "## 1 Tratamento dos dados"
   ]
  },
  {
   "cell_type": "markdown",
   "metadata": {},
   "source": [
    "- Atributos para arrumar\n",
    "    - Alterar o nome das colunas para snake-case e tudo em letras minusculas\n",
    "    - Remover valores nulos em customer_id da tabela já que não me permitem criar um perfil de cliente;\n",
    "    - Procurar e remover valores duplicados;\n",
    "    - Alterar o tipo de dados de invoice_date para datetime;\n",
    "    - Remover da tabela valores que estão negativos na coluna 'quantity';\n",
    "    - Conferir e tratar os dados da coluna 'unit_price' se necessário;\n",
    "    - Adicionar uma coluna com total gasto por usuário (total_spent)\n",
    "\n",
    "- Atributos para avaliar\n",
    "    - Fazer a análise de coorte para entender os valores gastos com os produtos\n",
    "    - Fazer a segmentação dos clientes através do RFM\n",
    "    - Fazer a segmentação através da criação de categorias para os produtos.\n",
    "\n",
    "- Concluir os resultados e sugerir planos de ação para os pontos observados."
   ]
  },
  {
   "cell_type": "code",
   "execution_count": 2,
   "metadata": {},
   "outputs": [],
   "source": [
    "#importando o conjunto de dados\n",
    "ecommerce = pd.read_csv('dataset/ecommerce_dataset_us.csv')"
   ]
  },
  {
   "cell_type": "code",
   "execution_count": 3,
   "metadata": {},
   "outputs": [
    {
     "name": "stdout",
     "output_type": "stream",
     "text": [
      "<class 'pandas.core.frame.DataFrame'>\n",
      "RangeIndex: 65535 entries, 0 to 65534\n",
      "Data columns (total 7 columns):\n",
      " #   Column       Non-Null Count  Dtype  \n",
      "---  ------       --------------  -----  \n",
      " 0   InvoiceNo    65535 non-null  object \n",
      " 1   StockCode    65535 non-null  object \n",
      " 2   Description  65372 non-null  object \n",
      " 3   Quantity     65535 non-null  int64  \n",
      " 4   InvoiceDate  65535 non-null  object \n",
      " 5   UnitPrice    65535 non-null  float64\n",
      " 6   CustomerID   41231 non-null  float64\n",
      "dtypes: float64(2), int64(1), object(4)\n",
      "memory usage: 3.5+ MB\n"
     ]
    }
   ],
   "source": [
    "ecommerce.info()"
   ]
  },
  {
   "cell_type": "code",
   "execution_count": 4,
   "metadata": {},
   "outputs": [],
   "source": [
    "# Renomear as colunas para que correspondam a Snake-Case e que tudo fique em letra minuscula\n",
    "new_column_names = ['invoice_no','stock_code','description','quantity','invoice_date','unit_price','customer_id']\n",
    "\n",
    "ecommerce.rename(columns=dict(zip(ecommerce.columns, new_column_names)), inplace=True)"
   ]
  },
  {
   "cell_type": "code",
   "execution_count": 5,
   "metadata": {},
   "outputs": [
    {
     "name": "stdout",
     "output_type": "stream",
     "text": [
      "  invoice_no stock_code                     description  quantity  \\\n",
      "0    C541433      23166  MEDIUM CERAMIC TOP STORAGE JAR    -74215   \n",
      "1     541431      23166  MEDIUM CERAMIC TOP STORAGE JAR     74215   \n",
      "2     537626     85232D   SET/3 DECOUPAGE STACKING TINS         3   \n",
      "3     537626      22725  ALARM CLOCK BAKELIKE CHOCOLATE         4   \n",
      "4     537626      22726      ALARM CLOCK BAKELIKE GREEN         4   \n",
      "\n",
      "       invoice_date  unit_price  customer_id  \n",
      "0  01/16/2019 10:17        1.04      12346.0  \n",
      "1  01/16/2019 10:01        1.04      12346.0  \n",
      "2  12/05/2018 14:57        4.95      12347.0  \n",
      "3  12/05/2018 14:57        3.75      12347.0  \n",
      "4  12/05/2018 14:57        3.75      12347.0  \n"
     ]
    }
   ],
   "source": [
    "print(ecommerce.head())"
   ]
  },
  {
   "cell_type": "code",
   "execution_count": 6,
   "metadata": {},
   "outputs": [],
   "source": [
    "# Tratar os dados da coluna customer_id\n",
    "ecommerce_clean = ecommerce[~ecommerce['customer_id'].isna()]"
   ]
  },
  {
   "cell_type": "code",
   "execution_count": 7,
   "metadata": {},
   "outputs": [
    {
     "name": "stdout",
     "output_type": "stream",
     "text": [
      "<class 'pandas.core.frame.DataFrame'>\n",
      "Index: 41231 entries, 0 to 41230\n",
      "Data columns (total 7 columns):\n",
      " #   Column        Non-Null Count  Dtype  \n",
      "---  ------        --------------  -----  \n",
      " 0   invoice_no    41231 non-null  object \n",
      " 1   stock_code    41231 non-null  object \n",
      " 2   description   41231 non-null  object \n",
      " 3   quantity      41231 non-null  int64  \n",
      " 4   invoice_date  41231 non-null  object \n",
      " 5   unit_price    41231 non-null  float64\n",
      " 6   customer_id   41231 non-null  float64\n",
      "dtypes: float64(2), int64(1), object(4)\n",
      "memory usage: 2.5+ MB\n"
     ]
    }
   ],
   "source": [
    "ecommerce_clean.info()"
   ]
  },
  {
   "cell_type": "code",
   "execution_count": 8,
   "metadata": {},
   "outputs": [
    {
     "name": "stderr",
     "output_type": "stream",
     "text": [
      "C:\\Users\\renan\\AppData\\Local\\Temp\\ipykernel_4032\\3316102296.py:2: SettingWithCopyWarning: \n",
      "A value is trying to be set on a copy of a slice from a DataFrame.\n",
      "Try using .loc[row_indexer,col_indexer] = value instead\n",
      "\n",
      "See the caveats in the documentation: https://pandas.pydata.org/pandas-docs/stable/user_guide/indexing.html#returning-a-view-versus-a-copy\n",
      "  ecommerce_clean['customer_id'] = ecommerce_clean['customer_id'].astype('int')\n"
     ]
    }
   ],
   "source": [
    "# Atualizar o formato de dados de 'customer_id' para int\n",
    "ecommerce_clean['customer_id'] = ecommerce_clean['customer_id'].astype('int')"
   ]
  },
  {
   "cell_type": "markdown",
   "metadata": {},
   "source": [
    "### 1.1 Remover possiveis espaços duplos da coluna 'description'"
   ]
  },
  {
   "cell_type": "code",
   "execution_count": 9,
   "metadata": {},
   "outputs": [
    {
     "name": "stderr",
     "output_type": "stream",
     "text": [
      "C:\\Users\\renan\\AppData\\Local\\Temp\\ipykernel_4032\\1543203026.py:3: SettingWithCopyWarning: \n",
      "A value is trying to be set on a copy of a slice from a DataFrame.\n",
      "Try using .loc[row_indexer,col_indexer] = value instead\n",
      "\n",
      "See the caveats in the documentation: https://pandas.pydata.org/pandas-docs/stable/user_guide/indexing.html#returning-a-view-versus-a-copy\n",
      "  ecommerce_clean['description'] = ecommerce_clean['description'].str.replace(r'\\s+', ' ', regex=True)\n"
     ]
    }
   ],
   "source": [
    "# Removendo os espaços duplos\n",
    "\n",
    "ecommerce_clean['description'] = ecommerce_clean['description'].str.replace(r'\\s+', ' ', regex=True)"
   ]
  },
  {
   "cell_type": "markdown",
   "metadata": {},
   "source": [
    "### 1.2 Remover dados duplicados"
   ]
  },
  {
   "cell_type": "code",
   "execution_count": 10,
   "metadata": {},
   "outputs": [
    {
     "name": "stdout",
     "output_type": "stream",
     "text": [
      "False    40579\n",
      "True       652\n",
      "Name: count, dtype: int64\n"
     ]
    }
   ],
   "source": [
    "# Obter o total de valores duplicados\n",
    "print(ecommerce_clean.duplicated().value_counts())"
   ]
  },
  {
   "cell_type": "code",
   "execution_count": 11,
   "metadata": {},
   "outputs": [],
   "source": [
    "# Removendo duplicados\n",
    "ecommerce_clean = ecommerce_clean.drop_duplicates()"
   ]
  },
  {
   "cell_type": "code",
   "execution_count": 12,
   "metadata": {},
   "outputs": [
    {
     "name": "stdout",
     "output_type": "stream",
     "text": [
      "False    40579\n",
      "Name: count, dtype: int64\n"
     ]
    }
   ],
   "source": [
    "# Conferindo se removeu os duplicados\n",
    "print(ecommerce_clean.duplicated().value_counts())"
   ]
  },
  {
   "cell_type": "markdown",
   "metadata": {},
   "source": [
    "- A remoção dos dados duplicados funcionou."
   ]
  },
  {
   "cell_type": "markdown",
   "metadata": {},
   "source": [
    "### 1.3 Tratando os dados da coluna 'quantity'"
   ]
  },
  {
   "cell_type": "code",
   "execution_count": 13,
   "metadata": {},
   "outputs": [],
   "source": [
    "# Filtrando os dados para remover valores negativos de 'quantity' selecionando apenas valores maiores ou iguais a 1\n",
    "\n",
    "ecommerce_clean = ecommerce_clean[ecommerce_clean['quantity']>= 1]"
   ]
  },
  {
   "cell_type": "code",
   "execution_count": 14,
   "metadata": {},
   "outputs": [
    {
     "name": "stdout",
     "output_type": "stream",
     "text": [
      "<class 'pandas.core.frame.DataFrame'>\n",
      "Index: 39531 entries, 1 to 41230\n",
      "Data columns (total 7 columns):\n",
      " #   Column        Non-Null Count  Dtype  \n",
      "---  ------        --------------  -----  \n",
      " 0   invoice_no    39531 non-null  object \n",
      " 1   stock_code    39531 non-null  object \n",
      " 2   description   39531 non-null  object \n",
      " 3   quantity      39531 non-null  int64  \n",
      " 4   invoice_date  39531 non-null  object \n",
      " 5   unit_price    39531 non-null  float64\n",
      " 6   customer_id   39531 non-null  int32  \n",
      "dtypes: float64(1), int32(1), int64(1), object(4)\n",
      "memory usage: 2.3+ MB\n"
     ]
    }
   ],
   "source": [
    "ecommerce_clean.info()"
   ]
  },
  {
   "cell_type": "code",
   "execution_count": 15,
   "metadata": {},
   "outputs": [],
   "source": [
    "# Alterar o tipo de dados de 'invoice_date' para datetime\n",
    "\n",
    "ecommerce_clean['invoice_date'] = pd.to_datetime(ecommerce_clean['invoice_date'])"
   ]
  },
  {
   "cell_type": "code",
   "execution_count": 16,
   "metadata": {},
   "outputs": [
    {
     "name": "stdout",
     "output_type": "stream",
     "text": [
      "  invoice_no stock_code                     description  quantity  \\\n",
      "1     541431      23166  MEDIUM CERAMIC TOP STORAGE JAR     74215   \n",
      "2     537626     85232D   SET/3 DECOUPAGE STACKING TINS         3   \n",
      "3     537626      22725  ALARM CLOCK BAKELIKE CHOCOLATE         4   \n",
      "\n",
      "         invoice_date  unit_price  customer_id  \n",
      "1 2019-01-16 10:01:00        1.04        12346  \n",
      "2 2018-12-05 14:57:00        4.95        12347  \n",
      "3 2018-12-05 14:57:00        3.75        12347  \n"
     ]
    }
   ],
   "source": [
    "print(ecommerce_clean.head(3))"
   ]
  },
  {
   "cell_type": "code",
   "execution_count": 17,
   "metadata": {},
   "outputs": [
    {
     "data": {
      "image/png": "[encoded data removed]",
      "text/plain": [
       "<Figure size 640x480 with 1 Axes>"
      ]
     },
     "metadata": {},
     "output_type": "display_data"
    }
   ],
   "source": [
    "# Conferir os dados de quantidade pois parece ter alguns valores extremos\n",
    "\n",
    "quantity_values = ecommerce_clean['quantity']\n",
    "\n",
    "plt.boxplot(quantity_values)\n",
    "plt.show()"
   ]
  },
  {
   "cell_type": "code",
   "execution_count": 18,
   "metadata": {},
   "outputs": [],
   "source": [
    "# Filtrar os dados para remover dados de 'quantity' acima de 10000\n",
    "\n",
    "ecommerce_clean = ecommerce_clean[ecommerce_clean['quantity']<=10000]"
   ]
  },
  {
   "cell_type": "code",
   "execution_count": 19,
   "metadata": {},
   "outputs": [
    {
     "data": {
      "image/png": "[encoded data removed]",
      "text/plain": [
       "<Figure size 640x480 with 1 Axes>"
      ]
     },
     "metadata": {},
     "output_type": "display_data"
    }
   ],
   "source": [
    "# Conferir os dados de quantidade após remoção\n",
    "\n",
    "quantity_values_2 = ecommerce_clean['quantity']\n",
    "\n",
    "plt.boxplot(quantity_values_2)\n",
    "plt.show()"
   ]
  },
  {
   "cell_type": "code",
   "execution_count": 20,
   "metadata": {},
   "outputs": [
    {
     "name": "stdout",
     "output_type": "stream",
     "text": [
      "customer_id  description                         unit_price\n",
      "15749        FAIRY CAKE FLANNEL ASSORTED COLOUR  2.10          3114\n",
      "16754        WORLD WAR 2 GLIDERS ASSTD DESIGNS   0.18          2880\n",
      "16029        GROW A FLYTRAP OR SUNFLOWER IN TIN  0.94          2400\n",
      "15749        GIN + TONIC DIET METAL SIGN         1.85          2000\n",
      "             WHITE HANGING HEART T-LIGHT HOLDER  2.55          1930\n",
      "15299        ASSORTED COLOUR T-LIGHT HOLDER      0.55          1824\n",
      "12875        ASSORTED LAQUERED INCENSE HOLDERS   0.17          1728\n",
      "12755        ROUND SNACK BOXES SET OF 4 FRUITS   2.55          1488\n",
      "14156        ASSORTED INCENSE PACK               0.16          1440\n",
      "16754        RED HARMONICA IN BOX                1.06          1400\n",
      "17857        MINI PAINT SET VINTAGE              0.55          1394\n",
      "17450        HEART OF WICKER SMALL               1.93          1356\n",
      "15749        TEA TIME TEA TOWELS                 2.55          1300\n",
      "17306        PACK OF 12 LONDON TISSUES           0.25          1296\n",
      "17450        HEART OF WICKER LARGE               3.21          1284\n",
      "             WHITE HANGING HEART T-LIGHT HOLDER  3.24          1010\n",
      "18102        CREAM HEART CARD HOLDER             2.31          1008\n",
      "             BLACK HEART CARD HOLDER             2.31          1008\n",
      "13848        SMALL CHINESE STYLE SCISSOR         0.32          1000\n",
      "13027        PACK OF 72 RETROSPOT CAKE CASES     0.40           960\n",
      "Name: quantity, dtype: int64\n"
     ]
    }
   ],
   "source": [
    "''' Acredito que tenha algo de errado com esses dados com valores acima de 1000 itens do mesmo pedido\n",
    "    Estou pensando em agrupar por usuário e pedido e ver o máximo de produtos pedidos'''\n",
    "\n",
    "group_user_orders = ecommerce_clean.groupby(['customer_id','description','unit_price'])['quantity'].max().sort_values(ascending=False)\n",
    "print(group_user_orders.head(20))"
   ]
  },
  {
   "cell_type": "markdown",
   "metadata": {},
   "source": [
    "- Com essa informação vejo que alguns dados os pedidos provavelmente estão errados, sendo assim vou filtrar o dataframe para quantidade superior e inferior a 300 pedidos e ver o resultado nos dados"
   ]
  },
  {
   "cell_type": "code",
   "execution_count": 21,
   "metadata": {},
   "outputs": [],
   "source": [
    "# Filtrando as quantidades com limite de 300\n",
    "\n",
    "above_300 = ecommerce_clean[ecommerce_clean['quantity'] >= 300]\n",
    "below_300 = ecommerce_clean[ecommerce_clean['quantity'] < 300]"
   ]
  },
  {
   "cell_type": "code",
   "execution_count": 22,
   "metadata": {},
   "outputs": [
    {
     "name": "stdout",
     "output_type": "stream",
     "text": [
      "<class 'pandas.core.frame.DataFrame'>\n",
      "Index: 89 entries, 479 to 40054\n",
      "Data columns (total 7 columns):\n",
      " #   Column        Non-Null Count  Dtype         \n",
      "---  ------        --------------  -----         \n",
      " 0   invoice_no    89 non-null     object        \n",
      " 1   stock_code    89 non-null     object        \n",
      " 2   description   89 non-null     object        \n",
      " 3   quantity      89 non-null     int64         \n",
      " 4   invoice_date  89 non-null     datetime64[ns]\n",
      " 5   unit_price    89 non-null     float64       \n",
      " 6   customer_id   89 non-null     int32         \n",
      "dtypes: datetime64[ns](1), float64(1), int32(1), int64(1), object(3)\n",
      "memory usage: 5.2+ KB\n"
     ]
    }
   ],
   "source": [
    "above_300.info()"
   ]
  },
  {
   "cell_type": "code",
   "execution_count": 23,
   "metadata": {},
   "outputs": [
    {
     "name": "stdout",
     "output_type": "stream",
     "text": [
      "<class 'pandas.core.frame.DataFrame'>\n",
      "Index: 39440 entries, 2 to 41230\n",
      "Data columns (total 7 columns):\n",
      " #   Column        Non-Null Count  Dtype         \n",
      "---  ------        --------------  -----         \n",
      " 0   invoice_no    39440 non-null  object        \n",
      " 1   stock_code    39440 non-null  object        \n",
      " 2   description   39440 non-null  object        \n",
      " 3   quantity      39440 non-null  int64         \n",
      " 4   invoice_date  39440 non-null  datetime64[ns]\n",
      " 5   unit_price    39440 non-null  float64       \n",
      " 6   customer_id   39440 non-null  int32         \n",
      "dtypes: datetime64[ns](1), float64(1), int32(1), int64(1), object(3)\n",
      "memory usage: 2.3+ MB\n"
     ]
    }
   ],
   "source": [
    "below_300.info()"
   ]
  },
  {
   "cell_type": "code",
   "execution_count": 24,
   "metadata": {},
   "outputs": [
    {
     "name": "stdout",
     "output_type": "stream",
     "text": [
      "customer_id  description                         unit_price\n",
      "15311        DECORATIVE CATS BATHROOM BOTTLE     0.42          288\n",
      "17511        DISCO BALL CHRISTMAS DECORATION     0.10          288\n",
      "18092        MOROCCAN TEA GLASS                  0.65          288\n",
      "14646        5 HOOK HANGER RED MAGIC TOADSTOOL   1.45          288\n",
      "17404        TEA BAG PLATE RED RETROSPOT         0.85          288\n",
      "16422        SET/10 RED POLKADOT PARTY CANDLES   1.06          288\n",
      "14156        SET/5 RED SPOTTY LID GLASS BOWLS    2.55          288\n",
      "17511        FELT FARM ANIMAL WHITE BUNNY        0.19          288\n",
      "14646        ASSORTED EASTER DECORATIONS BELLS   1.06          288\n",
      "             PLASTERS IN TIN WOODLAND ANIMALS    1.45          288\n",
      "16191        HAND WARMER BABUSHKA DESIGN         0.85          288\n",
      "16210        POTTERING MUG                       0.42          288\n",
      "16684        FANCY FONT BIRTHDAY CARD            0.36          288\n",
      "14646        SET/10 BLUE POLKADOT PARTY CANDLES  1.06          288\n",
      "16422        SET/10 PINK POLKADOT PARTY CANDLES  1.06          288\n",
      "14156        PACK OF 20 NAPKINS RED APPLES       0.64          288\n",
      "17381        VINTAGE HEADS AND TAILS CARD GAME   1.06          288\n",
      "14156        JAM MAKING SET PRINTED              1.25          288\n",
      "17404        SET OF 72 RETROSPOT PAPER DOILIES   1.45          288\n",
      "14646        PACK OF 12 TRADITIONAL CRAYONS      0.36          288\n",
      "Name: quantity, dtype: int64\n"
     ]
    }
   ],
   "source": [
    "# Conferir a lista com os valores máximos até 300 pedidos\n",
    "\n",
    "group_below_300 = below_300.groupby(['customer_id','description','unit_price'])['quantity'].max().sort_values(ascending=False)\n",
    "print(group_below_300.head(20))"
   ]
  },
  {
   "cell_type": "markdown",
   "metadata": {},
   "source": [
    "- Olhando os produtos posso dizer que mesmo filtrando os pedidos com quantidade inferior a 300, ainda temos produtos com valores que não aparentam ser adequados para esses tipos de produtos.\n",
    "- É necessário realizar novo tratamento desses dados e aplicar outra filtragem, nesse caso trabalharei com 100 itens"
   ]
  },
  {
   "cell_type": "code",
   "execution_count": 25,
   "metadata": {},
   "outputs": [],
   "source": [
    "# Filtrando as quantidades com limite de 100\n",
    "\n",
    "above_100 = ecommerce_clean[ecommerce_clean['quantity'] >= 100]\n",
    "below_100 = ecommerce_clean[ecommerce_clean['quantity'] < 100]"
   ]
  },
  {
   "cell_type": "code",
   "execution_count": 26,
   "metadata": {},
   "outputs": [
    {
     "name": "stdout",
     "output_type": "stream",
     "text": [
      "<class 'pandas.core.frame.DataFrame'>\n",
      "Index: 621 entries, 45 to 40644\n",
      "Data columns (total 7 columns):\n",
      " #   Column        Non-Null Count  Dtype         \n",
      "---  ------        --------------  -----         \n",
      " 0   invoice_no    621 non-null    object        \n",
      " 1   stock_code    621 non-null    object        \n",
      " 2   description   621 non-null    object        \n",
      " 3   quantity      621 non-null    int64         \n",
      " 4   invoice_date  621 non-null    datetime64[ns]\n",
      " 5   unit_price    621 non-null    float64       \n",
      " 6   customer_id   621 non-null    int32         \n",
      "dtypes: datetime64[ns](1), float64(1), int32(1), int64(1), object(3)\n",
      "memory usage: 36.4+ KB\n"
     ]
    }
   ],
   "source": [
    "above_100.info()"
   ]
  },
  {
   "cell_type": "code",
   "execution_count": 27,
   "metadata": {},
   "outputs": [
    {
     "name": "stdout",
     "output_type": "stream",
     "text": [
      "<class 'pandas.core.frame.DataFrame'>\n",
      "Index: 38908 entries, 2 to 41230\n",
      "Data columns (total 7 columns):\n",
      " #   Column        Non-Null Count  Dtype         \n",
      "---  ------        --------------  -----         \n",
      " 0   invoice_no    38908 non-null  object        \n",
      " 1   stock_code    38908 non-null  object        \n",
      " 2   description   38908 non-null  object        \n",
      " 3   quantity      38908 non-null  int64         \n",
      " 4   invoice_date  38908 non-null  datetime64[ns]\n",
      " 5   unit_price    38908 non-null  float64       \n",
      " 6   customer_id   38908 non-null  int32         \n",
      "dtypes: datetime64[ns](1), float64(1), int32(1), int64(1), object(3)\n",
      "memory usage: 2.2+ MB\n"
     ]
    }
   ],
   "source": [
    "below_100.info()"
   ]
  },
  {
   "cell_type": "code",
   "execution_count": 28,
   "metadata": {},
   "outputs": [
    {
     "name": "stdout",
     "output_type": "stream",
     "text": [
      "customer_id  description                          unit_price\n",
      "12415        PINK POLKADOT PLATE                  1.45          96\n",
      "12370        HEART DECORATION PAINTED ZINC        0.65          96\n",
      "14646        PLASTERS IN TIN VINTAGE PAISLEY      1.45          96\n",
      "13089        HEART IVORY TRELLIS SMALL            1.25          96\n",
      "14646        PLASTERS IN TIN STRONGMAN            1.45          96\n",
      "14258        SET/6 RED SPOTTY PAPER PLATES        0.64          96\n",
      "14646        BLUE POLKADOT CUP                    0.72          96\n",
      "14258        SET/20 RED RETROSPOT PAPER NAPKINS   0.64          96\n",
      "15061        MAGIC DRAWING SLATE SPACEBOY         0.36          96\n",
      "17511        6 RIBBONS SHIMMERING PINKS           0.42          96\n",
      "14062        HAND WARMER BABUSHKA DESIGN          0.85          96\n",
      "17511        BAG 125g SWIRLY MARBLES              0.36          96\n",
      "15330        FEATHER PEN LIGHT PINK               0.39          96\n",
      "14646        BLUE STRIPE CERAMIC DRAWER KNOB      1.06          96\n",
      "15061        LUNCH BOX I LOVE LONDON              1.65          96\n",
      "17511        BLUE POLKADOT CUP                    0.72          96\n",
      "15061        HANGING JAM JAR T-LIGHT HOLDER       0.72          96\n",
      "17511        BLUE POLKADOT PLATE                  1.45          96\n",
      "15514        ROCKING HORSE RED CHRISTMAS          0.72          96\n",
      "15347        CLOTHES PEGS RETROSPOT PACK 24       1.25          96\n",
      "Name: quantity, dtype: int64\n"
     ]
    }
   ],
   "source": [
    "# Conferir a lista com os valores máximos até 100 pedidos\n",
    "\n",
    "group_below_100 = below_100.groupby(['customer_id','description','unit_price'])['quantity'].max().sort_values(ascending=False)\n",
    "print(group_below_100.head(20))"
   ]
  },
  {
   "cell_type": "code",
   "execution_count": 29,
   "metadata": {},
   "outputs": [
    {
     "data": {
      "image/png": "[encoded data removed]",
      "text/plain": [
       "<Figure size 640x480 with 1 Axes>"
      ]
     },
     "metadata": {},
     "output_type": "display_data"
    }
   ],
   "source": [
    "# Plotar histograma de quantidade inferior a 100\n",
    "\n",
    "quant_below_100 = below_100['quantity']\n",
    "\n",
    "plt.boxplot(quant_below_100)\n",
    "plt.show()"
   ]
  },
  {
   "cell_type": "markdown",
   "metadata": {},
   "source": [
    "- Com base neste novo boxplot é possível ver a distribuição dos dados onde temos o limite superior próximo a 20.\n",
    "    - O passo agora é calcular esse limite, realizar nova filtragem dos dados e observar se vale a pena manter a nova filtragem ou utilizar os dados com quantidade abaixo de 100"
   ]
  },
  {
   "cell_type": "code",
   "execution_count": 30,
   "metadata": {},
   "outputs": [
    {
     "name": "stdout",
     "output_type": "stream",
     "text": [
      "O limite superior é:  27.0\n"
     ]
    }
   ],
   "source": [
    "''' Observação para mim mesmo, eu poderia ter realizado isso logo após confeccionar o primeiro boxplot ao invés de ficar adivinhando valores'''\n",
    "\n",
    "# Calcular o limite superior do boxplot\n",
    "\n",
    "# Calcular o terceiro quartil\n",
    "q3 = below_100['quantity'].quantile(0.75)\n",
    "\n",
    "# Calcular o primeiro quartil\n",
    "q1 = below_100['quantity'].quantile(0.25)\n",
    "\n",
    "# Calcular o intervalo interquartil (IQR)\n",
    "iqr = q3-q1\n",
    "\n",
    "# Calcular o limite superior\n",
    "upper_limit = q3 + 1.5 * iqr\n",
    "\n",
    "print(\"O limite superior é: \", upper_limit)"
   ]
  },
  {
   "cell_type": "markdown",
   "metadata": {},
   "source": [
    "- Como descobri que o limite superior é de 27, vou realizar a filtragem dos dados para 'quantity' até 27 e depois estudar os dados"
   ]
  },
  {
   "cell_type": "code",
   "execution_count": 31,
   "metadata": {},
   "outputs": [],
   "source": [
    "# Filtrando os dados para quantity até 27\n",
    "below_27 = ecommerce_clean[ecommerce_clean['quantity'] <= 27]"
   ]
  },
  {
   "cell_type": "code",
   "execution_count": 32,
   "metadata": {},
   "outputs": [
    {
     "name": "stdout",
     "output_type": "stream",
     "text": [
      "<class 'pandas.core.frame.DataFrame'>\n",
      "Index: 36844 entries, 2 to 41230\n",
      "Data columns (total 7 columns):\n",
      " #   Column        Non-Null Count  Dtype         \n",
      "---  ------        --------------  -----         \n",
      " 0   invoice_no    36844 non-null  object        \n",
      " 1   stock_code    36844 non-null  object        \n",
      " 2   description   36844 non-null  object        \n",
      " 3   quantity      36844 non-null  int64         \n",
      " 4   invoice_date  36844 non-null  datetime64[ns]\n",
      " 5   unit_price    36844 non-null  float64       \n",
      " 6   customer_id   36844 non-null  int32         \n",
      "dtypes: datetime64[ns](1), float64(1), int32(1), int64(1), object(3)\n",
      "memory usage: 2.1+ MB\n"
     ]
    }
   ],
   "source": [
    "below_27.info()"
   ]
  },
  {
   "cell_type": "code",
   "execution_count": 33,
   "metadata": {},
   "outputs": [
    {
     "name": "stdout",
     "output_type": "stream",
     "text": [
      "1680\n"
     ]
    }
   ],
   "source": [
    "# Conferindo o total de usuários únicos após a filtragem\n",
    "\n",
    "unique_users_27 = below_27['customer_id'].nunique()\n",
    "\n",
    "print(unique_users_27)"
   ]
  },
  {
   "cell_type": "markdown",
   "metadata": {},
   "source": [
    "- Com base nos resultados obtidos temos 1680 usuários únicos no novo dataframe filtrado"
   ]
  },
  {
   "cell_type": "markdown",
   "metadata": {},
   "source": [
    "### 1.4 Estudando a coluna 'unit_price'"
   ]
  },
  {
   "cell_type": "markdown",
   "metadata": {},
   "source": [
    "- Antes de mais nada, vou criar renomear o dataframe 'below_27' para 'ecommerce_clean_27' assim entendo de onde vieram esses dados já que eles foram limpos uma vez e filtrados."
   ]
  },
  {
   "cell_type": "code",
   "execution_count": 34,
   "metadata": {},
   "outputs": [],
   "source": [
    "# Renomeando o Dataframe para trabalho\n",
    "\n",
    "ecommerce_clean_27 = below_27"
   ]
  },
  {
   "cell_type": "code",
   "execution_count": 35,
   "metadata": {},
   "outputs": [
    {
     "name": "stdout",
     "output_type": "stream",
     "text": [
      "description                        quantity\n",
      "VINTAGE RED KITCHEN CABINET        1           295.00\n",
      "LOVE SEAT ANTIQUE WHITE METAL      2           175.00\n",
      "RUSTIC SEVENTEEN DRAWER SIDEBOARD  1           165.00\n",
      "REGENCY MIRROR WITH SHUTTERS       1           165.00\n",
      "CARRIAGE                           1           150.00\n",
      "RUSTIC SEVENTEEN DRAWER SIDEBOARD  2           145.00\n",
      "CHEST NATURAL WOOD 20 DRAWERS      1           125.00\n",
      "VINTAGE RED KITCHEN CABINET        2           125.00\n",
      "VINTAGE BLUE KITCHEN CABINET       1           125.00\n",
      "                                   2           125.00\n",
      "CHEST NATURAL WOOD 20 DRAWERS      4           110.00\n",
      "VINTAGE POST OFFICE CABINET        1            79.95\n",
      "SCHOOL DESK AND CHAIR              1            65.00\n",
      "                                   2            65.00\n",
      "VINTAGE POST OFFICE CABINET        10           52.77\n",
      "HALL CABINET WITH 3 DRAWERS        1            49.95\n",
      "PINK PAINTED KASHMIRI CHAIR        4            42.95\n",
      "POSTAGE                            2            40.00\n",
      "                                   3            40.00\n",
      "                                   5            40.00\n",
      "Name: unit_price, dtype: float64\n"
     ]
    }
   ],
   "source": [
    "# Conferir a lista com os valores máximos até 100 pedidos\n",
    "\n",
    "group_unit_price = ecommerce_clean_27.groupby(['description','quantity'])['unit_price'].max().sort_values(ascending=False)\n",
    "print(group_unit_price.head(20))"
   ]
  },
  {
   "cell_type": "markdown",
   "metadata": {},
   "source": [
    "- Observando os preços dos itens, os mesmos parecem de acordo com os itens em questão."
   ]
  },
  {
   "cell_type": "code",
   "execution_count": 36,
   "metadata": {},
   "outputs": [
    {
     "data": {
      "image/png": "[encoded data removed]",
      "text/plain": [
       "<Figure size 640x480 with 1 Axes>"
      ]
     },
     "metadata": {},
     "output_type": "display_data"
    }
   ],
   "source": [
    "# Histograma da distribuição dos preços\n",
    "plt.hist(ecommerce_clean_27['unit_price'], bins=15)\n",
    "plt.ylabel('Frequência dos preços')\n",
    "plt.xlabel('Preço unitário')\n",
    "plt.title('Distribuição dos preços unitários geral')\n",
    "plt.show()"
   ]
  },
  {
   "cell_type": "markdown",
   "metadata": {},
   "source": [
    "- O histograma nos mostra que a grande maioria dos preços unitários dos produtos se encontra entre zero e 25."
   ]
  },
  {
   "cell_type": "code",
   "execution_count": 37,
   "metadata": {},
   "outputs": [
    {
     "data": {
      "image/png": "[encoded data removed]",
      "text/plain": [
       "<Figure size 640x480 with 1 Axes>"
      ]
     },
     "metadata": {},
     "output_type": "display_data"
    }
   ],
   "source": [
    "# Boxplot da distribuição dos preços\n",
    "plt.boxplot(ecommerce_clean_27['unit_price'])\n",
    "plt.ylabel('Preços unitários')\n",
    "plt.title('Distribuição dos preços unitários geral')\n",
    "plt.show()"
   ]
  },
  {
   "cell_type": "markdown",
   "metadata": {},
   "source": [
    "- Com o boxplot dos preços unitarios podemos ver que há vários produtos com valores outliers justificados pelo tipo de produto em si."
   ]
  },
  {
   "cell_type": "code",
   "execution_count": 38,
   "metadata": {},
   "outputs": [
    {
     "name": "stdout",
     "output_type": "stream",
     "text": [
      "O limite superior de preço é:  7.5\n"
     ]
    }
   ],
   "source": [
    "# Calcular o limite superior do boxplot\n",
    "\n",
    "# Calcular o terceiro quartil\n",
    "q3 = ecommerce_clean_27['unit_price'].quantile(0.75)\n",
    "\n",
    "# Calcular o primeiro quartil\n",
    "q1 = ecommerce_clean_27['unit_price'].quantile(0.25)\n",
    "\n",
    "# Calcular o intervalo interquartil (IQR)\n",
    "iqr = q3-q1\n",
    "\n",
    "# Calcular o limite superior\n",
    "upper_limit = q3 + 1.5 * iqr\n",
    "\n",
    "print(\"O limite superior de preço é: \", upper_limit)"
   ]
  },
  {
   "cell_type": "markdown",
   "metadata": {},
   "source": [
    "- Pelo boxplot podemos observar que o limite superior de preço unitario é 7,5 e como a loja vende produtos muito mais caros, mas que saem com menos frequência, isso justifica os outliers."
   ]
  },
  {
   "cell_type": "markdown",
   "metadata": {},
   "source": [
    "### 1.5 Resumo dos dados\n"
   ]
  },
  {
   "cell_type": "code",
   "execution_count": 39,
   "metadata": {},
   "outputs": [
    {
     "data": {
      "text/html": [
       "<div>\n",
       "<style scoped>\n",
       "    .dataframe tbody tr th:only-of-type {\n",
       "        vertical-align: middle;\n",
       "    }\n",
       "\n",
       "    .dataframe tbody tr th {\n",
       "        vertical-align: top;\n",
       "    }\n",
       "\n",
       "    .dataframe thead th {\n",
       "        text-align: right;\n",
       "    }\n",
       "</style>\n",
       "<table border=\"1\" class=\"dataframe\">\n",
       "  <thead>\n",
       "    <tr style=\"text-align: right;\">\n",
       "      <th></th>\n",
       "      <th>products</th>\n",
       "      <th>transactions</th>\n",
       "      <th>customers</th>\n",
       "    </tr>\n",
       "  </thead>\n",
       "  <tbody>\n",
       "    <tr>\n",
       "      <th>quantity</th>\n",
       "      <td>2543</td>\n",
       "      <td>3438</td>\n",
       "      <td>1680</td>\n",
       "    </tr>\n",
       "  </tbody>\n",
       "</table>\n",
       "</div>"
      ],
      "text/plain": [
       "          products  transactions  customers\n",
       "quantity      2543          3438       1680"
      ]
     },
     "execution_count": 39,
     "metadata": {},
     "output_type": "execute_result"
    }
   ],
   "source": [
    "#Criar uma tabela para resumir os dados\n",
    "pd.DataFrame([{'products': len(ecommerce_clean_27['stock_code'].value_counts()),\n",
    "               'transactions':len(ecommerce_clean_27['invoice_no'].value_counts()),\n",
    "               'customers':len(ecommerce_clean_27['customer_id'].value_counts()),\n",
    "               }], columns=['products','transactions','customers'], index=['quantity'])"
   ]
  },
  {
   "cell_type": "markdown",
   "metadata": {},
   "source": [
    "- Após todo o tratamento dos dados podemos ver que os resultados advém de 1680 usuários, os quais compraram 2543 produtos diferentes sendo que o total de transações realizadas foi de 3438."
   ]
  },
  {
   "cell_type": "markdown",
   "metadata": {},
   "source": [
    "### 1.6 Ordens canceladas"
   ]
  },
  {
   "cell_type": "code",
   "execution_count": 40,
   "metadata": {},
   "outputs": [
    {
     "name": "stdout",
     "output_type": "stream",
     "text": [
      "   customer_id invoice_no  number_of_products\n",
      "0        12347     537626                  29\n",
      "1        12347     556201                   1\n",
      "2        12348     539318                   5\n",
      "3        12356     541430                  22\n",
      "4        12357     574740                   5\n",
      "5        12359     540946                  16\n",
      "6        12360     563749                   1\n",
      "7        12364     573401                   1\n",
      "8        12370     538826                  77\n",
      "9        12370     539330                   8\n"
     ]
    }
   ],
   "source": [
    "# Determinar o número de produtos por carrinho\n",
    "temp = ecommerce_clean_27.groupby(by=['customer_id','invoice_no'], as_index=False)['invoice_date'].count()\n",
    "nb_products_per_basket = temp.rename(columns={'invoice_date':'number_of_products'})\n",
    "print(nb_products_per_basket[:10].sort_values('customer_id'))"
   ]
  },
  {
   "cell_type": "code",
   "execution_count": 41,
   "metadata": {},
   "outputs": [
    {
     "data": {
      "text/html": [
       "<div>\n",
       "<style scoped>\n",
       "    .dataframe tbody tr th:only-of-type {\n",
       "        vertical-align: middle;\n",
       "    }\n",
       "\n",
       "    .dataframe tbody tr th {\n",
       "        vertical-align: top;\n",
       "    }\n",
       "\n",
       "    .dataframe thead th {\n",
       "        text-align: right;\n",
       "    }\n",
       "</style>\n",
       "<table border=\"1\" class=\"dataframe\">\n",
       "  <thead>\n",
       "    <tr style=\"text-align: right;\">\n",
       "      <th></th>\n",
       "      <th>customer_id</th>\n",
       "      <th>invoice_no</th>\n",
       "      <th>number_of_products</th>\n",
       "      <th>order_canceled</th>\n",
       "    </tr>\n",
       "  </thead>\n",
       "  <tbody>\n",
       "    <tr>\n",
       "      <th>0</th>\n",
       "      <td>12347</td>\n",
       "      <td>537626</td>\n",
       "      <td>29</td>\n",
       "      <td>0</td>\n",
       "    </tr>\n",
       "    <tr>\n",
       "      <th>1</th>\n",
       "      <td>12347</td>\n",
       "      <td>556201</td>\n",
       "      <td>1</td>\n",
       "      <td>0</td>\n",
       "    </tr>\n",
       "    <tr>\n",
       "      <th>2</th>\n",
       "      <td>12348</td>\n",
       "      <td>539318</td>\n",
       "      <td>5</td>\n",
       "      <td>0</td>\n",
       "    </tr>\n",
       "    <tr>\n",
       "      <th>3</th>\n",
       "      <td>12356</td>\n",
       "      <td>541430</td>\n",
       "      <td>22</td>\n",
       "      <td>0</td>\n",
       "    </tr>\n",
       "    <tr>\n",
       "      <th>4</th>\n",
       "      <td>12357</td>\n",
       "      <td>574740</td>\n",
       "      <td>5</td>\n",
       "      <td>0</td>\n",
       "    </tr>\n",
       "  </tbody>\n",
       "</table>\n",
       "</div>"
      ],
      "text/plain": [
       "   customer_id invoice_no  number_of_products  order_canceled\n",
       "0        12347     537626                  29               0\n",
       "1        12347     556201                   1               0\n",
       "2        12348     539318                   5               0\n",
       "3        12356     541430                  22               0\n",
       "4        12357     574740                   5               0"
      ]
     },
     "metadata": {},
     "output_type": "display_data"
    },
    {
     "name": "stdout",
     "output_type": "stream",
     "text": [
      "Número de ordens canceladas: 0/3438 (0.00%) \n"
     ]
    }
   ],
   "source": [
    "# Determinar o número de ordens canceladas\n",
    "nb_products_per_basket['order_canceled'] = nb_products_per_basket['invoice_no'].apply(lambda x:int('C' in x))\n",
    "display(nb_products_per_basket[:5])\n",
    "\n",
    "# Contabilizar o número de canceladas\n",
    "\n",
    "n1 = nb_products_per_basket['order_canceled'].sum()\n",
    "n2 = nb_products_per_basket.shape[0]\n",
    "print('Número de ordens canceladas: {}/{} ({:.2f}%) '.format(n1, n2, n1/n2*100))"
   ]
  },
  {
   "cell_type": "markdown",
   "metadata": {},
   "source": [
    "- Nesse caso posso observar que não há ordens canceladas dentro do conjunto de dados."
   ]
  },
  {
   "cell_type": "markdown",
   "metadata": {},
   "source": [
    "### 1.7 - Total gasto por ordem"
   ]
  },
  {
   "cell_type": "markdown",
   "metadata": {},
   "source": [
    "#### 1.7.1 - Criando coluna com total gasto"
   ]
  },
  {
   "cell_type": "code",
   "execution_count": 42,
   "metadata": {},
   "outputs": [
    {
     "name": "stderr",
     "output_type": "stream",
     "text": [
      "C:\\Users\\renan\\AppData\\Local\\Temp\\ipykernel_4032\\3784831467.py:1: SettingWithCopyWarning: \n",
      "A value is trying to be set on a copy of a slice from a DataFrame.\n",
      "Try using .loc[row_indexer,col_indexer] = value instead\n",
      "\n",
      "See the caveats in the documentation: https://pandas.pydata.org/pandas-docs/stable/user_guide/indexing.html#returning-a-view-versus-a-copy\n",
      "  ecommerce_clean_27['total_spent'] = (ecommerce_clean_27['unit_price'] * ecommerce_clean_27['quantity'])\n"
     ]
    }
   ],
   "source": [
    "ecommerce_clean_27['total_spent'] = (ecommerce_clean_27['unit_price'] * ecommerce_clean_27['quantity'])"
   ]
  },
  {
   "cell_type": "markdown",
   "metadata": {},
   "source": [
    "#### 1.7.2 Conferindo se todos os valores são numéricos"
   ]
  },
  {
   "cell_type": "code",
   "execution_count": 43,
   "metadata": {},
   "outputs": [
    {
     "name": "stdout",
     "output_type": "stream",
     "text": [
      "A coluna 'total_spent' contém apenas números.\n"
     ]
    }
   ],
   "source": [
    "#Imprimindo para ver se todos os valores da coluna total_spent são numéricos\n",
    "try:\n",
    "    pd.to_numeric(ecommerce_clean_27['total_spent'])\n",
    "    print(\"A coluna 'total_spent' contém apenas números.\")\n",
    "except ValueError:\n",
    "    print(\"A coluna 'total_spent' contém valores não numéricos.\")"
   ]
  },
  {
   "cell_type": "code",
   "execution_count": 44,
   "metadata": {},
   "outputs": [
    {
     "name": "stdout",
     "output_type": "stream",
     "text": [
      "   customer_id invoice_no  basket_total        invoice_date\n",
      "0        12347     537626        650.89 2018-12-05 14:57:00\n",
      "1        12347     556201         10.20 2019-06-07 13:01:00\n",
      "2        12348     539318        292.80 2018-12-14 19:09:00\n",
      "3        12356     541430       1565.58 2019-01-16 09:50:00\n",
      "4        12357     574740        106.56 2019-11-04 16:07:00\n",
      "5        12359     540946        547.50 2019-01-10 12:43:00\n"
     ]
    },
    {
     "name": "stderr",
     "output_type": "stream",
     "text": [
      "C:\\Users\\renan\\AppData\\Local\\Temp\\ipykernel_4032\\1921197234.py:6: SettingWithCopyWarning: \n",
      "A value is trying to be set on a copy of a slice from a DataFrame.\n",
      "Try using .loc[row_indexer,col_indexer] = value instead\n",
      "\n",
      "See the caveats in the documentation: https://pandas.pydata.org/pandas-docs/stable/user_guide/indexing.html#returning-a-view-versus-a-copy\n",
      "  ecommerce_clean_27['date_int'] = ecommerce_clean_27['invoice_date'].astype('int64')\n",
      "C:\\Users\\renan\\AppData\\Local\\Temp\\ipykernel_4032\\1921197234.py:8: SettingWithCopyWarning: \n",
      "A value is trying to be set on a copy of a slice from a DataFrame\n",
      "\n",
      "See the caveats in the documentation: https://pandas.pydata.org/pandas-docs/stable/user_guide/indexing.html#returning-a-view-versus-a-copy\n",
      "  ecommerce_clean_27.drop('date_int', axis=1, inplace=True)\n"
     ]
    }
   ],
   "source": [
    "# Criar tabela temporaria\n",
    "temp = ecommerce_clean_27.groupby(by=['customer_id','invoice_no'], as_index=False)['total_spent'].sum()\n",
    "basket_total = temp.rename(columns={'total_spent':'basket_total'})\n",
    "\n",
    "# Data da compra\n",
    "ecommerce_clean_27['date_int'] = ecommerce_clean_27['invoice_date'].astype('int64')\n",
    "temp = ecommerce_clean_27.groupby(by=['customer_id','invoice_no'], as_index=False)['date_int'].mean()\n",
    "ecommerce_clean_27.drop('date_int', axis=1, inplace=True)\n",
    "basket_total.loc[:, 'invoice_date'] = pd.to_datetime (temp['date_int'])\n",
    "\n",
    "# Mostrar os valores \n",
    "basket_total = basket_total[basket_total['basket_total'] > 0]\n",
    "print(basket_total.sort_values('customer_id')[:6])"
   ]
  },
  {
   "cell_type": "markdown",
   "metadata": {},
   "source": [
    "- Com base nessa segmentação consigo separar o total dos carrinhos por faixas"
   ]
  },
  {
   "cell_type": "code",
   "execution_count": 45,
   "metadata": {},
   "outputs": [],
   "source": [
    "# Separar a distribuição das compras\n",
    "\n",
    "price_range = [0, 50, 100, 200, 500, 1000, 5000, 50000]\n",
    "count_price = []\n",
    "for i, price in enumerate(price_range):\n",
    "    if i == 0: continue\n",
    "    val = basket_total[(basket_total['basket_total'] < price) &\n",
    "                       (basket_total['basket_total'] > price_range[i-1])]['basket_total'].count()\n",
    "    count_price.append(val)"
   ]
  },
  {
   "cell_type": "code",
   "execution_count": 46,
   "metadata": {},
   "outputs": [
    {
     "data": {
      "image/png": "[encoded data removed]",
      "text/plain": [
       "<Figure size 1100x600 with 1 Axes>"
      ]
     },
     "metadata": {},
     "output_type": "display_data"
    }
   ],
   "source": [
    "# Plotar a distribuição das compras\n",
    "\n",
    "plt.rc('font', weight='bold')\n",
    "f, ax = plt.subplots(figsize=(11, 6))\n",
    "colors = ['yellowgreen', 'gold', 'wheat', 'c', 'violet', 'royalblue','firebrick']\n",
    "labels = [ '{}<.<{}'.format(price_range[i-1], s) for i,s in enumerate(price_range) if i != 0]\n",
    "sizes  = count_price\n",
    "explode = [0.0 if sizes[i] < 100 else 0.0 for i in range(len(sizes))]\n",
    "ax.pie(sizes, explode = explode, labels=labels, colors = colors,\n",
    "       autopct = lambda x:'{:1.0f}%'.format(x) if x > 1 else '',\n",
    "       shadow = False, startangle=0)\n",
    "ax.axis('equal')\n",
    "f.text(0.5, 1.01, \"Repartição do total das compras\", ha='center', fontsize = 18);"
   ]
  },
  {
   "cell_type": "markdown",
   "metadata": {},
   "source": [
    "- Com base nos resultados obtidos temos que a maioria das compras (por número do pedido) se encontram entre 0 e 50, representando 51% do total, seguido de carrinhos com valor indo de 200 a 500 o qual representa 22% das ordens."
   ]
  },
  {
   "cell_type": "markdown",
   "metadata": {},
   "source": [
    "### 1.8 Códigos em stock_code"
   ]
  },
  {
   "cell_type": "code",
   "execution_count": 47,
   "metadata": {},
   "outputs": [
    {
     "name": "stdout",
     "output_type": "stream",
     "text": [
      "['POST' 'C2' 'M' 'BANK CHARGES']\n"
     ]
    }
   ],
   "source": [
    "# Obtendo códigos especiais presentes nas células de stock_code\n",
    "list_special_codes = ecommerce_clean_27[ecommerce_clean_27['stock_code'].str.contains('^[a-zA-Z]+', regex=True)]['stock_code'].unique()\n",
    "print(list_special_codes)"
   ]
  },
  {
   "cell_type": "code",
   "execution_count": 48,
   "metadata": {},
   "outputs": [
    {
     "name": "stdout",
     "output_type": "stream",
     "text": [
      "POST            -> POSTAGE                       \n",
      "C2              -> CARRIAGE                      \n",
      "M               -> Manual                        \n",
      "BANK CHARGES    -> Bank Charges                  \n"
     ]
    }
   ],
   "source": [
    "for code in list_special_codes:\n",
    "    print(\"{:<15} -> {:<30}\".format(code, ecommerce_clean_27[ecommerce_clean_27['stock_code'] == code]['description'].unique()[0]))"
   ]
  },
  {
   "cell_type": "markdown",
   "metadata": {},
   "source": [
    "- Podemos ver que existem casos com transações diferentes no dataframe"
   ]
  },
  {
   "cell_type": "markdown",
   "metadata": {},
   "source": [
    "## 2 Adição de dados"
   ]
  },
  {
   "cell_type": "markdown",
   "metadata": {},
   "source": [
    "### 2.1 Adicionar coluna de data, ano, mês e dia no dataframe com base em invoice_date"
   ]
  },
  {
   "cell_type": "code",
   "execution_count": 49,
   "metadata": {},
   "outputs": [
    {
     "name": "stderr",
     "output_type": "stream",
     "text": [
      "C:\\Users\\renan\\AppData\\Local\\Temp\\ipykernel_4032\\1964287090.py:1: SettingWithCopyWarning: \n",
      "A value is trying to be set on a copy of a slice from a DataFrame.\n",
      "Try using .loc[row_indexer,col_indexer] = value instead\n",
      "\n",
      "See the caveats in the documentation: https://pandas.pydata.org/pandas-docs/stable/user_guide/indexing.html#returning-a-view-versus-a-copy\n",
      "  ecommerce_clean_27['date'] = ecommerce_clean_27['invoice_date'].dt.date\n"
     ]
    }
   ],
   "source": [
    "ecommerce_clean_27['date'] = ecommerce_clean_27['invoice_date'].dt.date"
   ]
  },
  {
   "cell_type": "code",
   "execution_count": 50,
   "metadata": {},
   "outputs": [
    {
     "name": "stdout",
     "output_type": "stream",
     "text": [
      "  invoice_no stock_code                     description  quantity  \\\n",
      "2     537626     85232D   SET/3 DECOUPAGE STACKING TINS         3   \n",
      "3     537626      22725  ALARM CLOCK BAKELIKE CHOCOLATE         4   \n",
      "4     537626      22726      ALARM CLOCK BAKELIKE GREEN         4   \n",
      "5     537626      22727       ALARM CLOCK BAKELIKE RED          4   \n",
      "6     537626      22728       ALARM CLOCK BAKELIKE PINK         4   \n",
      "\n",
      "         invoice_date  unit_price  customer_id  total_spent        date  \n",
      "2 2018-12-05 14:57:00        4.95        12347        14.85  2018-12-05  \n",
      "3 2018-12-05 14:57:00        3.75        12347        15.00  2018-12-05  \n",
      "4 2018-12-05 14:57:00        3.75        12347        15.00  2018-12-05  \n",
      "5 2018-12-05 14:57:00        3.75        12347        15.00  2018-12-05  \n",
      "6 2018-12-05 14:57:00        3.75        12347        15.00  2018-12-05  \n"
     ]
    }
   ],
   "source": [
    "# Obtendo os resultados pós adição da coluna 'date'\n",
    "print(ecommerce_clean_27.head())"
   ]
  },
  {
   "cell_type": "code",
   "execution_count": 51,
   "metadata": {},
   "outputs": [
    {
     "name": "stdout",
     "output_type": "stream",
     "text": [
      "<class 'pandas.core.frame.DataFrame'>\n",
      "Index: 36844 entries, 2 to 41230\n",
      "Data columns (total 9 columns):\n",
      " #   Column        Non-Null Count  Dtype         \n",
      "---  ------        --------------  -----         \n",
      " 0   invoice_no    36844 non-null  object        \n",
      " 1   stock_code    36844 non-null  object        \n",
      " 2   description   36844 non-null  object        \n",
      " 3   quantity      36844 non-null  int64         \n",
      " 4   invoice_date  36844 non-null  datetime64[ns]\n",
      " 5   unit_price    36844 non-null  float64       \n",
      " 6   customer_id   36844 non-null  int32         \n",
      " 7   total_spent   36844 non-null  float64       \n",
      " 8   date          36844 non-null  object        \n",
      "dtypes: datetime64[ns](1), float64(2), int32(1), int64(1), object(4)\n",
      "memory usage: 2.7+ MB\n"
     ]
    }
   ],
   "source": [
    "ecommerce_clean_27.info()"
   ]
  },
  {
   "cell_type": "markdown",
   "metadata": {},
   "source": [
    "- Deu certo a inserção de novas colunas no Dataframe"
   ]
  },
  {
   "cell_type": "markdown",
   "metadata": {},
   "source": [
    "## 3 Análise de Coorte"
   ]
  },
  {
   "cell_type": "markdown",
   "metadata": {},
   "source": [
    "#### 3.1 Retorno por usuário"
   ]
  },
  {
   "cell_type": "code",
   "execution_count": 52,
   "metadata": {},
   "outputs": [],
   "source": [
    "#Copiar os dados formatados para outro dataframe para trabalhar\n",
    "coorte_data = ecommerce_clean_27.copy()"
   ]
  },
  {
   "cell_type": "code",
   "execution_count": 53,
   "metadata": {},
   "outputs": [],
   "source": [
    "# Agrupando os dados por cliente e data da compra e separando o valor mínimo\n",
    "first_order_date_by_customers = coorte_data.groupby('customer_id')['invoice_date'].min()"
   ]
  },
  {
   "cell_type": "code",
   "execution_count": 54,
   "metadata": {},
   "outputs": [],
   "source": [
    "# Renomeando a coluna\n",
    "first_order_date_by_customers.name = 'first_order_date'"
   ]
  },
  {
   "cell_type": "code",
   "execution_count": 55,
   "metadata": {},
   "outputs": [],
   "source": [
    "# Unindo os dados de data mínima para cada usuário\n",
    "coorte_data = coorte_data.join(first_order_date_by_customers, on='customer_id')"
   ]
  },
  {
   "cell_type": "code",
   "execution_count": 56,
   "metadata": {},
   "outputs": [],
   "source": [
    "#Separando o mês do primeiro pedido\n",
    "coorte_data['first_order_month'] = pd.to_datetime(coorte_data['first_order_date'], format='%Y-%m-%d').dt.to_period('M')"
   ]
  },
  {
   "cell_type": "code",
   "execution_count": 57,
   "metadata": {},
   "outputs": [],
   "source": [
    "#separando o mês do pedido\n",
    "coorte_data['order_month'] = pd.to_datetime(coorte_data['invoice_date'], format='%Y-%m-%d').dt.to_period('M')"
   ]
  },
  {
   "cell_type": "code",
   "execution_count": 58,
   "metadata": {},
   "outputs": [],
   "source": [
    "#Agrupar os valores de total gasto e usuarios unicos para o primeiro mês do pedido e o mês\n",
    "orders_grouped_by_cohorts = coorte_data.groupby(['first_order_month', 'order_month']).agg({'total_spent': 'sum', 'customer_id': 'nunique'})"
   ]
  },
  {
   "cell_type": "code",
   "execution_count": 59,
   "metadata": {},
   "outputs": [],
   "source": [
    "#Calcular o retorno por usuário\n",
    "orders_grouped_by_cohorts['revenue_per_user'] = (orders_grouped_by_cohorts['total_spent']/ orders_grouped_by_cohorts['customer_id'])"
   ]
  },
  {
   "cell_type": "code",
   "execution_count": 60,
   "metadata": {},
   "outputs": [
    {
     "name": "stdout",
     "output_type": "stream",
     "text": [
      "order_month           2018-11     2018-12     2019-01    2019-02    2019-03  \\\n",
      "first_order_month                                                             \n",
      "2018-11            300.513621  577.375937  437.268333  15.708571  16.772353   \n",
      "2018-12                   NaN  395.600940  383.925301  18.461818  17.804130   \n",
      "2019-01                   NaN         NaN  293.429120  23.503333  13.381818   \n",
      "2019-02                   NaN         NaN         NaN  20.600000  24.000000   \n",
      "2019-03                   NaN         NaN         NaN        NaN  15.144205   \n",
      "2019-04                   NaN         NaN         NaN        NaN        NaN   \n",
      "2019-05                   NaN         NaN         NaN        NaN        NaN   \n",
      "2019-06                   NaN         NaN         NaN        NaN        NaN   \n",
      "2019-07                   NaN         NaN         NaN        NaN        NaN   \n",
      "2019-08                   NaN         NaN         NaN        NaN        NaN   \n",
      "2019-09                   NaN         NaN         NaN        NaN        NaN   \n",
      "2019-10                   NaN         NaN         NaN        NaN        NaN   \n",
      "2019-11                   NaN         NaN         NaN        NaN        NaN   \n",
      "2019-12                   NaN         NaN         NaN        NaN        NaN   \n",
      "\n",
      "order_month          2019-04    2019-05    2019-06    2019-07    2019-08  \\\n",
      "first_order_month                                                          \n",
      "2018-11            24.271250  27.674545  15.986923  13.894545  19.864444   \n",
      "2018-12            14.868387  18.863684  14.170769  18.092703  13.586842   \n",
      "2019-01            39.010000  19.160667  19.032500  62.889000   9.052727   \n",
      "2019-02             9.127500  16.762500  15.120000  17.160000  19.800000   \n",
      "2019-03            22.377500  13.928182  12.240000   8.485714  27.060000   \n",
      "2019-04            18.420208  22.218000   5.282500   8.940000   9.346667   \n",
      "2019-05                  NaN  13.416167  24.700000  37.800000  20.115000   \n",
      "2019-06                  NaN        NaN  12.866600  11.470000   7.780000   \n",
      "2019-07                  NaN        NaN        NaN  18.129800  22.450000   \n",
      "2019-08                  NaN        NaN        NaN        NaN  18.501379   \n",
      "2019-09                  NaN        NaN        NaN        NaN        NaN   \n",
      "2019-10                  NaN        NaN        NaN        NaN        NaN   \n",
      "2019-11                  NaN        NaN        NaN        NaN        NaN   \n",
      "2019-12                  NaN        NaN        NaN        NaN        NaN   \n",
      "\n",
      "order_month          2019-09    2019-10     2019-11    2019-12  \n",
      "first_order_month                                               \n",
      "2018-11            19.224545  13.903750   19.372667  35.965000  \n",
      "2018-12            15.634444  18.298750   17.536154  19.408235  \n",
      "2019-01             5.985000  17.988750    7.881667   8.940000  \n",
      "2019-02            21.980000   4.620000   18.740000        NaN  \n",
      "2019-03            12.641667   8.185000    9.081250  23.916667  \n",
      "2019-04            12.525000  15.195000    2.393333  12.480000  \n",
      "2019-05             9.890000   5.026667    8.175000        NaN  \n",
      "2019-06            13.255000   4.846667    8.715000   8.490000  \n",
      "2019-07            12.353333   0.650000    9.168000        NaN  \n",
      "2019-08            87.670000  84.446667  174.230000  33.680000  \n",
      "2019-09            12.287292  16.071250    5.543333   4.724000  \n",
      "2019-10                  NaN   9.383571   12.200000   5.250000  \n",
      "2019-11                  NaN        NaN   12.477284  12.230000  \n",
      "2019-12                  NaN        NaN         NaN  17.136875  \n"
     ]
    }
   ],
   "source": [
    "#Criar a tabela pivotante com base nos periodos de cada coorte\n",
    "value_spent = orders_grouped_by_cohorts.pivot_table(\n",
    "    index='first_order_month',\n",
    "    columns='order_month',\n",
    "    values='revenue_per_user',\n",
    "    aggfunc='mean',\n",
    ")\n",
    "\n",
    "print(value_spent)"
   ]
  },
  {
   "cell_type": "code",
   "execution_count": 61,
   "metadata": {},
   "outputs": [
    {
     "data": {
      "text/plain": [
       "Text(0.5, 69.7222222222222, 'Mês da compra')"
      ]
     },
     "execution_count": 61,
     "metadata": {},
     "output_type": "execute_result"
    },
    {
     "data": {
      "image/png": "[encoded data removed]",
      "text/plain": [
       "<Figure size 1300x900 with 2 Axes>"
      ]
     },
     "metadata": {},
     "output_type": "display_data"
    }
   ],
   "source": [
    "# Plotando um mapa de calor\n",
    "\n",
    "plt.figure(figsize=(13,9))\n",
    "plt.title('Valor gasto por usuário')\n",
    "sns.heatmap(value_spent,\n",
    "            annot=True,\n",
    "            fmt='.2f',\n",
    "            linecolor='black',)\n",
    "plt.ylabel(\"Primeiro mês de compra\")\n",
    "plt.xlabel(\"Mês da compra\")"
   ]
  },
  {
   "cell_type": "markdown",
   "metadata": {},
   "source": [
    "- Conclusão\n",
    "    - Com base nos dados obtidos podemos ver que para a maioria das coortes há uma redução nos gastos por usuário com o passar do tempo."
   ]
  },
  {
   "cell_type": "markdown",
   "metadata": {},
   "source": [
    "## 4 Segmentação"
   ]
  },
  {
   "cell_type": "markdown",
   "metadata": {},
   "source": [
    "### 4.1 RFM (reincidence, frequency, monetary)"
   ]
  },
  {
   "cell_type": "code",
   "execution_count": 62,
   "metadata": {},
   "outputs": [],
   "source": [
    "rfm_dataframe = ecommerce_clean_27.copy()"
   ]
  },
  {
   "cell_type": "code",
   "execution_count": 63,
   "metadata": {},
   "outputs": [
    {
     "data": {
      "text/html": [
       "<div>\n",
       "<style scoped>\n",
       "    .dataframe tbody tr th:only-of-type {\n",
       "        vertical-align: middle;\n",
       "    }\n",
       "\n",
       "    .dataframe tbody tr th {\n",
       "        vertical-align: top;\n",
       "    }\n",
       "\n",
       "    .dataframe thead th {\n",
       "        text-align: right;\n",
       "    }\n",
       "</style>\n",
       "<table border=\"1\" class=\"dataframe\">\n",
       "  <thead>\n",
       "    <tr style=\"text-align: right;\">\n",
       "      <th></th>\n",
       "      <th>quantity</th>\n",
       "      <th>invoice_date</th>\n",
       "      <th>unit_price</th>\n",
       "      <th>customer_id</th>\n",
       "      <th>total_spent</th>\n",
       "    </tr>\n",
       "  </thead>\n",
       "  <tbody>\n",
       "    <tr>\n",
       "      <th>count</th>\n",
       "      <td>36844.000000</td>\n",
       "      <td>36844</td>\n",
       "      <td>36844.000000</td>\n",
       "      <td>36844.000000</td>\n",
       "      <td>36844.000000</td>\n",
       "    </tr>\n",
       "    <tr>\n",
       "      <th>mean</th>\n",
       "      <td>6.917490</td>\n",
       "      <td>2018-12-31 10:57:37.347736064</td>\n",
       "      <td>3.171272</td>\n",
       "      <td>15405.471909</td>\n",
       "      <td>14.526461</td>\n",
       "    </tr>\n",
       "    <tr>\n",
       "      <th>min</th>\n",
       "      <td>1.000000</td>\n",
       "      <td>2018-11-29 08:26:00</td>\n",
       "      <td>0.000000</td>\n",
       "      <td>12347.000000</td>\n",
       "      <td>0.000000</td>\n",
       "    </tr>\n",
       "    <tr>\n",
       "      <th>25%</th>\n",
       "      <td>2.000000</td>\n",
       "      <td>2018-12-05 11:59:00</td>\n",
       "      <td>1.250000</td>\n",
       "      <td>14032.000000</td>\n",
       "      <td>4.200000</td>\n",
       "    </tr>\n",
       "    <tr>\n",
       "      <th>50%</th>\n",
       "      <td>4.000000</td>\n",
       "      <td>2018-12-12 14:42:00</td>\n",
       "      <td>2.100000</td>\n",
       "      <td>15384.000000</td>\n",
       "      <td>10.200000</td>\n",
       "    </tr>\n",
       "    <tr>\n",
       "      <th>75%</th>\n",
       "      <td>12.000000</td>\n",
       "      <td>2019-01-05 16:32:00</td>\n",
       "      <td>3.750000</td>\n",
       "      <td>17019.000000</td>\n",
       "      <td>17.700000</td>\n",
       "    </tr>\n",
       "    <tr>\n",
       "      <th>max</th>\n",
       "      <td>27.000000</td>\n",
       "      <td>2019-12-07 12:16:00</td>\n",
       "      <td>295.000000</td>\n",
       "      <td>18283.000000</td>\n",
       "      <td>559.200000</td>\n",
       "    </tr>\n",
       "    <tr>\n",
       "      <th>std</th>\n",
       "      <td>6.762105</td>\n",
       "      <td>NaN</td>\n",
       "      <td>5.388481</td>\n",
       "      <td>1763.404482</td>\n",
       "      <td>19.117818</td>\n",
       "    </tr>\n",
       "  </tbody>\n",
       "</table>\n",
       "</div>"
      ],
      "text/plain": [
       "           quantity                   invoice_date    unit_price  \\\n",
       "count  36844.000000                          36844  36844.000000   \n",
       "mean       6.917490  2018-12-31 10:57:37.347736064      3.171272   \n",
       "min        1.000000            2018-11-29 08:26:00      0.000000   \n",
       "25%        2.000000            2018-12-05 11:59:00      1.250000   \n",
       "50%        4.000000            2018-12-12 14:42:00      2.100000   \n",
       "75%       12.000000            2019-01-05 16:32:00      3.750000   \n",
       "max       27.000000            2019-12-07 12:16:00    295.000000   \n",
       "std        6.762105                            NaN      5.388481   \n",
       "\n",
       "        customer_id   total_spent  \n",
       "count  36844.000000  36844.000000  \n",
       "mean   15405.471909     14.526461  \n",
       "min    12347.000000      0.000000  \n",
       "25%    14032.000000      4.200000  \n",
       "50%    15384.000000     10.200000  \n",
       "75%    17019.000000     17.700000  \n",
       "max    18283.000000    559.200000  \n",
       "std     1763.404482     19.117818  "
      ]
     },
     "execution_count": 63,
     "metadata": {},
     "output_type": "execute_result"
    }
   ],
   "source": [
    "rfm_dataframe.describe()"
   ]
  },
  {
   "cell_type": "code",
   "execution_count": 64,
   "metadata": {},
   "outputs": [],
   "source": [
    "# Obtendo os valores de menor e maior data da dimensão de dados\n",
    "\n",
    "menor_data, maior_data = rfm_dataframe['invoice_date'].min(), rfm_dataframe['invoice_date'].max()\n",
    "maior_data = maior_data + pd.DateOffset(days=1) #Adicionado um dia a maior compra para iniciar a analise"
   ]
  },
  {
   "cell_type": "code",
   "execution_count": 65,
   "metadata": {},
   "outputs": [
    {
     "data": {
      "text/html": [
       "<div>\n",
       "<style scoped>\n",
       "    .dataframe tbody tr th:only-of-type {\n",
       "        vertical-align: middle;\n",
       "    }\n",
       "\n",
       "    .dataframe tbody tr th {\n",
       "        vertical-align: top;\n",
       "    }\n",
       "\n",
       "    .dataframe thead th {\n",
       "        text-align: right;\n",
       "    }\n",
       "</style>\n",
       "<table border=\"1\" class=\"dataframe\">\n",
       "  <thead>\n",
       "    <tr style=\"text-align: right;\">\n",
       "      <th></th>\n",
       "      <th>total_spent</th>\n",
       "    </tr>\n",
       "    <tr>\n",
       "      <th>invoice_date</th>\n",
       "      <th></th>\n",
       "    </tr>\n",
       "  </thead>\n",
       "  <tbody>\n",
       "    <tr>\n",
       "      <th>2019-01-04 16:41:00</th>\n",
       "      <td>3164.10</td>\n",
       "    </tr>\n",
       "    <tr>\n",
       "      <th>2019-01-05 12:28:00</th>\n",
       "      <td>2140.11</td>\n",
       "    </tr>\n",
       "    <tr>\n",
       "      <th>2018-12-08 15:45:00</th>\n",
       "      <td>1904.88</td>\n",
       "    </tr>\n",
       "    <tr>\n",
       "      <th>2018-12-12 12:59:00</th>\n",
       "      <td>1883.12</td>\n",
       "    </tr>\n",
       "    <tr>\n",
       "      <th>2018-12-06 15:56:00</th>\n",
       "      <td>1826.51</td>\n",
       "    </tr>\n",
       "    <tr>\n",
       "      <th>2018-12-07 12:17:00</th>\n",
       "      <td>1764.15</td>\n",
       "    </tr>\n",
       "    <tr>\n",
       "      <th>2019-01-08 09:11:00</th>\n",
       "      <td>1715.85</td>\n",
       "    </tr>\n",
       "    <tr>\n",
       "      <th>2018-12-11 15:44:00</th>\n",
       "      <td>1669.52</td>\n",
       "    </tr>\n",
       "    <tr>\n",
       "      <th>2018-12-01 14:04:00</th>\n",
       "      <td>1648.29</td>\n",
       "    </tr>\n",
       "    <tr>\n",
       "      <th>2019-01-11 15:34:00</th>\n",
       "      <td>1608.66</td>\n",
       "    </tr>\n",
       "  </tbody>\n",
       "</table>\n",
       "</div>"
      ],
      "text/plain": [
       "                     total_spent\n",
       "invoice_date                    \n",
       "2019-01-04 16:41:00      3164.10\n",
       "2019-01-05 12:28:00      2140.11\n",
       "2018-12-08 15:45:00      1904.88\n",
       "2018-12-12 12:59:00      1883.12\n",
       "2018-12-06 15:56:00      1826.51\n",
       "2018-12-07 12:17:00      1764.15\n",
       "2019-01-08 09:11:00      1715.85\n",
       "2018-12-11 15:44:00      1669.52\n",
       "2018-12-01 14:04:00      1648.29\n",
       "2019-01-11 15:34:00      1608.66"
      ]
     },
     "execution_count": 65,
     "metadata": {},
     "output_type": "execute_result"
    }
   ],
   "source": [
    "# Obtendo as dez maiores vendas\n",
    "rfm_dataframe.groupby('invoice_date')[['total_spent']].sum().sort_values('total_spent', ascending=False)[:10]"
   ]
  },
  {
   "cell_type": "code",
   "execution_count": 66,
   "metadata": {},
   "outputs": [
    {
     "name": "stdout",
     "output_type": "stream",
     "text": [
      "Produtos mais vendidos (quantidade) \n",
      " ------------------------------------------------------------\n",
      "                                    quantity  total_spent\n",
      "description                                              \n",
      "FANCY FONT BIRTHDAY CARD                3240      1360.80\n",
      "FEATHER PEN HOT PINK                    2054      1027.32\n",
      "KEY FOB SHED                            1977      1316.41\n",
      "ELEPHANT BIRTHDAY CARD                  1562       656.04\n",
      "WHITE HANGING HEART T-LIGHT HOLDER      1559      4555.05\n",
      "KEY FOB BACK DOOR                       1550      1021.22\n",
      "JAM MAKING SET PRINTED                  1524      2209.80\n",
      "BIRTHDAY CARD RETRO SPOT                1452       609.84\n",
      "FEATHER PEN COAL BLACK                  1406       735.30\n",
      "HAND WARMER BABUSHKA DESIGN             1398      2095.80\n",
      "\n",
      "************************************************************\n",
      "Produtos mais vendidos (valor) \n",
      " ------------------------------------------------------------\n",
      "                                    quantity  total_spent\n",
      "description                                              \n",
      "REGENCY CAKESTAND 3 TIER                1090     12589.20\n",
      "POSTAGE                                  375      7568.00\n",
      "SET 3 RETROSPOT TEA COFFEE SUGAR        1332      6188.12\n",
      "WHITE HANGING HEART T-LIGHT HOLDER      1559      4555.05\n",
      "CHILLI LIGHTS                            876      3907.80\n",
      "CHOCOLATE HOT WATER BOTTLE               802      3785.10\n",
      "SCOTTIE DOG HOT WATER BOTTLE             732      3539.40\n",
      "RETROSPOT HEART HOT WATER BOTTLE         719      3420.45\n",
      "VINTAGE RED KITCHEN CABINET               20      3010.00\n",
      "HOT WATER BOTTLE BABUSHKA                618      2869.70\n"
     ]
    }
   ],
   "source": [
    "# Descobrir quais os produtos mais vendidos\n",
    "\n",
    "print('Produtos mais vendidos (quantidade)', '\\n', 60 *'-')\n",
    "print(rfm_dataframe.groupby('description')[['quantity','total_spent']].sum().sort_values('quantity',ascending=False)[:10])\n",
    "print()\n",
    "print(60 * '*')\n",
    "print('Produtos mais vendidos (valor)', '\\n', 60 *'-')\n",
    "print(rfm_dataframe.groupby('description')[['quantity','total_spent']].sum().sort_values('total_spent',ascending=False)[:10])"
   ]
  },
  {
   "cell_type": "markdown",
   "metadata": {},
   "source": [
    "- Temos agora o top 10 produtos mais vendidos em quantidade e o top 10 produtos mais vendidos por valor financeiro gerado"
   ]
  },
  {
   "cell_type": "code",
   "execution_count": 67,
   "metadata": {},
   "outputs": [],
   "source": [
    "# Dividir os valores em quatro períodos de análise\n",
    "\n",
    "periodoA, periodoB, periodoC, periodoD = pd.date_range(menor_data, maior_data, periods=4)"
   ]
  },
  {
   "cell_type": "code",
   "execution_count": 68,
   "metadata": {},
   "outputs": [
    {
     "data": {
      "text/html": [
       "<div>\n",
       "<style scoped>\n",
       "    .dataframe tbody tr th:only-of-type {\n",
       "        vertical-align: middle;\n",
       "    }\n",
       "\n",
       "    .dataframe tbody tr th {\n",
       "        vertical-align: top;\n",
       "    }\n",
       "\n",
       "    .dataframe thead th {\n",
       "        text-align: right;\n",
       "    }\n",
       "</style>\n",
       "<table border=\"1\" class=\"dataframe\">\n",
       "  <thead>\n",
       "    <tr style=\"text-align: right;\">\n",
       "      <th></th>\n",
       "      <th>recency</th>\n",
       "      <th>frequency</th>\n",
       "      <th>monetary</th>\n",
       "    </tr>\n",
       "    <tr>\n",
       "      <th>customer_id</th>\n",
       "      <th></th>\n",
       "      <th></th>\n",
       "      <th></th>\n",
       "    </tr>\n",
       "  </thead>\n",
       "  <tbody>\n",
       "    <tr>\n",
       "      <th>12356</th>\n",
       "      <td>326</td>\n",
       "      <td>22</td>\n",
       "      <td>1565.58</td>\n",
       "    </tr>\n",
       "    <tr>\n",
       "      <th>12370</th>\n",
       "      <td>51</td>\n",
       "      <td>87</td>\n",
       "      <td>1550.77</td>\n",
       "    </tr>\n",
       "    <tr>\n",
       "      <th>12377</th>\n",
       "      <td>355</td>\n",
       "      <td>43</td>\n",
       "      <td>1001.52</td>\n",
       "    </tr>\n",
       "    <tr>\n",
       "      <th>12347</th>\n",
       "      <td>183</td>\n",
       "      <td>30</td>\n",
       "      <td>661.09</td>\n",
       "    </tr>\n",
       "    <tr>\n",
       "      <th>12359</th>\n",
       "      <td>331</td>\n",
       "      <td>16</td>\n",
       "      <td>547.50</td>\n",
       "    </tr>\n",
       "    <tr>\n",
       "      <th>12348</th>\n",
       "      <td>358</td>\n",
       "      <td>5</td>\n",
       "      <td>292.80</td>\n",
       "    </tr>\n",
       "    <tr>\n",
       "      <th>12357</th>\n",
       "      <td>33</td>\n",
       "      <td>5</td>\n",
       "      <td>106.56</td>\n",
       "    </tr>\n",
       "    <tr>\n",
       "      <th>12378</th>\n",
       "      <td>130</td>\n",
       "      <td>1</td>\n",
       "      <td>51.00</td>\n",
       "    </tr>\n",
       "    <tr>\n",
       "      <th>12360</th>\n",
       "      <td>113</td>\n",
       "      <td>1</td>\n",
       "      <td>5.04</td>\n",
       "    </tr>\n",
       "    <tr>\n",
       "      <th>12364</th>\n",
       "      <td>40</td>\n",
       "      <td>1</td>\n",
       "      <td>5.04</td>\n",
       "    </tr>\n",
       "  </tbody>\n",
       "</table>\n",
       "</div>"
      ],
      "text/plain": [
       "             recency  frequency  monetary\n",
       "customer_id                              \n",
       "12356            326         22   1565.58\n",
       "12370             51         87   1550.77\n",
       "12377            355         43   1001.52\n",
       "12347            183         30    661.09\n",
       "12359            331         16    547.50\n",
       "12348            358          5    292.80\n",
       "12357             33          5    106.56\n",
       "12378            130          1     51.00\n",
       "12360            113          1      5.04\n",
       "12364             40          1      5.04"
      ]
     },
     "metadata": {},
     "output_type": "display_data"
    }
   ],
   "source": [
    "rfm_table = rfm_dataframe.groupby('customer_id').agg({'invoice_date': lambda date: (maior_data - date.max()).days,\n",
    "                                                      'invoice_no': lambda num: len(num),\n",
    "                                                      'total_spent': lambda valor: valor.sum()})\n",
    "\n",
    "# Renomear as colunas para condizer com a análise RFM\n",
    "rfm_table.columns = ['recency','frequency','monetary']\n",
    "display(rfm_table.head(10).sort_values('monetary', ascending=False))\n"
   ]
  },
  {
   "cell_type": "markdown",
   "metadata": {},
   "source": [
    "- Essa tabela nos mostra que o consumidor que mais gastou trouxe um retorno de 1565,58, com uma baixa frequência em comparação ao anterior porém faz tempo que não realiza alguma compra pois a recencia está em 326 dias."
   ]
  },
  {
   "cell_type": "code",
   "execution_count": 69,
   "metadata": {},
   "outputs": [
    {
     "data": {
      "text/html": [
       "<div>\n",
       "<style scoped>\n",
       "    .dataframe tbody tr th:only-of-type {\n",
       "        vertical-align: middle;\n",
       "    }\n",
       "\n",
       "    .dataframe tbody tr th {\n",
       "        vertical-align: top;\n",
       "    }\n",
       "\n",
       "    .dataframe thead th {\n",
       "        text-align: right;\n",
       "    }\n",
       "</style>\n",
       "<table border=\"1\" class=\"dataframe\">\n",
       "  <thead>\n",
       "    <tr style=\"text-align: right;\">\n",
       "      <th></th>\n",
       "      <th>recency</th>\n",
       "      <th>frequency</th>\n",
       "      <th>monetary</th>\n",
       "    </tr>\n",
       "    <tr>\n",
       "      <th>customer_id</th>\n",
       "      <th></th>\n",
       "      <th></th>\n",
       "      <th></th>\n",
       "    </tr>\n",
       "  </thead>\n",
       "  <tbody>\n",
       "    <tr>\n",
       "      <th>12370</th>\n",
       "      <td>51</td>\n",
       "      <td>87</td>\n",
       "      <td>1550.77</td>\n",
       "    </tr>\n",
       "    <tr>\n",
       "      <th>12377</th>\n",
       "      <td>355</td>\n",
       "      <td>43</td>\n",
       "      <td>1001.52</td>\n",
       "    </tr>\n",
       "    <tr>\n",
       "      <th>12347</th>\n",
       "      <td>183</td>\n",
       "      <td>30</td>\n",
       "      <td>661.09</td>\n",
       "    </tr>\n",
       "    <tr>\n",
       "      <th>12356</th>\n",
       "      <td>326</td>\n",
       "      <td>22</td>\n",
       "      <td>1565.58</td>\n",
       "    </tr>\n",
       "    <tr>\n",
       "      <th>12359</th>\n",
       "      <td>331</td>\n",
       "      <td>16</td>\n",
       "      <td>547.50</td>\n",
       "    </tr>\n",
       "    <tr>\n",
       "      <th>12348</th>\n",
       "      <td>358</td>\n",
       "      <td>5</td>\n",
       "      <td>292.80</td>\n",
       "    </tr>\n",
       "    <tr>\n",
       "      <th>12357</th>\n",
       "      <td>33</td>\n",
       "      <td>5</td>\n",
       "      <td>106.56</td>\n",
       "    </tr>\n",
       "    <tr>\n",
       "      <th>12360</th>\n",
       "      <td>113</td>\n",
       "      <td>1</td>\n",
       "      <td>5.04</td>\n",
       "    </tr>\n",
       "    <tr>\n",
       "      <th>12364</th>\n",
       "      <td>40</td>\n",
       "      <td>1</td>\n",
       "      <td>5.04</td>\n",
       "    </tr>\n",
       "    <tr>\n",
       "      <th>12378</th>\n",
       "      <td>130</td>\n",
       "      <td>1</td>\n",
       "      <td>51.00</td>\n",
       "    </tr>\n",
       "  </tbody>\n",
       "</table>\n",
       "</div>"
      ],
      "text/plain": [
       "             recency  frequency  monetary\n",
       "customer_id                              \n",
       "12370             51         87   1550.77\n",
       "12377            355         43   1001.52\n",
       "12347            183         30    661.09\n",
       "12356            326         22   1565.58\n",
       "12359            331         16    547.50\n",
       "12348            358          5    292.80\n",
       "12357             33          5    106.56\n",
       "12360            113          1      5.04\n",
       "12364             40          1      5.04\n",
       "12378            130          1     51.00"
      ]
     },
     "metadata": {},
     "output_type": "display_data"
    }
   ],
   "source": [
    "# Renomear as colunas para condizer com a análise RFM\n",
    "rfm_table.columns = ['recency','frequency','monetary']\n",
    "\n",
    "# Visualizar o resultado\n",
    "display(rfm_table.head(10).sort_values('frequency', ascending=False))"
   ]
  },
  {
   "cell_type": "markdown",
   "metadata": {},
   "source": [
    "- Esta tabela nos traz que alguns clientes apresentam maior frequência de compras no site."
   ]
  },
  {
   "cell_type": "code",
   "execution_count": 70,
   "metadata": {},
   "outputs": [
    {
     "data": {
      "text/html": [
       "<div>\n",
       "<style scoped>\n",
       "    .dataframe tbody tr th:only-of-type {\n",
       "        vertical-align: middle;\n",
       "    }\n",
       "\n",
       "    .dataframe tbody tr th {\n",
       "        vertical-align: top;\n",
       "    }\n",
       "\n",
       "    .dataframe thead th {\n",
       "        text-align: right;\n",
       "    }\n",
       "</style>\n",
       "<table border=\"1\" class=\"dataframe\">\n",
       "  <thead>\n",
       "    <tr style=\"text-align: right;\">\n",
       "      <th></th>\n",
       "      <th>recency</th>\n",
       "      <th>frequency</th>\n",
       "      <th>monetary</th>\n",
       "    </tr>\n",
       "    <tr>\n",
       "      <th>customer_id</th>\n",
       "      <th></th>\n",
       "      <th></th>\n",
       "      <th></th>\n",
       "    </tr>\n",
       "  </thead>\n",
       "  <tbody>\n",
       "    <tr>\n",
       "      <th>12348</th>\n",
       "      <td>358</td>\n",
       "      <td>5</td>\n",
       "      <td>292.80</td>\n",
       "    </tr>\n",
       "    <tr>\n",
       "      <th>12377</th>\n",
       "      <td>355</td>\n",
       "      <td>43</td>\n",
       "      <td>1001.52</td>\n",
       "    </tr>\n",
       "    <tr>\n",
       "      <th>12359</th>\n",
       "      <td>331</td>\n",
       "      <td>16</td>\n",
       "      <td>547.50</td>\n",
       "    </tr>\n",
       "    <tr>\n",
       "      <th>12356</th>\n",
       "      <td>326</td>\n",
       "      <td>22</td>\n",
       "      <td>1565.58</td>\n",
       "    </tr>\n",
       "    <tr>\n",
       "      <th>12347</th>\n",
       "      <td>183</td>\n",
       "      <td>30</td>\n",
       "      <td>661.09</td>\n",
       "    </tr>\n",
       "    <tr>\n",
       "      <th>12378</th>\n",
       "      <td>130</td>\n",
       "      <td>1</td>\n",
       "      <td>51.00</td>\n",
       "    </tr>\n",
       "    <tr>\n",
       "      <th>12360</th>\n",
       "      <td>113</td>\n",
       "      <td>1</td>\n",
       "      <td>5.04</td>\n",
       "    </tr>\n",
       "    <tr>\n",
       "      <th>12370</th>\n",
       "      <td>51</td>\n",
       "      <td>87</td>\n",
       "      <td>1550.77</td>\n",
       "    </tr>\n",
       "    <tr>\n",
       "      <th>12364</th>\n",
       "      <td>40</td>\n",
       "      <td>1</td>\n",
       "      <td>5.04</td>\n",
       "    </tr>\n",
       "    <tr>\n",
       "      <th>12357</th>\n",
       "      <td>33</td>\n",
       "      <td>5</td>\n",
       "      <td>106.56</td>\n",
       "    </tr>\n",
       "  </tbody>\n",
       "</table>\n",
       "</div>"
      ],
      "text/plain": [
       "             recency  frequency  monetary\n",
       "customer_id                              \n",
       "12348            358          5    292.80\n",
       "12377            355         43   1001.52\n",
       "12359            331         16    547.50\n",
       "12356            326         22   1565.58\n",
       "12347            183         30    661.09\n",
       "12378            130          1     51.00\n",
       "12360            113          1      5.04\n",
       "12370             51         87   1550.77\n",
       "12364             40          1      5.04\n",
       "12357             33          5    106.56"
      ]
     },
     "metadata": {},
     "output_type": "display_data"
    }
   ],
   "source": [
    "# Ordenar conforme 'recency'\n",
    "\n",
    "rfm_table.columns = ['recency','frequency','monetary']\n",
    "# Visualizar o resultado\n",
    "display(rfm_table.head(10).sort_values('recency', ascending=False))"
   ]
  },
  {
   "cell_type": "markdown",
   "metadata": {},
   "source": [
    "- Esta tabela nos traz que temos alguns consumidores que não realizam compras a mais de 300 dias."
   ]
  },
  {
   "cell_type": "code",
   "execution_count": 71,
   "metadata": {},
   "outputs": [],
   "source": [
    "# Classificando os dados de acordo com quartis \n",
    "rfm_table['recency_quartile'] = pd.qcut(rfm_table['recency'], 4, ['1','2','3','4']) # mais recente, mais importante\n",
    "rfm_table['frequency_quartile'] = pd.qcut(rfm_table['frequency'], 4, ['4','3','2','1']) # menos frequencia, menos importante\n",
    "rfm_table['monetary_quartile'] = pd.qcut(rfm_table['monetary'], 4, ['4','3','2','1']) # menos consumo, manos importante"
   ]
  },
  {
   "cell_type": "code",
   "execution_count": 72,
   "metadata": {},
   "outputs": [
    {
     "name": "stdout",
     "output_type": "stream",
     "text": [
      "             recency  frequency  monetary recency_quartile frequency_quartile  \\\n",
      "customer_id                                                                     \n",
      "12347            183         30    661.09                2                  1   \n",
      "12348            358          5    292.80                4                  3   \n",
      "12356            326         22   1565.58                3                  2   \n",
      "12357             33          5    106.56                1                  3   \n",
      "12359            331         16    547.50                3                  2   \n",
      "\n",
      "            monetary_quartile  \n",
      "customer_id                    \n",
      "12347                       1  \n",
      "12348                       2  \n",
      "12356                       1  \n",
      "12357                       3  \n",
      "12359                       1  \n"
     ]
    }
   ],
   "source": [
    "# Exibindo o resultado\n",
    "print(rfm_table.head())"
   ]
  },
  {
   "cell_type": "code",
   "execution_count": 73,
   "metadata": {},
   "outputs": [
    {
     "data": {
      "text/html": [
       "<div>\n",
       "<style scoped>\n",
       "    .dataframe tbody tr th:only-of-type {\n",
       "        vertical-align: middle;\n",
       "    }\n",
       "\n",
       "    .dataframe tbody tr th {\n",
       "        vertical-align: top;\n",
       "    }\n",
       "\n",
       "    .dataframe thead th {\n",
       "        text-align: right;\n",
       "    }\n",
       "</style>\n",
       "<table border=\"1\" class=\"dataframe\">\n",
       "  <thead>\n",
       "    <tr style=\"text-align: right;\">\n",
       "      <th></th>\n",
       "      <th>recency</th>\n",
       "      <th>frequency</th>\n",
       "      <th>monetary</th>\n",
       "      <th>recency_quartile</th>\n",
       "      <th>frequency_quartile</th>\n",
       "      <th>monetary_quartile</th>\n",
       "      <th>rfm_score</th>\n",
       "    </tr>\n",
       "    <tr>\n",
       "      <th>customer_id</th>\n",
       "      <th></th>\n",
       "      <th></th>\n",
       "      <th></th>\n",
       "      <th></th>\n",
       "      <th></th>\n",
       "      <th></th>\n",
       "      <th></th>\n",
       "    </tr>\n",
       "  </thead>\n",
       "  <tbody>\n",
       "    <tr>\n",
       "      <th>12348</th>\n",
       "      <td>358</td>\n",
       "      <td>5</td>\n",
       "      <td>292.80</td>\n",
       "      <td>4</td>\n",
       "      <td>3</td>\n",
       "      <td>2</td>\n",
       "      <td>43</td>\n",
       "    </tr>\n",
       "    <tr>\n",
       "      <th>12356</th>\n",
       "      <td>326</td>\n",
       "      <td>22</td>\n",
       "      <td>1565.58</td>\n",
       "      <td>3</td>\n",
       "      <td>2</td>\n",
       "      <td>1</td>\n",
       "      <td>32</td>\n",
       "    </tr>\n",
       "    <tr>\n",
       "      <th>12359</th>\n",
       "      <td>331</td>\n",
       "      <td>16</td>\n",
       "      <td>547.50</td>\n",
       "      <td>3</td>\n",
       "      <td>2</td>\n",
       "      <td>1</td>\n",
       "      <td>32</td>\n",
       "    </tr>\n",
       "    <tr>\n",
       "      <th>12347</th>\n",
       "      <td>183</td>\n",
       "      <td>30</td>\n",
       "      <td>661.09</td>\n",
       "      <td>2</td>\n",
       "      <td>1</td>\n",
       "      <td>1</td>\n",
       "      <td>21</td>\n",
       "    </tr>\n",
       "    <tr>\n",
       "      <th>12357</th>\n",
       "      <td>33</td>\n",
       "      <td>5</td>\n",
       "      <td>106.56</td>\n",
       "      <td>1</td>\n",
       "      <td>3</td>\n",
       "      <td>3</td>\n",
       "      <td>13</td>\n",
       "    </tr>\n",
       "  </tbody>\n",
       "</table>\n",
       "</div>"
      ],
      "text/plain": [
       "             recency  frequency  monetary recency_quartile frequency_quartile  \\\n",
       "customer_id                                                                     \n",
       "12348            358          5    292.80                4                  3   \n",
       "12356            326         22   1565.58                3                  2   \n",
       "12359            331         16    547.50                3                  2   \n",
       "12347            183         30    661.09                2                  1   \n",
       "12357             33          5    106.56                1                  3   \n",
       "\n",
       "            monetary_quartile rfm_score  \n",
       "customer_id                              \n",
       "12348                       2        43  \n",
       "12356                       1        32  \n",
       "12359                       1        32  \n",
       "12347                       1        21  \n",
       "12357                       3        13  "
      ]
     },
     "execution_count": 73,
     "metadata": {},
     "output_type": "execute_result"
    }
   ],
   "source": [
    "# Obtendo o score de cada usuário baseand-se na recencia e frequência\n",
    "rfm_table['rfm_score'] = rfm_table.recency_quartile.astype(str) + rfm_table.frequency_quartile.astype(str)\n",
    "rfm_table.head().sort_values('rfm_score', ascending=False)"
   ]
  },
  {
   "cell_type": "markdown",
   "metadata": {},
   "source": [
    "- Com o auxilio do score podemos separar quais os clientes possuem uma maior nota RFM e possivelmente enviar promoções para o mesmo.\n",
    "    - Essa estratégia também serve para clientes com baixa nota, o que pode ser enviado para eles que estimule sua compra no site?\n",
    "\n",
    "- Ainda, com base nos rfm_score é possível então segmentar os clientes em grupos: alto, médio e baixo."
   ]
  },
  {
   "cell_type": "code",
   "execution_count": 74,
   "metadata": {},
   "outputs": [
    {
     "name": "stdout",
     "output_type": "stream",
     "text": [
      "             recency  frequency  monetary recency_quartile frequency_quartile  \\\n",
      "customer_id                                                                     \n",
      "12348            358          5    292.80                4                  3   \n",
      "12356            326         22   1565.58                3                  2   \n",
      "12359            331         16    547.50                3                  2   \n",
      "12347            183         30    661.09                2                  1   \n",
      "12357             33          5    106.56                1                  3   \n",
      "\n",
      "            monetary_quartile rfm_score              segment  \n",
      "customer_id                                                   \n",
      "12348                       2        43  potential_loyalists  \n",
      "12356                       1        32       about_to_sleep  \n",
      "12359                       1        32       about_to_sleep  \n",
      "12347                       1        21          hibernating  \n",
      "12357                       3        13              at_risk  \n"
     ]
    }
   ],
   "source": [
    "# Criar segmentação de clientes\n",
    "seg_map = {\n",
    "    r'[1-2][1-2]': 'hibernating',\n",
    "    r'[1-2][3-4]': 'at_risk',\n",
    "    r'[1-2]5': 'cant_lose',\n",
    "    r'3[1-2]': 'about_to_sleep',\n",
    "    r'33': 'need_attention',\n",
    "    r'[3-4][4-5]': 'loyal_customers',\n",
    "    r'41': 'promising',\n",
    "    r'51': 'new_customers',\n",
    "    r'[4-5][2-3]': 'potential_loyalists',\n",
    "    r'5[4-5]': 'champions'\n",
    "}\n",
    "\n",
    "rfm_table['segment'] = rfm_table['rfm_score'].astype(str).replace(seg_map, regex=True)\n",
    "\n",
    "print(rfm_table.head().sort_values('rfm_score', ascending=False))\n"
   ]
  },
  {
   "cell_type": "code",
   "execution_count": 75,
   "metadata": {},
   "outputs": [
    {
     "data": {
      "text/plain": [
       "'\\nChampions — compraram recentemente, compram com frequência e gastam mais.\\nLoyal Customers — gastam um bom dinheiro e respondem bem às promoções.\\nPotential Loyalists — clientes recentes, que gastaram uma boa quantia e compraram mais de uma vez.\\nNew Customers — compraram recentemente, mas não com frequência.\\nPromissing — compradores recentes, mas que não gastaram muito.\\nNeed Attention — recência, frequência e valores monetários acima da média; mas podem não ter comprado muito recentemente.\\nAbout To Sleep — recência, frequência e valores monetários abaixo da média; serão perdidos se não forem reativados.\\nAt Risk — gastaram muito dinheiro e compraram com frequência, mas há muito tempo; é preciso trazê-los de volta.\\nCan’t Lose Them — fizeram compras grandes e muitas vezes, mas não voltam a realizar transações há muito tempo.\\nHibernating — a última compra foi há muito tempo, pouco gastadores e baixo número de pedidos.'"
      ]
     },
     "execution_count": 75,
     "metadata": {},
     "output_type": "execute_result"
    }
   ],
   "source": [
    "'''\n",
    "Champions — compraram recentemente, compram com frequência e gastam mais.\n",
    "Loyal Customers — gastam um bom dinheiro e respondem bem às promoções.\n",
    "Potential Loyalists — clientes recentes, que gastaram uma boa quantia e compraram mais de uma vez.\n",
    "New Customers — compraram recentemente, mas não com frequência.\n",
    "Promissing — compradores recentes, mas que não gastaram muito.\n",
    "Need Attention — recência, frequência e valores monetários acima da média; mas podem não ter comprado muito recentemente.\n",
    "About To Sleep — recência, frequência e valores monetários abaixo da média; serão perdidos se não forem reativados.\n",
    "At Risk — gastaram muito dinheiro e compraram com frequência, mas há muito tempo; é preciso trazê-los de volta.\n",
    "Can’t Lose Them — fizeram compras grandes e muitas vezes, mas não voltam a realizar transações há muito tempo.\n",
    "Hibernating — a última compra foi há muito tempo, pouco gastadores e baixo número de pedidos.'''"
   ]
  },
  {
   "cell_type": "code",
   "execution_count": 76,
   "metadata": {},
   "outputs": [
    {
     "name": "stdout",
     "output_type": "stream",
     "text": [
      "Index(['recency', 'frequency', 'monetary', 'recency_quartile',\n",
      "       'frequency_quartile', 'monetary_quartile', 'rfm_score', 'segment'],\n",
      "      dtype='object')\n"
     ]
    }
   ],
   "source": [
    "print(rfm_table.columns)"
   ]
  },
  {
   "cell_type": "code",
   "execution_count": 77,
   "metadata": {},
   "outputs": [
    {
     "data": {
      "text/plain": [
       "Text(0.5, 1.0, 'Número total de usuários por segmento')"
      ]
     },
     "execution_count": 77,
     "metadata": {},
     "output_type": "execute_result"
    },
    {
     "data": {
      "image/png": "[encoded data removed]",
      "text/plain": [
       "<Figure size 1000x600 with 1 Axes>"
      ]
     },
     "metadata": {},
     "output_type": "display_data"
    }
   ],
   "source": [
    "# Criar um gráfico de barras para a distribuição do total de usuários dentro de cada segmento\n",
    "\n",
    "segment_users = rfm_table['segment'].value_counts()\n",
    "\n",
    "# Plotando os dados\n",
    "plt.figure(figsize=[10,6])\n",
    "segment_users.plot(kind='bar')\n",
    "plt.ylabel('Numero de usuários')\n",
    "plt.xlabel('Segmento')\n",
    "plt.xticks(rotation=45)\n",
    "plt.title(\"Número total de usuários por segmento\")"
   ]
  },
  {
   "cell_type": "code",
   "execution_count": 78,
   "metadata": {},
   "outputs": [
    {
     "name": "stdout",
     "output_type": "stream",
     "text": [
      "segment\n",
      "at_risk                563\n",
      "potential_loyalists    298\n",
      "hibernating            277\n",
      "about_to_sleep         268\n",
      "loyal_customers        100\n",
      "promising               99\n",
      "need_attention          75\n",
      "Name: count, dtype: int64\n"
     ]
    }
   ],
   "source": [
    "print(segment_users)"
   ]
  },
  {
   "cell_type": "markdown",
   "metadata": {},
   "source": [
    "- Conclusão \n",
    "    - Com base no gráfico de barras podemos observar que a maioria dos clientes se encontra no segmento de risco (at_risk). Clientes potenciais fieis (potential_loyalists) estão em segundo lugar e clientes em estado de hibernação (hibernating) e próximo a hibernar (about_to_sleep) também fazem parte dos clientes com mais representatividade.\n",
    "   "
   ]
  },
  {
   "cell_type": "markdown",
   "metadata": {},
   "source": [
    "### 4.2 Por produtos"
   ]
  },
  {
   "cell_type": "markdown",
   "metadata": {},
   "source": [
    "#### 4.2.1 Separar as palavras chave na descrção dos produtos."
   ]
  },
  {
   "cell_type": "code",
   "execution_count": 79,
   "metadata": {},
   "outputs": [],
   "source": [
    "# Copiar os dados alterados para usar na separação por produtos\n",
    "\n",
    "per_product_df = ecommerce_clean_27.copy()"
   ]
  },
  {
   "cell_type": "markdown",
   "metadata": {},
   "source": [
    "- Pode ser realizada a segmentação por nome dos produtos para posterior agrupamento dos dados"
   ]
  },
  {
   "cell_type": "code",
   "execution_count": 80,
   "metadata": {},
   "outputs": [],
   "source": [
    "# Extrair a variável da descrição\n",
    "\n",
    "is_noun = lambda pos: pos[:2] == 'NN'\n",
    "\n",
    "# Criando a função\n",
    "\n",
    "def keywords_inventory(dataframe, colonne = 'description'):\n",
    "    stemmer = nltk.stem.SnowballStemmer(\"english\") # entende que as palavras estão em inglês\n",
    "    keywords_roots = dict() #coleta as palavras\n",
    "    keywords_select = dict() #associa raiz a palavra\n",
    "    category_keys = []\n",
    "    count_keywords = dict()\n",
    "    icount = 0\n",
    "    for s in dataframe[colonne]:\n",
    "        if pd.isnull(s): continue\n",
    "        lines = s.lower()\n",
    "        tokenized = nltk.word_tokenize(lines)\n",
    "        nouns = [word for (word,pos) in nltk.pos_tag(tokenized) if is_noun(pos)]\n",
    "\n",
    "        for t in nouns:\n",
    "            t = t.lower() ; racine = stemmer.stem(t)\n",
    "            if racine in keywords_roots:\n",
    "                keywords_roots[racine].add(t)\n",
    "                count_keywords[racine] += 1\n",
    "            else:\n",
    "                keywords_roots[racine] = {t}\n",
    "                count_keywords[racine] = 1\n",
    "    \n",
    "    for s in keywords_roots.keys():\n",
    "        if len(keywords_roots[s])> 1:\n",
    "            min_length = 1000\n",
    "            for k in keywords_roots[s]:\n",
    "                if len(k) < min_length:\n",
    "                    clef = k ; min_length = len(k)\n",
    "            category_keys.append(clef)\n",
    "            keywords_select[s] = clef\n",
    "        else:\n",
    "            category_keys.append(list(keywords_roots[s])[0])\n",
    "            keywords_select[s] = list(keywords_roots[s])[0]\n",
    "    \n",
    "    print(\"Num de palavras chave na variavel '{}' : {}\".format(colonne,len(category_keys)))\n",
    "    return category_keys,keywords_roots, keywords_select, count_keywords\n"
   ]
  },
  {
   "cell_type": "markdown",
   "metadata": {},
   "source": [
    "- Em resumo, essa função:\n",
    "    - Extrai os nomes que aparecem na descrição dos produtos\n",
    "    - Para cada nome extrai a raiz da palavra e agrega o conjunto de nomes associados a essa palavra em particular\n",
    "    - conta o número de vezes que cada 'raiz' aparece no dataframe\n",
    "    - quando várias palavras são listadas para a mesma raiz, considera que a álavra associada a essa raiz é o menor nome"
   ]
  },
  {
   "cell_type": "code",
   "execution_count": 81,
   "metadata": {},
   "outputs": [],
   "source": [
    "# Retornar a lista de produtos\n",
    "\n",
    "df_products = pd.DataFrame(per_product_df['description'].unique()).rename(columns={0:'description'})"
   ]
  },
  {
   "cell_type": "code",
   "execution_count": 82,
   "metadata": {},
   "outputs": [
    {
     "name": "stdout",
     "output_type": "stream",
     "text": [
      "Num de palavras chave na variavel 'description' : 1176\n"
     ]
    }
   ],
   "source": [
    "# Após criar a lista uso a função para analizar a descrição dos vários produtos\n",
    "keywords, keywords_roots, keywords_select, count_keywords = keywords_inventory(df_products)"
   ]
  },
  {
   "cell_type": "code",
   "execution_count": 83,
   "metadata": {},
   "outputs": [
    {
     "data": {
      "text/plain": [
       "'\\nIsso resulta em três variáveis:\\n    keywords: a lista das palavras chave extraidas\\n    keywords_roots: um dicionário onde as chaves são as palavras chaves e os valores a lista de palavras associadas a essas raizes\\n    count_keywords: um dicionario listando o número de vezes que cada palavra é usada\\n'"
      ]
     },
     "execution_count": 83,
     "metadata": {},
     "output_type": "execute_result"
    }
   ],
   "source": [
    "'''\n",
    "Isso resulta em três variáveis:\n",
    "    keywords: a lista das palavras chave extraidas\n",
    "    keywords_roots: um dicionário onde as chaves são as palavras chaves e os valores a lista de palavras associadas a essas raizes\n",
    "    count_keywords: um dicionario listando o número de vezes que cada palavra é usada\n",
    "'''"
   ]
  },
  {
   "cell_type": "code",
   "execution_count": 84,
   "metadata": {},
   "outputs": [],
   "source": [
    "# Transformar count_keywords em uma lista para distribui-las conforme a frequência\n",
    "\n",
    "list_products = []\n",
    "for k, v in count_keywords.items():\n",
    "    list_products.append([keywords_select[k],v])\n",
    "list_products.sort(key = lambda x:x[1], reverse = True)"
   ]
  },
  {
   "cell_type": "code",
   "execution_count": 85,
   "metadata": {},
   "outputs": [
    {
     "data": {
      "image/png": "[encoded data removed]",
      "text/plain": [
       "<Figure size 700x2500 with 1 Axes>"
      ]
     },
     "metadata": {},
     "output_type": "display_data"
    }
   ],
   "source": [
    "# Plotar o resultado\n",
    "\n",
    "list = sorted(list_products, key = lambda x:x[1], reverse = True)\n",
    "\n",
    "plt.rc('font', weight='normal')\n",
    "fig, ax = plt.subplots(figsize=(7, 25))\n",
    "y_axis = [i[1] for i in list[:125]]\n",
    "x_axis = [k for k,i in enumerate(list[:125])]\n",
    "x_label = [i[0] for i in list[:125]]\n",
    "plt.xticks(fontsize = 15)\n",
    "plt.yticks(fontsize = 13)\n",
    "plt.yticks(x_axis, x_label)\n",
    "plt.xlabel(\"Num de ocorrencias\", fontsize = 16, labelpad = 10)\n",
    "ax.barh(x_axis, y_axis, align = 'center')\n",
    "ax = plt.gca()\n",
    "ax.invert_yaxis()\n",
    "\n",
    "plt.title(\"Ocorrencia de palavras\",fontsize = 20)\n",
    "plt.show()"
   ]
  },
  {
   "cell_type": "markdown",
   "metadata": {},
   "source": [
    "- A separação dos resultados funcionou, consgui extrair a primeira palavra e o total de vezes que elas aparecem.\n",
    "- São muitos os resultados que aparecem. Nesse caso tem algumas palavras que não ajudam na classificação (ex: cores) por isso posso remove-las.\n",
    "- Além disso, quero trabalhar com palavras que apareceram mais de 20 vezes."
   ]
  },
  {
   "cell_type": "markdown",
   "metadata": {},
   "source": [
    "#### 4.2.2 Definir as categorias dos produtos"
   ]
  },
  {
   "cell_type": "code",
   "execution_count": 86,
   "metadata": {},
   "outputs": [
    {
     "name": "stdout",
     "output_type": "stream",
     "text": [
      "Palavras conservadas: 82\n"
     ]
    }
   ],
   "source": [
    "list_products = []\n",
    "for k,v in count_keywords.items():\n",
    "    word = keywords_select[k]\n",
    "    if word in ['pink', 'blue', 'tag', 'green', 'orange']: continue  #remover palavras desnecessárias\n",
    "    if len(word) < 3 or v < 20: continue # trabalhar com palavras que apareceram mais de 20 vezes\n",
    "    if ('+' in word) or ('/' in word): continue\n",
    "    list_products.append([word, v])\n",
    "#______________________________________________________    \n",
    "list_products.sort(key = lambda x:x[1], reverse = True)\n",
    "print('Palavras conservadas:', len(list_products))"
   ]
  },
  {
   "cell_type": "markdown",
   "metadata": {},
   "source": [
    "#### 4.2.3 Codificar os dados"
   ]
  },
  {
   "cell_type": "markdown",
   "metadata": {},
   "source": [
    "- Com base nos dados obtidos preciso realizar uma matriz X que indique as palavras na 'description' dos produtos utilizando on hot encoding.\n",
    "- Além disso, considerando as faixas de compra posso adicionar 6 colunas a matriz indicando a faixa de preço dos produtos."
   ]
  },
  {
   "cell_type": "code",
   "execution_count": null,
   "metadata": {},
   "outputs": [],
   "source": [
    "list_of_products = per_product_df['description'].unique()\n",
    "X = pd.DataFrame()\n",
    "for product in list_of_products:\n",
    "    X[product] = ecommerce_clean_27['description'].str.upper().str.contains(product.upper()).astype(int)"
   ]
  },
  {
   "cell_type": "code",
   "execution_count": null,
   "metadata": {},
   "outputs": [],
   "source": [
    "# Criando as faixas de preço unitário\n",
    "\n",
    "threshold = [0, 1, 2, 3, 5, 10]\n",
    "label_col = []\n",
    "for i in range(len(threshold)):\n",
    "    if i == len(threshold)-1:\n",
    "        col = '.>{}'.format(threshold[i])\n",
    "    else:\n",
    "        col = '{}<.<{}'.format(threshold[i],threshold[i+1])\n",
    "    label_col.append(col)\n",
    "    X.loc[:, col] = 0\n",
    "\n",
    "for i, prod in enumerate(list_of_products):\n",
    "    prix = per_product_df[ per_product_df['description'] == prod]['unit_price'].mean()\n",
    "    j = 0\n",
    "    while prix > threshold[j]:\n",
    "        j+=1\n",
    "        if j == len(threshold): break\n",
    "    X.loc[i, label_col[j-1]] = 1"
   ]
  },
  {
   "cell_type": "code",
   "execution_count": 91,
   "metadata": {},
   "outputs": [
    {
     "name": "stdout",
     "output_type": "stream",
     "text": [
      "faixa    num produtos         \n",
      "\n",
      "0<.<1        566.0               \n",
      "1<.<2        745.0               \n",
      "2<.<3        509.0               \n",
      "3<.<5        352.0               \n",
      "5<.<10       285.0               \n",
      ".>10         93.0                \n"
     ]
    }
   ],
   "source": [
    "# Conferir a quantidade de valores por cada faixa de preço unitário\n",
    "\n",
    "print(\"{:<8} {:<20} \\n\". format('faixa','num produtos'))\n",
    "\n",
    "for i in range(len(threshold)):\n",
    "    if i == len(threshold)-1:\n",
    "        col = '.>{}'.format(threshold[i])\n",
    "    else:\n",
    "        col = '{}<.<{}'.format(threshold[i],threshold[i+1])\n",
    "    print(\"{:<10}   {:<20}\".format(col,X.loc[:, col].sum()))"
   ]
  },
  {
   "cell_type": "markdown",
   "metadata": {},
   "source": [
    "- Conforme a distribuição, podemos ver que a maioria dos produtos (745) se encontra na faixa de valor unitario entre 1 e 2."
   ]
  },
  {
   "cell_type": "markdown",
   "metadata": {},
   "source": [
    "#### 4.2.4 Criar grupos de produtos"
   ]
  },
  {
   "cell_type": "code",
   "execution_count": 92,
   "metadata": {},
   "outputs": [],
   "source": [
    "one = OneHotEncoder()\n",
    "\n",
    "one.fit(X)\n",
    "\n",
    "X = one.transform(X)"
   ]
  },
  {
   "cell_type": "code",
   "execution_count": 93,
   "metadata": {},
   "outputs": [
    {
     "name": "stdout",
     "output_type": "stream",
     "text": [
      "For n_clusters = 3 The average silhouette_score is : 0.18008914701509315\n",
      "For n_clusters = 4 The average silhouette_score is : 0.18627940751066457\n",
      "For n_clusters = 5 The average silhouette_score is : 0.19220097153370988\n",
      "For n_clusters = 6 The average silhouette_score is : 0.02713079879738164\n",
      "For n_clusters = 7 The average silhouette_score is : 0.02930232479251647\n",
      "For n_clusters = 8 The average silhouette_score is : 0.041225705722255125\n",
      "For n_clusters = 9 The average silhouette_score is : 0.03612252306002949\n"
     ]
    }
   ],
   "source": [
    "matrix = X.toarray()\n",
    "for n_clusters in range(3,10):\n",
    "    kmeans = KMeans(init='k-means++', n_clusters = n_clusters, n_init=30)\n",
    "    kmeans.fit(matrix)\n",
    "    clusters = kmeans.predict(matrix)\n",
    "    silhouette_avg = silhouette_score(matrix, clusters)\n",
    "    print(\"For n_clusters =\", n_clusters, \"The average silhouette_score is :\", silhouette_avg)"
   ]
  },
  {
   "cell_type": "markdown",
   "metadata": {},
   "source": [
    "- Nesse caso o n_clusters que apresentou melhor average silhouette score foi 5, portanto trabalharei com esse valor.\n",
    "    - Obs: o Average silhouette score varia de -1 a 1 onde valores próximos a 1 significa que os pontos estão proximos uns aos outros, 0 que os clusters estão sobrepostos e -1 que estão agrupados de maneira incorreta."
   ]
  },
  {
   "cell_type": "code",
   "execution_count": 95,
   "metadata": {},
   "outputs": [
    {
     "name": "stdout",
     "output_type": "stream",
     "text": [
      "For n_clusters = 5 The average silhouette_score is : 0.01793508370820823\n",
      "For n_clusters = 5 The average silhouette_score is : 0.18802423732618043\n"
     ]
    }
   ],
   "source": [
    "# Trabalhando com n_clusters = 5\n",
    "n_clusters = 5\n",
    "silhouette_avg = -1\n",
    "while silhouette_avg < 0.145:\n",
    "    kmeans = KMeans(init='k-means++', n_clusters = n_clusters, n_init=30)\n",
    "    kmeans.fit(matrix)\n",
    "    clusters = kmeans.predict(matrix)\n",
    "    silhouette_avg = silhouette_score(matrix, clusters)\n",
    "    \n",
    "    #km = kmodes.KModes(n_clusters = n_clusters, init='Huang', n_init=2, verbose=0)\n",
    "    #clusters = km.fit_predict(matrix)\n",
    "    #silhouette_avg = silhouette_score(matrix, clusters)\n",
    "    print(\"For n_clusters =\", n_clusters, \"The average silhouette_score is :\", silhouette_avg)"
   ]
  },
  {
   "cell_type": "markdown",
   "metadata": {},
   "source": [
    "#### 4.2.5 Caracterizando o conteudo dos grupos"
   ]
  },
  {
   "cell_type": "code",
   "execution_count": 96,
   "metadata": {},
   "outputs": [
    {
     "data": {
      "text/plain": [
       "0    35635\n",
       "4      649\n",
       "2      319\n",
       "1      305\n",
       "3      241\n",
       "Name: count, dtype: int64"
      ]
     },
     "execution_count": 96,
     "metadata": {},
     "output_type": "execute_result"
    }
   ],
   "source": [
    "pd.Series(clusters).value_counts()"
   ]
  },
  {
   "cell_type": "markdown",
   "metadata": {},
   "source": [
    "- Podemos ver que dentro dos 5 grupos, o grupo zero é o que apresenta o maior número de produtos."
   ]
  },
  {
   "cell_type": "markdown",
   "metadata": {},
   "source": [
    "### 4.2.6 Categorias de produtos"
   ]
  },
  {
   "cell_type": "markdown",
   "metadata": {},
   "source": [
    "- Com base no agrupamento anterior e na criação dos cinco grupos agora preciso colocar o numero do agrupamento para cada produto."
   ]
  },
  {
   "cell_type": "code",
   "execution_count": 115,
   "metadata": {},
   "outputs": [],
   "source": [
    "# Atribuindo os valores dos grupos para cada produto\n",
    "corresp = dict()\n",
    "for key, val in zip (list_of_products, clusters):\n",
    "    corresp[key] = val \n",
    "#__________________________________________________________________________\n",
    "per_product_df['categ_product'] = per_product_df.loc[:, 'description'].map(corresp)"
   ]
  },
  {
   "cell_type": "markdown",
   "metadata": {},
   "source": [
    "Na sequência posso criar colunas dizendo qual foi o total gasto em cada categoria de produto."
   ]
  },
  {
   "cell_type": "code",
   "execution_count": 118,
   "metadata": {},
   "outputs": [
    {
     "data": {
      "text/html": [
       "<div>\n",
       "<style scoped>\n",
       "    .dataframe tbody tr th:only-of-type {\n",
       "        vertical-align: middle;\n",
       "    }\n",
       "\n",
       "    .dataframe tbody tr th {\n",
       "        vertical-align: top;\n",
       "    }\n",
       "\n",
       "    .dataframe thead th {\n",
       "        text-align: right;\n",
       "    }\n",
       "</style>\n",
       "<table border=\"1\" class=\"dataframe\">\n",
       "  <thead>\n",
       "    <tr style=\"text-align: right;\">\n",
       "      <th></th>\n",
       "      <th>invoice_no</th>\n",
       "      <th>description</th>\n",
       "      <th>categ_product</th>\n",
       "      <th>categ_0</th>\n",
       "      <th>categ_1</th>\n",
       "      <th>categ_2</th>\n",
       "      <th>categ_3</th>\n",
       "      <th>categ_4</th>\n",
       "    </tr>\n",
       "  </thead>\n",
       "  <tbody>\n",
       "    <tr>\n",
       "      <th>2</th>\n",
       "      <td>537626</td>\n",
       "      <td>SET/3 DECOUPAGE STACKING TINS</td>\n",
       "      <td>2</td>\n",
       "      <td>0.0</td>\n",
       "      <td>0.0</td>\n",
       "      <td>14.85</td>\n",
       "      <td>0.0</td>\n",
       "      <td>0.0</td>\n",
       "    </tr>\n",
       "    <tr>\n",
       "      <th>3</th>\n",
       "      <td>537626</td>\n",
       "      <td>ALARM CLOCK BAKELIKE CHOCOLATE</td>\n",
       "      <td>2</td>\n",
       "      <td>0.0</td>\n",
       "      <td>0.0</td>\n",
       "      <td>15.00</td>\n",
       "      <td>0.0</td>\n",
       "      <td>0.0</td>\n",
       "    </tr>\n",
       "    <tr>\n",
       "      <th>4</th>\n",
       "      <td>537626</td>\n",
       "      <td>ALARM CLOCK BAKELIKE GREEN</td>\n",
       "      <td>2</td>\n",
       "      <td>0.0</td>\n",
       "      <td>0.0</td>\n",
       "      <td>15.00</td>\n",
       "      <td>0.0</td>\n",
       "      <td>0.0</td>\n",
       "    </tr>\n",
       "    <tr>\n",
       "      <th>5</th>\n",
       "      <td>537626</td>\n",
       "      <td>ALARM CLOCK BAKELIKE RED</td>\n",
       "      <td>2</td>\n",
       "      <td>0.0</td>\n",
       "      <td>0.0</td>\n",
       "      <td>15.00</td>\n",
       "      <td>0.0</td>\n",
       "      <td>0.0</td>\n",
       "    </tr>\n",
       "    <tr>\n",
       "      <th>6</th>\n",
       "      <td>537626</td>\n",
       "      <td>ALARM CLOCK BAKELIKE PINK</td>\n",
       "      <td>2</td>\n",
       "      <td>0.0</td>\n",
       "      <td>0.0</td>\n",
       "      <td>15.00</td>\n",
       "      <td>0.0</td>\n",
       "      <td>0.0</td>\n",
       "    </tr>\n",
       "  </tbody>\n",
       "</table>\n",
       "</div>"
      ],
      "text/plain": [
       "  invoice_no                     description  categ_product  categ_0  categ_1  \\\n",
       "2     537626   SET/3 DECOUPAGE STACKING TINS              2      0.0      0.0   \n",
       "3     537626  ALARM CLOCK BAKELIKE CHOCOLATE              2      0.0      0.0   \n",
       "4     537626      ALARM CLOCK BAKELIKE GREEN              2      0.0      0.0   \n",
       "5     537626       ALARM CLOCK BAKELIKE RED               2      0.0      0.0   \n",
       "6     537626       ALARM CLOCK BAKELIKE PINK              2      0.0      0.0   \n",
       "\n",
       "   categ_2  categ_3  categ_4  \n",
       "2    14.85      0.0      0.0  \n",
       "3    15.00      0.0      0.0  \n",
       "4    15.00      0.0      0.0  \n",
       "5    15.00      0.0      0.0  \n",
       "6    15.00      0.0      0.0  "
      ]
     },
     "metadata": {},
     "output_type": "display_data"
    }
   ],
   "source": [
    "for i in range(5):\n",
    "    col = 'categ_{}'.format(i)        \n",
    "    df_temp = per_product_df[per_product_df['categ_product'] == i]\n",
    "    price_temp = df_temp['unit_price'] * (df_temp['quantity'])\n",
    "    price_temp = price_temp.apply(lambda x:x if x > 0 else 0)\n",
    "    per_product_df.loc[:, col] = price_temp\n",
    "    per_product_df[col].fillna(0, inplace = True)\n",
    "#__________________________________________________________________________________________________\n",
    "display(per_product_df[['invoice_no', 'description', 'categ_product', 'categ_0', 'categ_1', 'categ_2', 'categ_3','categ_4']][:5])"
   ]
  },
  {
   "cell_type": "markdown",
   "metadata": {},
   "source": [
    "- Com isso tenho separado por categoria qual foi o total gasto com determinado produto.\n",
    "- Posso separar criando um dataframe para agrupar por pedido"
   ]
  },
  {
   "cell_type": "code",
   "execution_count": 147,
   "metadata": {},
   "outputs": [
    {
     "name": "stdout",
     "output_type": "stream",
     "text": [
      "categ_product\n",
      "0    20147\n",
      "4    11024\n",
      "2     5491\n",
      "3      182\n",
      "Name: count, dtype: int64\n"
     ]
    }
   ],
   "source": [
    "count_categ_prod = per_product_df['categ_product'].value_counts()\n",
    "print(count_categ_prod)"
   ]
  },
  {
   "cell_type": "code",
   "execution_count": 151,
   "metadata": {},
   "outputs": [
    {
     "data": {
      "image/png": "[encoded data removed]",
      "text/plain": [
       "<Figure size 800x600 with 1 Axes>"
      ]
     },
     "metadata": {},
     "output_type": "display_data"
    }
   ],
   "source": [
    "# Plotando a contagem de produtos por categoria\n",
    "\n",
    "plt.figure(figsize=[8,6])\n",
    "count_categ_prod.plot(kind='bar')\n",
    "plt.ylabel('Contagem de produtos')\n",
    "plt.xlabel('Categoria')\n",
    "plt.xticks(rotation=0)\n",
    "plt.title('Total de produtos comprados por categoria')\n",
    "plt.show()"
   ]
  },
  {
   "cell_type": "markdown",
   "metadata": {},
   "source": [
    "- Os dados nos mostram que a categoria zero é a que mais possui produtos (20147) vendidos."
   ]
  },
  {
   "cell_type": "code",
   "execution_count": 119,
   "metadata": {},
   "outputs": [],
   "source": [
    "# Criar tabela temporaria com os valores agregados\n",
    "temp = per_product_df.groupby(by=['customer_id', 'invoice_no'], as_index=False)['total_spent'].sum()\n",
    "basket_price = temp.rename(columns = {'total_spent':'basket_price'})"
   ]
  },
  {
   "cell_type": "code",
   "execution_count": 125,
   "metadata": {},
   "outputs": [],
   "source": [
    "# Criar o ciclo for para iterar sobre cada um dos valores \n",
    "for i in range(5):\n",
    "    col = 'categ_{}'.format(i) \n",
    "    temp = per_product_df.groupby(by=['customer_id', 'invoice_no'], as_index=False)[col].sum()\n",
    "    basket_price[col] = temp[col]"
   ]
  },
  {
   "cell_type": "code",
   "execution_count": 126,
   "metadata": {},
   "outputs": [],
   "source": [
    "# Criando coluna temporaria no dataframe para agrupar por valor gasto por categoria\n",
    "per_product_df['InvoiceDate_int'] = per_product_df['invoice_date'].astype('int64')\n",
    "temp = per_product_df.groupby(by=['customer_id', 'invoice_no'], as_index=False)['InvoiceDate_int'].mean()\n",
    "per_product_df.drop('InvoiceDate_int', axis = 1, inplace = True)\n",
    "basket_price.loc[:, 'invoice_date'] = pd.to_datetime(temp['InvoiceDate_int'])"
   ]
  },
  {
   "cell_type": "code",
   "execution_count": 127,
   "metadata": {},
   "outputs": [
    {
     "data": {
      "text/html": [
       "<div>\n",
       "<style scoped>\n",
       "    .dataframe tbody tr th:only-of-type {\n",
       "        vertical-align: middle;\n",
       "    }\n",
       "\n",
       "    .dataframe tbody tr th {\n",
       "        vertical-align: top;\n",
       "    }\n",
       "\n",
       "    .dataframe thead th {\n",
       "        text-align: right;\n",
       "    }\n",
       "</style>\n",
       "<table border=\"1\" class=\"dataframe\">\n",
       "  <thead>\n",
       "    <tr style=\"text-align: right;\">\n",
       "      <th></th>\n",
       "      <th>customer_id</th>\n",
       "      <th>invoice_no</th>\n",
       "      <th>basket_price</th>\n",
       "      <th>categ_0</th>\n",
       "      <th>invoice_date</th>\n",
       "      <th>categ_1</th>\n",
       "      <th>categ_2</th>\n",
       "      <th>categ_3</th>\n",
       "      <th>categ_4</th>\n",
       "    </tr>\n",
       "  </thead>\n",
       "  <tbody>\n",
       "    <tr>\n",
       "      <th>0</th>\n",
       "      <td>12347</td>\n",
       "      <td>537626</td>\n",
       "      <td>650.89</td>\n",
       "      <td>255.8</td>\n",
       "      <td>2018-12-05 14:57:00</td>\n",
       "      <td>0.0</td>\n",
       "      <td>184.25</td>\n",
       "      <td>0.0</td>\n",
       "      <td>210.84</td>\n",
       "    </tr>\n",
       "    <tr>\n",
       "      <th>1</th>\n",
       "      <td>12347</td>\n",
       "      <td>556201</td>\n",
       "      <td>10.20</td>\n",
       "      <td>10.2</td>\n",
       "      <td>2019-06-07 13:01:00</td>\n",
       "      <td>0.0</td>\n",
       "      <td>0.00</td>\n",
       "      <td>0.0</td>\n",
       "      <td>0.00</td>\n",
       "    </tr>\n",
       "    <tr>\n",
       "      <th>2</th>\n",
       "      <td>12348</td>\n",
       "      <td>539318</td>\n",
       "      <td>292.80</td>\n",
       "      <td>279.6</td>\n",
       "      <td>2018-12-14 19:09:00</td>\n",
       "      <td>0.0</td>\n",
       "      <td>0.00</td>\n",
       "      <td>0.0</td>\n",
       "      <td>13.20</td>\n",
       "    </tr>\n",
       "    <tr>\n",
       "      <th>3</th>\n",
       "      <td>12356</td>\n",
       "      <td>541430</td>\n",
       "      <td>1565.58</td>\n",
       "      <td>815.7</td>\n",
       "      <td>2019-01-16 09:50:00</td>\n",
       "      <td>0.0</td>\n",
       "      <td>346.20</td>\n",
       "      <td>0.0</td>\n",
       "      <td>403.68</td>\n",
       "    </tr>\n",
       "    <tr>\n",
       "      <th>4</th>\n",
       "      <td>12357</td>\n",
       "      <td>574740</td>\n",
       "      <td>106.56</td>\n",
       "      <td>63.0</td>\n",
       "      <td>2019-11-04 16:07:00</td>\n",
       "      <td>0.0</td>\n",
       "      <td>20.16</td>\n",
       "      <td>0.0</td>\n",
       "      <td>23.40</td>\n",
       "    </tr>\n",
       "  </tbody>\n",
       "</table>\n",
       "</div>"
      ],
      "text/plain": [
       "   customer_id invoice_no  basket_price  categ_0        invoice_date  categ_1  \\\n",
       "0        12347     537626        650.89    255.8 2018-12-05 14:57:00      0.0   \n",
       "1        12347     556201         10.20     10.2 2019-06-07 13:01:00      0.0   \n",
       "2        12348     539318        292.80    279.6 2018-12-14 19:09:00      0.0   \n",
       "3        12356     541430       1565.58    815.7 2019-01-16 09:50:00      0.0   \n",
       "4        12357     574740        106.56     63.0 2019-11-04 16:07:00      0.0   \n",
       "\n",
       "   categ_2  categ_3  categ_4  \n",
       "0   184.25      0.0   210.84  \n",
       "1     0.00      0.0     0.00  \n",
       "2     0.00      0.0    13.20  \n",
       "3   346.20      0.0   403.68  \n",
       "4    20.16      0.0    23.40  "
      ]
     },
     "execution_count": 127,
     "metadata": {},
     "output_type": "execute_result"
    }
   ],
   "source": [
    "# Imprimindo os resultados\n",
    "basket_price = basket_price[basket_price['basket_price'] > 0]\n",
    "basket_price.sort_values('customer_id', ascending = True)[:5]"
   ]
  },
  {
   "cell_type": "markdown",
   "metadata": {},
   "source": [
    "- Nesse caso podemos ver então qual o id do usuário, qual o total do pedido que ele realizou e qual o total por categoria de produtos previamente separada."
   ]
  },
  {
   "cell_type": "markdown",
   "metadata": {},
   "source": [
    "Na sequência posso agrupar a contagem de compras feitas pelo usuario assim como os valores minimos, médios, maximos e total gasto durante todas as visitas."
   ]
  },
  {
   "cell_type": "code",
   "execution_count": 129,
   "metadata": {},
   "outputs": [
    {
     "data": {
      "text/html": [
       "<div>\n",
       "<style scoped>\n",
       "    .dataframe tbody tr th:only-of-type {\n",
       "        vertical-align: middle;\n",
       "    }\n",
       "\n",
       "    .dataframe tbody tr th {\n",
       "        vertical-align: top;\n",
       "    }\n",
       "\n",
       "    .dataframe thead th {\n",
       "        text-align: right;\n",
       "    }\n",
       "</style>\n",
       "<table border=\"1\" class=\"dataframe\">\n",
       "  <thead>\n",
       "    <tr style=\"text-align: right;\">\n",
       "      <th></th>\n",
       "      <th>customer_id</th>\n",
       "      <th>count</th>\n",
       "      <th>min</th>\n",
       "      <th>max</th>\n",
       "      <th>mean</th>\n",
       "      <th>sum</th>\n",
       "      <th>categ_0</th>\n",
       "      <th>categ_1</th>\n",
       "      <th>categ_2</th>\n",
       "      <th>categ_3</th>\n",
       "      <th>categ_4</th>\n",
       "    </tr>\n",
       "  </thead>\n",
       "  <tbody>\n",
       "    <tr>\n",
       "      <th>0</th>\n",
       "      <td>12347</td>\n",
       "      <td>2</td>\n",
       "      <td>10.20</td>\n",
       "      <td>650.89</td>\n",
       "      <td>330.545</td>\n",
       "      <td>661.09</td>\n",
       "      <td>40.236579</td>\n",
       "      <td>0.0</td>\n",
       "      <td>27.870638</td>\n",
       "      <td>0.000000</td>\n",
       "      <td>31.892783</td>\n",
       "    </tr>\n",
       "    <tr>\n",
       "      <th>1</th>\n",
       "      <td>12348</td>\n",
       "      <td>1</td>\n",
       "      <td>292.80</td>\n",
       "      <td>292.80</td>\n",
       "      <td>292.800</td>\n",
       "      <td>292.80</td>\n",
       "      <td>95.491803</td>\n",
       "      <td>0.0</td>\n",
       "      <td>0.000000</td>\n",
       "      <td>0.000000</td>\n",
       "      <td>4.508197</td>\n",
       "    </tr>\n",
       "    <tr>\n",
       "      <th>2</th>\n",
       "      <td>12356</td>\n",
       "      <td>1</td>\n",
       "      <td>1565.58</td>\n",
       "      <td>1565.58</td>\n",
       "      <td>1565.580</td>\n",
       "      <td>1565.58</td>\n",
       "      <td>52.102096</td>\n",
       "      <td>0.0</td>\n",
       "      <td>22.113210</td>\n",
       "      <td>0.000000</td>\n",
       "      <td>25.784693</td>\n",
       "    </tr>\n",
       "    <tr>\n",
       "      <th>3</th>\n",
       "      <td>12357</td>\n",
       "      <td>1</td>\n",
       "      <td>106.56</td>\n",
       "      <td>106.56</td>\n",
       "      <td>106.560</td>\n",
       "      <td>106.56</td>\n",
       "      <td>59.121622</td>\n",
       "      <td>0.0</td>\n",
       "      <td>18.918919</td>\n",
       "      <td>0.000000</td>\n",
       "      <td>21.959459</td>\n",
       "    </tr>\n",
       "    <tr>\n",
       "      <th>4</th>\n",
       "      <td>12359</td>\n",
       "      <td>1</td>\n",
       "      <td>547.50</td>\n",
       "      <td>547.50</td>\n",
       "      <td>547.500</td>\n",
       "      <td>547.50</td>\n",
       "      <td>29.369863</td>\n",
       "      <td>0.0</td>\n",
       "      <td>56.812785</td>\n",
       "      <td>2.712329</td>\n",
       "      <td>11.105023</td>\n",
       "    </tr>\n",
       "  </tbody>\n",
       "</table>\n",
       "</div>"
      ],
      "text/plain": [
       "   customer_id  count      min      max      mean      sum    categ_0  \\\n",
       "0        12347      2    10.20   650.89   330.545   661.09  40.236579   \n",
       "1        12348      1   292.80   292.80   292.800   292.80  95.491803   \n",
       "2        12356      1  1565.58  1565.58  1565.580  1565.58  52.102096   \n",
       "3        12357      1   106.56   106.56   106.560   106.56  59.121622   \n",
       "4        12359      1   547.50   547.50   547.500   547.50  29.369863   \n",
       "\n",
       "   categ_1    categ_2   categ_3    categ_4  \n",
       "0      0.0  27.870638  0.000000  31.892783  \n",
       "1      0.0   0.000000  0.000000   4.508197  \n",
       "2      0.0  22.113210  0.000000  25.784693  \n",
       "3      0.0  18.918919  0.000000  21.959459  \n",
       "4      0.0  56.812785  2.712329  11.105023  "
      ]
     },
     "execution_count": 129,
     "metadata": {},
     "output_type": "execute_result"
    }
   ],
   "source": [
    "# Calcular valores minimo, maximo, médio e total de compras realizadas pelos consumidores e anexar ao dataframe\n",
    "transactions_per_user=basket_price.groupby(by=['customer_id'])['basket_price'].agg(['count','min','max','mean','sum'])\n",
    "for i in range(5):\n",
    "    col = 'categ_{}'.format(i)\n",
    "    transactions_per_user.loc[:,col] = basket_price.groupby(by=['customer_id'])[col].sum() /\\\n",
    "                                            transactions_per_user['sum']*100\n",
    "\n",
    "transactions_per_user.reset_index(drop = False, inplace = True)\n",
    "basket_price.groupby(by=['customer_id'])['categ_0'].sum()\n",
    "display(transactions_per_user.sort_values('customer_id', ascending = True)[:5])"
   ]
  },
  {
   "cell_type": "markdown",
   "metadata": {},
   "source": [
    "- Funcionou a agregação dos novos valores."
   ]
  },
  {
   "cell_type": "markdown",
   "metadata": {},
   "source": [
    "Por fim posso adicionar o numero de dias entre a primeira compra e o número de dias desde a ultima compra"
   ]
  },
  {
   "cell_type": "code",
   "execution_count": null,
   "metadata": {},
   "outputs": [],
   "source": [
    "# Obtendo o ultimo dia registrado\n",
    "last_date = basket_price['invoice_date'].max().date()\n",
    "\n",
    "# Obtendo as datas de registro e de última compra\n",
    "first_registration = pd.DataFrame(basket_price.groupby(by=['customer_id'])['invoice_date'].min())\n",
    "last_purchase      = pd.DataFrame(basket_price.groupby(by=['customer_id'])['invoice_date'].max())\n",
    "\n",
    "test  = first_registration.applymap(lambda x:(last_date - x.date()).days)\n",
    "test2 = last_purchase.applymap(lambda x:(last_date - x.date()).days)\n",
    "\n",
    "# Adicionando os dados ao dataframe\n",
    "transactions_per_user.loc[:, 'LastPurchase'] = test2.reset_index(drop = False)['invoice_date']\n",
    "transactions_per_user.loc[:, 'FirstPurchase'] = test.reset_index(drop = False)['invoice_date']\n",
    "\n",
    "display(transactions_per_user[:5])"
   ]
  },
  {
   "cell_type": "code",
   "execution_count": 135,
   "metadata": {},
   "outputs": [
    {
     "data": {
      "text/html": [
       "<div>\n",
       "<style scoped>\n",
       "    .dataframe tbody tr th:only-of-type {\n",
       "        vertical-align: middle;\n",
       "    }\n",
       "\n",
       "    .dataframe tbody tr th {\n",
       "        vertical-align: top;\n",
       "    }\n",
       "\n",
       "    .dataframe thead th {\n",
       "        text-align: right;\n",
       "    }\n",
       "</style>\n",
       "<table border=\"1\" class=\"dataframe\">\n",
       "  <thead>\n",
       "    <tr style=\"text-align: right;\">\n",
       "      <th></th>\n",
       "      <th>customer_id</th>\n",
       "      <th>count</th>\n",
       "      <th>min</th>\n",
       "      <th>max</th>\n",
       "      <th>mean</th>\n",
       "      <th>sum</th>\n",
       "      <th>categ_0</th>\n",
       "      <th>categ_1</th>\n",
       "      <th>categ_2</th>\n",
       "      <th>categ_3</th>\n",
       "      <th>categ_4</th>\n",
       "      <th>LastPurchase</th>\n",
       "      <th>FirstPurchase</th>\n",
       "    </tr>\n",
       "  </thead>\n",
       "  <tbody>\n",
       "    <tr>\n",
       "      <th>count</th>\n",
       "      <td>1680.000000</td>\n",
       "      <td>1680.000000</td>\n",
       "      <td>1680.000000</td>\n",
       "      <td>1680.000000</td>\n",
       "      <td>1680.000000</td>\n",
       "      <td>1680.000000</td>\n",
       "      <td>1680.000000</td>\n",
       "      <td>1680.0</td>\n",
       "      <td>1680.000000</td>\n",
       "      <td>1680.000000</td>\n",
       "      <td>1680.000000</td>\n",
       "      <td>1680.000000</td>\n",
       "      <td>1680.000000</td>\n",
       "    </tr>\n",
       "    <tr>\n",
       "      <th>mean</th>\n",
       "      <td>15343.654762</td>\n",
       "      <td>2.046429</td>\n",
       "      <td>115.384881</td>\n",
       "      <td>217.528095</td>\n",
       "      <td>158.550471</td>\n",
       "      <td>318.579131</td>\n",
       "      <td>53.765879</td>\n",
       "      <td>0.0</td>\n",
       "      <td>15.819367</td>\n",
       "      <td>0.470416</td>\n",
       "      <td>29.944339</td>\n",
       "      <td>229.729167</td>\n",
       "      <td>285.975595</td>\n",
       "    </tr>\n",
       "    <tr>\n",
       "      <th>std</th>\n",
       "      <td>1726.899164</td>\n",
       "      <td>3.030162</td>\n",
       "      <td>192.682993</td>\n",
       "      <td>276.771830</td>\n",
       "      <td>201.786875</td>\n",
       "      <td>544.907179</td>\n",
       "      <td>31.956771</td>\n",
       "      <td>0.0</td>\n",
       "      <td>23.965802</td>\n",
       "      <td>3.323302</td>\n",
       "      <td>28.424161</td>\n",
       "      <td>132.743883</td>\n",
       "      <td>113.517794</td>\n",
       "    </tr>\n",
       "    <tr>\n",
       "      <th>min</th>\n",
       "      <td>12347.000000</td>\n",
       "      <td>1.000000</td>\n",
       "      <td>0.190000</td>\n",
       "      <td>0.190000</td>\n",
       "      <td>0.190000</td>\n",
       "      <td>0.190000</td>\n",
       "      <td>0.000000</td>\n",
       "      <td>0.0</td>\n",
       "      <td>0.000000</td>\n",
       "      <td>0.000000</td>\n",
       "      <td>0.000000</td>\n",
       "      <td>0.000000</td>\n",
       "      <td>0.000000</td>\n",
       "    </tr>\n",
       "    <tr>\n",
       "      <th>25%</th>\n",
       "      <td>13870.750000</td>\n",
       "      <td>1.000000</td>\n",
       "      <td>5.040000</td>\n",
       "      <td>15.600000</td>\n",
       "      <td>14.040000</td>\n",
       "      <td>19.725000</td>\n",
       "      <td>36.690328</td>\n",
       "      <td>0.0</td>\n",
       "      <td>0.000000</td>\n",
       "      <td>0.000000</td>\n",
       "      <td>5.486544</td>\n",
       "      <td>99.750000</td>\n",
       "      <td>233.000000</td>\n",
       "    </tr>\n",
       "    <tr>\n",
       "      <th>50%</th>\n",
       "      <td>15368.000000</td>\n",
       "      <td>1.000000</td>\n",
       "      <td>19.800000</td>\n",
       "      <td>147.125000</td>\n",
       "      <td>104.212500</td>\n",
       "      <td>164.175000</td>\n",
       "      <td>56.793059</td>\n",
       "      <td>0.0</td>\n",
       "      <td>8.849954</td>\n",
       "      <td>0.000000</td>\n",
       "      <td>25.485130</td>\n",
       "      <td>277.000000</td>\n",
       "      <td>351.000000</td>\n",
       "    </tr>\n",
       "    <tr>\n",
       "      <th>75%</th>\n",
       "      <td>16873.500000</td>\n",
       "      <td>2.000000</td>\n",
       "      <td>166.605000</td>\n",
       "      <td>309.497500</td>\n",
       "      <td>234.821250</td>\n",
       "      <td>380.402500</td>\n",
       "      <td>73.674604</td>\n",
       "      <td>0.0</td>\n",
       "      <td>18.870006</td>\n",
       "      <td>0.000000</td>\n",
       "      <td>40.271817</td>\n",
       "      <td>357.000000</td>\n",
       "      <td>366.000000</td>\n",
       "    </tr>\n",
       "    <tr>\n",
       "      <th>max</th>\n",
       "      <td>18283.000000</td>\n",
       "      <td>57.000000</td>\n",
       "      <td>2140.110000</td>\n",
       "      <td>3164.100000</td>\n",
       "      <td>2140.110000</td>\n",
       "      <td>8185.390000</td>\n",
       "      <td>100.000000</td>\n",
       "      <td>0.0</td>\n",
       "      <td>100.000000</td>\n",
       "      <td>100.000000</td>\n",
       "      <td>100.000000</td>\n",
       "      <td>373.000000</td>\n",
       "      <td>373.000000</td>\n",
       "    </tr>\n",
       "  </tbody>\n",
       "</table>\n",
       "</div>"
      ],
      "text/plain": [
       "        customer_id        count          min          max         mean  \\\n",
       "count   1680.000000  1680.000000  1680.000000  1680.000000  1680.000000   \n",
       "mean   15343.654762     2.046429   115.384881   217.528095   158.550471   \n",
       "std     1726.899164     3.030162   192.682993   276.771830   201.786875   \n",
       "min    12347.000000     1.000000     0.190000     0.190000     0.190000   \n",
       "25%    13870.750000     1.000000     5.040000    15.600000    14.040000   \n",
       "50%    15368.000000     1.000000    19.800000   147.125000   104.212500   \n",
       "75%    16873.500000     2.000000   166.605000   309.497500   234.821250   \n",
       "max    18283.000000    57.000000  2140.110000  3164.100000  2140.110000   \n",
       "\n",
       "               sum      categ_0  categ_1      categ_2      categ_3  \\\n",
       "count  1680.000000  1680.000000   1680.0  1680.000000  1680.000000   \n",
       "mean    318.579131    53.765879      0.0    15.819367     0.470416   \n",
       "std     544.907179    31.956771      0.0    23.965802     3.323302   \n",
       "min       0.190000     0.000000      0.0     0.000000     0.000000   \n",
       "25%      19.725000    36.690328      0.0     0.000000     0.000000   \n",
       "50%     164.175000    56.793059      0.0     8.849954     0.000000   \n",
       "75%     380.402500    73.674604      0.0    18.870006     0.000000   \n",
       "max    8185.390000   100.000000      0.0   100.000000   100.000000   \n",
       "\n",
       "           categ_4  LastPurchase  FirstPurchase  \n",
       "count  1680.000000   1680.000000    1680.000000  \n",
       "mean     29.944339    229.729167     285.975595  \n",
       "std      28.424161    132.743883     113.517794  \n",
       "min       0.000000      0.000000       0.000000  \n",
       "25%       5.486544     99.750000     233.000000  \n",
       "50%      25.485130    277.000000     351.000000  \n",
       "75%      40.271817    357.000000     366.000000  \n",
       "max     100.000000    373.000000     373.000000  "
      ]
     },
     "execution_count": 135,
     "metadata": {},
     "output_type": "execute_result"
    }
   ],
   "source": [
    "transactions_per_user.describe()"
   ]
  },
  {
   "cell_type": "markdown",
   "metadata": {},
   "source": [
    "- Conclusão\n",
    "    - Foi possível distribuir os produtos em 5 categorias onde, em média, os clientes gastam mais com a categoria 0 (53,76), seguido de produtos pertencentes a categoria 4 (29,94)\n",
    "    - Na média geral, os consumidores gastam 158,55 em produtos, onde o valor mínimo médio é de 115,38 e o máximo é de 217,52 por carrinho.\n",
    "    - Na separação das categorias nenhum produto entrou na categoria 1."
   ]
  },
  {
   "cell_type": "code",
   "execution_count": 144,
   "metadata": {},
   "outputs": [
    {
     "data": {
      "image/png": "[encoded data removed]",
      "text/plain": [
       "<Figure size 800x600 with 1 Axes>"
      ]
     },
     "metadata": {},
     "output_type": "display_data"
    }
   ],
   "source": [
    "total_per_category = transactions_per_user[['categ_0', 'categ_1', 'categ_2', 'categ_3','categ_4']].sum()\n",
    "\n",
    "plt.figure(figsize=[8,6])\n",
    "total_per_category.plot(kind='bar')\n",
    "plt.ylabel('Valor acumulado')\n",
    "plt.xlabel('Categoria')\n",
    "plt.xticks(rotation=0)\n",
    "plt.title('Valor total acumulado por categoria')\n",
    "plt.show()"
   ]
  },
  {
   "cell_type": "code",
   "execution_count": 145,
   "metadata": {},
   "outputs": [
    {
     "name": "stdout",
     "output_type": "stream",
     "text": [
      "categ_0    90326.676115\n",
      "categ_1        0.000000\n",
      "categ_2    26576.536764\n",
      "categ_3      790.298422\n",
      "categ_4    50306.488699\n",
      "dtype: float64\n"
     ]
    }
   ],
   "source": [
    "print(total_per_category)"
   ]
  },
  {
   "cell_type": "markdown",
   "metadata": {},
   "source": [
    "- O gráfico nos mostra que os produtos pertencentes a categoria 0 foram os que mais deram retorno financeiro para a empresa."
   ]
  },
  {
   "cell_type": "markdown",
   "metadata": {},
   "source": [
    "## 5 Conclusão"
   ]
  },
  {
   "cell_type": "markdown",
   "metadata": {},
   "source": [
    "Análise de coorte:\n",
    "- A análise de coorte dos gastos por usuário nos mostra que na maioria dos casos há um gasto maior no início, tendendo a redução com o passar do tempo a qual se mantém em um padrão de valores.\n",
    "    - Ponto de ação: estudar as estratégias de marketing realizadas com o tempo buscando maior interação com o cliente para que ele continue comprando.\n",
    "\n",
    "Com base na análise RFM:\n",
    "- É importante realizar alguma medida a fim de não perder os clientes que estão em hibernação e prestes a hibernar.\n",
    "    - É necessário realizar alguma atividade de marketing (envio de alguma promoção, contato com esses clientes) para estimular que eles voltem a comprar.\n",
    "    - Outra alternativa seria realizar um estudo de mercado (pesquisa de satisfação talvez) para entender o que acontece por que temos muitos clientes em risco e em estado de hibernação ou prestes a hibernar.\n",
    "\n",
    "Com base no agrupamento por produto:\n",
    "- Produtos da categoria zero são os que mais trouxeram retorno para a empresa, e também são os produtos que mais foram vendidos.\n",
    "    - Ponto de ação, é interessante manter esses produtos na linha pois são os que mais trazem retorno para a empresa.\n",
    "- Produtos da categoria 3 foram os que menos trouxeram renda para a empresa (790,00), sendo estes também os produtos que menos foram comercializados (182 registros)\n",
    "    - Ponto de ação: necessário estudar a viabilidade de se manter estes produtos em estoque, talvez compense zerar o que possivelmente exista no estoque e cancelar novas solicitações."
   ]
  },
  {
   "cell_type": "markdown",
   "metadata": {},
   "source": [
    "### Criar arquivos csv para usar no tableau"
   ]
  },
  {
   "cell_type": "markdown",
   "metadata": {},
   "source": [
    "Para realizar a montagem dos dashboards no Tableau vou utilizar os DataFrames já formatados."
   ]
  },
  {
   "cell_type": "code",
   "execution_count": 152,
   "metadata": {},
   "outputs": [],
   "source": [
    "# O dataframe com os dados transformados\n",
    "ecommerce_clean_27.to_csv('ecommerce_tableau.csv')\n",
    "\n",
    "# O dataframe com os dados obtidos com RFM\n",
    "rfm_table.to_csv('rfm_data.csv')\n",
    "\n",
    "# O dataframe contendo os nomes dos produtos e as categorias que eles se enquadram\n",
    "per_product_df.to_csv('categ_per_prod.csv')\n",
    "\n",
    "# O dataframe mostrando o valor gasto por categoria e usuário\n",
    "transactions_per_user.to_csv('transac_per_user.csv')"
   ]
  },
  {
   "cell_type": "markdown",
   "metadata": {},
   "source": [
    "- Funcionou a extração.  "
   ]
  }
 ],
 "metadata": {
  "kernelspec": {
   "display_name": "Python 3",
   "language": "python",
   "name": "python3"
  },
  "language_info": {
   "codemirror_mode": {
    "name": "ipython",
    "version": 3
   },
   "file_extension": ".py",
   "mimetype": "text/x-python",
   "name": "python",
   "nbconvert_exporter": "python",
   "pygments_lexer": "ipython3",
   "version": "3.12.0"
  }
 },
 "nbformat": 4,
 "nbformat_minor": 2
}
