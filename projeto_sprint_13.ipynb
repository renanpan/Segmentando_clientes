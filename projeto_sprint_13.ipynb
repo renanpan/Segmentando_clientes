{
 "cells": [
  {
   "cell_type": "markdown",
   "metadata": {},
   "source": [
    "# Sprint 13 - Projeto Final"
   ]
  },
  {
   "cell_type": "markdown",
   "metadata": {},
   "source": [
    "### Tarefa\n",
    "\n",
    "Segmente usuários com base em seus perfis de consumidor.\n",
    "\n",
    "- Realize a análise exploratória de dados.\n",
    "- Segmente os usuários com base no histórico de compras. Sinta-se à vontade para implementar suas próprias ideias para segmentar usuários. Pense em como a segmentação pode ajudar você a desenvolver ofertas mais personalizadas para diferentes usuários. Tente formar segmentos com base no que os usuários compram. Você pode analisar suas compras e segmentar as mercadorias de acordo com a categoria de produto a que pertencem.\n",
    "- Formule e teste hipóteses estatísticas."
   ]
  },
  {
   "cell_type": "markdown",
   "metadata": {},
   "source": [
    "### **Descrição dos dados**\n",
    "\n",
    "O conjunto de dados contém o histórico de transações da Everything Plus, uma loja online que vende utensílios domésticos.\n",
    "\n",
    "O arquivo `ecommerce_dataset_us.csv` contém as seguintes colunas:\n",
    "\n",
    "`InvoiceNo` — identificador de pedido\n",
    "\n",
    "`StockCode` — identificador de item\n",
    "\n",
    "`Description` — nome de item\n",
    "\n",
    "`Quantity`\n",
    "\n",
    "`InvoiceDate` — data do pedido\n",
    "\n",
    "`UnitPrice` — preço por item\n",
    "\n",
    "`CustomerID`"
   ]
  },
  {
   "cell_type": "markdown",
   "metadata": {},
   "source": [
    "Faça uma lista de 5 a 10 fontes (documentação, artigos) que você usou enquanto trabalhava no projeto. Forneça breves explicações sobre as perguntas que cada fonte o ajudou a responder. Prepare uma apresentação com suas conclusões. Você pode usar qualquer ferramenta que desejar para fazer a apresentação, mas deve enviá-la em PDF. Coloque o link no corpo do projeto principal."
   ]
  },
  {
   "cell_type": "markdown",
   "metadata": {},
   "source": [
    "### Dashboards\n",
    "\n",
    "1. Sugestão 1\n",
    "    1. Faça um diagrama para o número de compras por dia\n",
    "    2. Adicione um indicador para o número de clientes\n",
    "    3. Adicione um filtro de data de compra\n",
    "2. Sugestão 2\n",
    "    1. Faça um diagrama para o total de compras por dia\n",
    "    2. Trace um histograma de totais de compras individuais\n",
    "    3. Adicione um filtro de data de compra"
   ]
  },
  {
   "cell_type": "code",
   "execution_count": 89,
   "metadata": {},
   "outputs": [],
   "source": [
    "# Importando as bibliotecas\n",
    "import pandas as pd\n",
    "import matplotlib.pyplot as plt\n",
    "import datetime as dt\n",
    "import numpy as np\n",
    "\n",
    "##bibliotecas para aprendizado de maquina\n",
    "from sklearn.model_selection import train_test_split\n",
    "from sklearn.linear_model import LogisticRegression\n",
    "from sklearn.metrics import accuracy_score\n",
    "from sklearn.model_selection import KFold\n",
    "from sklearn import base\n",
    "\n",
    "from sklearn.preprocessing import StandardScaler\n",
    "from sklearn.cluster import KMeans\n",
    "from scipy.cluster.hierarchy import dendrogram, linkage \n",
    "\n",
    "# Bibliotecas para codificação de dados\n",
    "from sklearn.preprocessing import LabelEncoder\n",
    "from sklearn.preprocessing import OneHotEncoder\n",
    "from sklearn.feature_extraction import FeatureHasher"
   ]
  },
  {
   "cell_type": "markdown",
   "metadata": {},
   "source": [
    "## 1 Tratamento dos dados"
   ]
  },
  {
   "cell_type": "markdown",
   "metadata": {},
   "source": [
    "- Atributos para arrumar\n",
    "    - Alterar o nome das colunas para snake-case e tudo em letras minusculas\n",
    "    - Remover valores nulos em customer_id da tabela já que não me permitem criar um perfil de cliente;\n",
    "    - Procurar e remover valores duplicados;\n",
    "    - Alterar o tipo de dados de invoice_date para datetime;\n",
    "    - Remover da tabela valores que estão negativos na coluna 'quantity';\n",
    "    - Conferir e tratar os dados da coluna 'unit_price' se necessário;\n",
    "    - Adicionar uma coluna com total gasto por usuário (total_spent)"
   ]
  },
  {
   "cell_type": "code",
   "execution_count": 2,
   "metadata": {},
   "outputs": [],
   "source": [
    "ecommerce = pd.read_csv('dataset/ecommerce_dataset_us.csv')"
   ]
  },
  {
   "cell_type": "code",
   "execution_count": 3,
   "metadata": {},
   "outputs": [
    {
     "name": "stdout",
     "output_type": "stream",
     "text": [
      "<class 'pandas.core.frame.DataFrame'>\n",
      "RangeIndex: 65535 entries, 0 to 65534\n",
      "Data columns (total 7 columns):\n",
      " #   Column       Non-Null Count  Dtype  \n",
      "---  ------       --------------  -----  \n",
      " 0   InvoiceNo    65535 non-null  object \n",
      " 1   StockCode    65535 non-null  object \n",
      " 2   Description  65372 non-null  object \n",
      " 3   Quantity     65535 non-null  int64  \n",
      " 4   InvoiceDate  65535 non-null  object \n",
      " 5   UnitPrice    65535 non-null  float64\n",
      " 6   CustomerID   41231 non-null  float64\n",
      "dtypes: float64(2), int64(1), object(4)\n",
      "memory usage: 3.5+ MB\n"
     ]
    }
   ],
   "source": [
    "ecommerce.info()"
   ]
  },
  {
   "cell_type": "code",
   "execution_count": 4,
   "metadata": {},
   "outputs": [],
   "source": [
    "# Renomear as colunas para que correspondam a Snake-Case e que tudo fique em letra minuscula\n",
    "new_column_names = ['invoice_no','stock_code','description','quantity','invoice_date','unit_price','customer_id']\n",
    "\n",
    "ecommerce.rename(columns=dict(zip(ecommerce.columns, new_column_names)), inplace=True)"
   ]
  },
  {
   "cell_type": "code",
   "execution_count": 5,
   "metadata": {},
   "outputs": [
    {
     "name": "stdout",
     "output_type": "stream",
     "text": [
      "  invoice_no stock_code                     description  quantity  \\\n",
      "0    C541433      23166  MEDIUM CERAMIC TOP STORAGE JAR    -74215   \n",
      "1     541431      23166  MEDIUM CERAMIC TOP STORAGE JAR     74215   \n",
      "2     537626     85232D   SET/3 DECOUPAGE STACKING TINS         3   \n",
      "3     537626      22725  ALARM CLOCK BAKELIKE CHOCOLATE         4   \n",
      "4     537626      22726      ALARM CLOCK BAKELIKE GREEN         4   \n",
      "\n",
      "       invoice_date  unit_price  customer_id  \n",
      "0  01/16/2019 10:17        1.04      12346.0  \n",
      "1  01/16/2019 10:01        1.04      12346.0  \n",
      "2  12/05/2018 14:57        4.95      12347.0  \n",
      "3  12/05/2018 14:57        3.75      12347.0  \n",
      "4  12/05/2018 14:57        3.75      12347.0  \n"
     ]
    }
   ],
   "source": [
    "print(ecommerce.head())"
   ]
  },
  {
   "cell_type": "code",
   "execution_count": 6,
   "metadata": {},
   "outputs": [],
   "source": [
    "# Tratar os dados da coluna customer_id\n",
    "ecommerce_clean = ecommerce[~ecommerce['customer_id'].isna()]"
   ]
  },
  {
   "cell_type": "code",
   "execution_count": 7,
   "metadata": {},
   "outputs": [
    {
     "name": "stdout",
     "output_type": "stream",
     "text": [
      "<class 'pandas.core.frame.DataFrame'>\n",
      "Index: 41231 entries, 0 to 41230\n",
      "Data columns (total 7 columns):\n",
      " #   Column        Non-Null Count  Dtype  \n",
      "---  ------        --------------  -----  \n",
      " 0   invoice_no    41231 non-null  object \n",
      " 1   stock_code    41231 non-null  object \n",
      " 2   description   41231 non-null  object \n",
      " 3   quantity      41231 non-null  int64  \n",
      " 4   invoice_date  41231 non-null  object \n",
      " 5   unit_price    41231 non-null  float64\n",
      " 6   customer_id   41231 non-null  float64\n",
      "dtypes: float64(2), int64(1), object(4)\n",
      "memory usage: 2.5+ MB\n"
     ]
    }
   ],
   "source": [
    "ecommerce_clean.info()"
   ]
  },
  {
   "cell_type": "code",
   "execution_count": 8,
   "metadata": {},
   "outputs": [
    {
     "name": "stderr",
     "output_type": "stream",
     "text": [
      "C:\\Users\\renan\\AppData\\Local\\Temp\\ipykernel_4700\\3316102296.py:2: SettingWithCopyWarning: \n",
      "A value is trying to be set on a copy of a slice from a DataFrame.\n",
      "Try using .loc[row_indexer,col_indexer] = value instead\n",
      "\n",
      "See the caveats in the documentation: https://pandas.pydata.org/pandas-docs/stable/user_guide/indexing.html#returning-a-view-versus-a-copy\n",
      "  ecommerce_clean['customer_id'] = ecommerce_clean['customer_id'].astype('int')\n"
     ]
    }
   ],
   "source": [
    "# Atualizar o formato de dados de 'customer_id' para int\n",
    "ecommerce_clean['customer_id'] = ecommerce_clean['customer_id'].astype('int')"
   ]
  },
  {
   "cell_type": "markdown",
   "metadata": {},
   "source": [
    "### 1.1 Remover possiveis espaços duplos da coluna 'description'"
   ]
  },
  {
   "cell_type": "code",
   "execution_count": 9,
   "metadata": {},
   "outputs": [
    {
     "name": "stderr",
     "output_type": "stream",
     "text": [
      "C:\\Users\\renan\\AppData\\Local\\Temp\\ipykernel_4700\\1543203026.py:3: SettingWithCopyWarning: \n",
      "A value is trying to be set on a copy of a slice from a DataFrame.\n",
      "Try using .loc[row_indexer,col_indexer] = value instead\n",
      "\n",
      "See the caveats in the documentation: https://pandas.pydata.org/pandas-docs/stable/user_guide/indexing.html#returning-a-view-versus-a-copy\n",
      "  ecommerce_clean['description'] = ecommerce_clean['description'].str.replace(r'\\s+', ' ', regex=True)\n"
     ]
    }
   ],
   "source": [
    "# Removendo os espaços duplos\n",
    "\n",
    "ecommerce_clean['description'] = ecommerce_clean['description'].str.replace(r'\\s+', ' ', regex=True)"
   ]
  },
  {
   "cell_type": "markdown",
   "metadata": {},
   "source": [
    "### 1.2 Remover dados duplicados"
   ]
  },
  {
   "cell_type": "code",
   "execution_count": 10,
   "metadata": {},
   "outputs": [
    {
     "name": "stdout",
     "output_type": "stream",
     "text": [
      "False    40579\n",
      "True       652\n",
      "Name: count, dtype: int64\n"
     ]
    }
   ],
   "source": [
    "# Obter o total de valores duplicados\n",
    "print(ecommerce_clean.duplicated().value_counts())"
   ]
  },
  {
   "cell_type": "code",
   "execution_count": 11,
   "metadata": {},
   "outputs": [],
   "source": [
    "# Removendo duplicados\n",
    "ecommerce_clean = ecommerce_clean.drop_duplicates()"
   ]
  },
  {
   "cell_type": "code",
   "execution_count": 12,
   "metadata": {},
   "outputs": [
    {
     "name": "stdout",
     "output_type": "stream",
     "text": [
      "False    40579\n",
      "Name: count, dtype: int64\n"
     ]
    }
   ],
   "source": [
    "# Conferindo se removeu os duplicados\n",
    "print(ecommerce_clean.duplicated().value_counts())"
   ]
  },
  {
   "cell_type": "markdown",
   "metadata": {},
   "source": [
    "- A remoção dos dados duplicados funcionou."
   ]
  },
  {
   "cell_type": "markdown",
   "metadata": {},
   "source": [
    "### 1.3 Tratando os dados da coluna 'quantity'"
   ]
  },
  {
   "cell_type": "code",
   "execution_count": 13,
   "metadata": {},
   "outputs": [],
   "source": [
    "# Filtrando os dados para remover valores negativos de 'quantity' selecionando apenas valores maiores ou iguais a 1\n",
    "\n",
    "ecommerce_clean = ecommerce_clean[ecommerce_clean['quantity']>= 1]"
   ]
  },
  {
   "cell_type": "code",
   "execution_count": 14,
   "metadata": {},
   "outputs": [
    {
     "name": "stdout",
     "output_type": "stream",
     "text": [
      "<class 'pandas.core.frame.DataFrame'>\n",
      "Index: 39531 entries, 1 to 41230\n",
      "Data columns (total 7 columns):\n",
      " #   Column        Non-Null Count  Dtype  \n",
      "---  ------        --------------  -----  \n",
      " 0   invoice_no    39531 non-null  object \n",
      " 1   stock_code    39531 non-null  object \n",
      " 2   description   39531 non-null  object \n",
      " 3   quantity      39531 non-null  int64  \n",
      " 4   invoice_date  39531 non-null  object \n",
      " 5   unit_price    39531 non-null  float64\n",
      " 6   customer_id   39531 non-null  int32  \n",
      "dtypes: float64(1), int32(1), int64(1), object(4)\n",
      "memory usage: 2.3+ MB\n"
     ]
    }
   ],
   "source": [
    "ecommerce_clean.info()"
   ]
  },
  {
   "cell_type": "code",
   "execution_count": 15,
   "metadata": {},
   "outputs": [],
   "source": [
    "# Alterar o tipo de dados de 'invoice_date' para datetime\n",
    "\n",
    "ecommerce_clean['invoice_date'] = pd.to_datetime(ecommerce_clean['invoice_date'])"
   ]
  },
  {
   "cell_type": "code",
   "execution_count": 16,
   "metadata": {},
   "outputs": [
    {
     "name": "stdout",
     "output_type": "stream",
     "text": [
      "  invoice_no stock_code                     description  quantity  \\\n",
      "1     541431      23166  MEDIUM CERAMIC TOP STORAGE JAR     74215   \n",
      "2     537626     85232D   SET/3 DECOUPAGE STACKING TINS         3   \n",
      "3     537626      22725  ALARM CLOCK BAKELIKE CHOCOLATE         4   \n",
      "\n",
      "         invoice_date  unit_price  customer_id  \n",
      "1 2019-01-16 10:01:00        1.04        12346  \n",
      "2 2018-12-05 14:57:00        4.95        12347  \n",
      "3 2018-12-05 14:57:00        3.75        12347  \n"
     ]
    }
   ],
   "source": [
    "print(ecommerce_clean.head(3))"
   ]
  },
  {
   "cell_type": "code",
   "execution_count": 17,
   "metadata": {},
   "outputs": [
    {
     "data": {
      "image/png": "[encoded data removed]",
      "text/plain": [
       "<Figure size 640x480 with 1 Axes>"
      ]
     },
     "metadata": {},
     "output_type": "display_data"
    }
   ],
   "source": [
    "# Conferir os dados de quantidade pois parece ter alguns valores extremos\n",
    "\n",
    "quantity_values = ecommerce_clean['quantity']\n",
    "\n",
    "plt.boxplot(quantity_values)\n",
    "plt.show()"
   ]
  },
  {
   "cell_type": "code",
   "execution_count": 18,
   "metadata": {},
   "outputs": [],
   "source": [
    "# Filtrar os dados para remover dados de 'quantity' acima de 10000\n",
    "\n",
    "ecommerce_clean = ecommerce_clean[ecommerce_clean['quantity']<=10000]"
   ]
  },
  {
   "cell_type": "code",
   "execution_count": 19,
   "metadata": {},
   "outputs": [
    {
     "data": {
      "image/png": "[encoded data removed]",
      "text/plain": [
       "<Figure size 640x480 with 1 Axes>"
      ]
     },
     "metadata": {},
     "output_type": "display_data"
    }
   ],
   "source": [
    "# Conferir os dados de quantidade após remoção\n",
    "\n",
    "quantity_values_2 = ecommerce_clean['quantity']\n",
    "\n",
    "plt.boxplot(quantity_values_2)\n",
    "plt.show()"
   ]
  },
  {
   "cell_type": "code",
   "execution_count": 20,
   "metadata": {},
   "outputs": [
    {
     "name": "stdout",
     "output_type": "stream",
     "text": [
      "customer_id  description                         unit_price\n",
      "15749        FAIRY CAKE FLANNEL ASSORTED COLOUR  2.10          3114\n",
      "16754        WORLD WAR 2 GLIDERS ASSTD DESIGNS   0.18          2880\n",
      "16029        GROW A FLYTRAP OR SUNFLOWER IN TIN  0.94          2400\n",
      "15749        GIN + TONIC DIET METAL SIGN         1.85          2000\n",
      "             WHITE HANGING HEART T-LIGHT HOLDER  2.55          1930\n",
      "15299        ASSORTED COLOUR T-LIGHT HOLDER      0.55          1824\n",
      "12875        ASSORTED LAQUERED INCENSE HOLDERS   0.17          1728\n",
      "12755        ROUND SNACK BOXES SET OF 4 FRUITS   2.55          1488\n",
      "14156        ASSORTED INCENSE PACK               0.16          1440\n",
      "16754        RED HARMONICA IN BOX                1.06          1400\n",
      "17857        MINI PAINT SET VINTAGE              0.55          1394\n",
      "17450        HEART OF WICKER SMALL               1.93          1356\n",
      "15749        TEA TIME TEA TOWELS                 2.55          1300\n",
      "17306        PACK OF 12 LONDON TISSUES           0.25          1296\n",
      "17450        HEART OF WICKER LARGE               3.21          1284\n",
      "             WHITE HANGING HEART T-LIGHT HOLDER  3.24          1010\n",
      "18102        CREAM HEART CARD HOLDER             2.31          1008\n",
      "             BLACK HEART CARD HOLDER             2.31          1008\n",
      "13848        SMALL CHINESE STYLE SCISSOR         0.32          1000\n",
      "13027        PACK OF 72 RETROSPOT CAKE CASES     0.40           960\n",
      "Name: quantity, dtype: int64\n"
     ]
    }
   ],
   "source": [
    "''' Acredito que tenha algo de errado com esses dados com valores acima de 1000 itens do mesmo pedido\n",
    "    Estou pensando em agrupar por usuário e pedido e ver o máximo de produtos pedidos'''\n",
    "\n",
    "group_user_orders = ecommerce_clean.groupby(['customer_id','description','unit_price'])['quantity'].max().sort_values(ascending=False)\n",
    "print(group_user_orders.head(20))"
   ]
  },
  {
   "cell_type": "markdown",
   "metadata": {},
   "source": [
    "- Com essa informação vejo que alguns dados os pedidos provavelmente estão errados, sendo assim vou filtrar o dataframe para quantidade superior e inferior a 300 pedidos e ver o resultado nos dados"
   ]
  },
  {
   "cell_type": "code",
   "execution_count": 21,
   "metadata": {},
   "outputs": [],
   "source": [
    "# Filtrando as quantidades com limite de 300\n",
    "\n",
    "above_300 = ecommerce_clean[ecommerce_clean['quantity'] >= 300]\n",
    "below_300 = ecommerce_clean[ecommerce_clean['quantity'] < 300]"
   ]
  },
  {
   "cell_type": "code",
   "execution_count": 22,
   "metadata": {},
   "outputs": [
    {
     "name": "stdout",
     "output_type": "stream",
     "text": [
      "<class 'pandas.core.frame.DataFrame'>\n",
      "Index: 89 entries, 479 to 40054\n",
      "Data columns (total 7 columns):\n",
      " #   Column        Non-Null Count  Dtype         \n",
      "---  ------        --------------  -----         \n",
      " 0   invoice_no    89 non-null     object        \n",
      " 1   stock_code    89 non-null     object        \n",
      " 2   description   89 non-null     object        \n",
      " 3   quantity      89 non-null     int64         \n",
      " 4   invoice_date  89 non-null     datetime64[ns]\n",
      " 5   unit_price    89 non-null     float64       \n",
      " 6   customer_id   89 non-null     int32         \n",
      "dtypes: datetime64[ns](1), float64(1), int32(1), int64(1), object(3)\n",
      "memory usage: 5.2+ KB\n"
     ]
    }
   ],
   "source": [
    "above_300.info()"
   ]
  },
  {
   "cell_type": "code",
   "execution_count": 23,
   "metadata": {},
   "outputs": [
    {
     "name": "stdout",
     "output_type": "stream",
     "text": [
      "<class 'pandas.core.frame.DataFrame'>\n",
      "Index: 39440 entries, 2 to 41230\n",
      "Data columns (total 7 columns):\n",
      " #   Column        Non-Null Count  Dtype         \n",
      "---  ------        --------------  -----         \n",
      " 0   invoice_no    39440 non-null  object        \n",
      " 1   stock_code    39440 non-null  object        \n",
      " 2   description   39440 non-null  object        \n",
      " 3   quantity      39440 non-null  int64         \n",
      " 4   invoice_date  39440 non-null  datetime64[ns]\n",
      " 5   unit_price    39440 non-null  float64       \n",
      " 6   customer_id   39440 non-null  int32         \n",
      "dtypes: datetime64[ns](1), float64(1), int32(1), int64(1), object(3)\n",
      "memory usage: 2.3+ MB\n"
     ]
    }
   ],
   "source": [
    "below_300.info()"
   ]
  },
  {
   "cell_type": "code",
   "execution_count": 24,
   "metadata": {},
   "outputs": [
    {
     "name": "stdout",
     "output_type": "stream",
     "text": [
      "customer_id  description                         unit_price\n",
      "15311        DECORATIVE CATS BATHROOM BOTTLE     0.42          288\n",
      "17511        DISCO BALL CHRISTMAS DECORATION     0.10          288\n",
      "18092        MOROCCAN TEA GLASS                  0.65          288\n",
      "14646        5 HOOK HANGER RED MAGIC TOADSTOOL   1.45          288\n",
      "17404        TEA BAG PLATE RED RETROSPOT         0.85          288\n",
      "16422        SET/10 RED POLKADOT PARTY CANDLES   1.06          288\n",
      "14156        SET/5 RED SPOTTY LID GLASS BOWLS    2.55          288\n",
      "17511        FELT FARM ANIMAL WHITE BUNNY        0.19          288\n",
      "14646        ASSORTED EASTER DECORATIONS BELLS   1.06          288\n",
      "             PLASTERS IN TIN WOODLAND ANIMALS    1.45          288\n",
      "16191        HAND WARMER BABUSHKA DESIGN         0.85          288\n",
      "16210        POTTERING MUG                       0.42          288\n",
      "16684        FANCY FONT BIRTHDAY CARD            0.36          288\n",
      "14646        SET/10 BLUE POLKADOT PARTY CANDLES  1.06          288\n",
      "16422        SET/10 PINK POLKADOT PARTY CANDLES  1.06          288\n",
      "14156        PACK OF 20 NAPKINS RED APPLES       0.64          288\n",
      "17381        VINTAGE HEADS AND TAILS CARD GAME   1.06          288\n",
      "14156        JAM MAKING SET PRINTED              1.25          288\n",
      "17404        SET OF 72 RETROSPOT PAPER DOILIES   1.45          288\n",
      "14646        PACK OF 12 TRADITIONAL CRAYONS      0.36          288\n",
      "Name: quantity, dtype: int64\n"
     ]
    }
   ],
   "source": [
    "# Conferir a lista com os valores máximos até 300 pedidos\n",
    "\n",
    "group_below_300 = below_300.groupby(['customer_id','description','unit_price'])['quantity'].max().sort_values(ascending=False)\n",
    "print(group_below_300.head(20))"
   ]
  },
  {
   "cell_type": "markdown",
   "metadata": {},
   "source": [
    "- Olhando os produtos posso dizer que mesmo filtrando os pedidos com quantidade inferior a 300, ainda temos produtos com valores que não aparentam ser adequados para esses tipos de produtos.\n",
    "- É necessário realizar novo tratamento desses dados e aplicar outra filtragem, nesse caso trabalharei com 100 itens"
   ]
  },
  {
   "cell_type": "code",
   "execution_count": 25,
   "metadata": {},
   "outputs": [],
   "source": [
    "# Filtrando as quantidades com limite de 100\n",
    "\n",
    "above_100 = ecommerce_clean[ecommerce_clean['quantity'] >= 100]\n",
    "below_100 = ecommerce_clean[ecommerce_clean['quantity'] < 100]"
   ]
  },
  {
   "cell_type": "code",
   "execution_count": 26,
   "metadata": {},
   "outputs": [
    {
     "name": "stdout",
     "output_type": "stream",
     "text": [
      "<class 'pandas.core.frame.DataFrame'>\n",
      "Index: 621 entries, 45 to 40644\n",
      "Data columns (total 7 columns):\n",
      " #   Column        Non-Null Count  Dtype         \n",
      "---  ------        --------------  -----         \n",
      " 0   invoice_no    621 non-null    object        \n",
      " 1   stock_code    621 non-null    object        \n",
      " 2   description   621 non-null    object        \n",
      " 3   quantity      621 non-null    int64         \n",
      " 4   invoice_date  621 non-null    datetime64[ns]\n",
      " 5   unit_price    621 non-null    float64       \n",
      " 6   customer_id   621 non-null    int32         \n",
      "dtypes: datetime64[ns](1), float64(1), int32(1), int64(1), object(3)\n",
      "memory usage: 36.4+ KB\n"
     ]
    }
   ],
   "source": [
    "above_100.info()"
   ]
  },
  {
   "cell_type": "code",
   "execution_count": 27,
   "metadata": {},
   "outputs": [
    {
     "name": "stdout",
     "output_type": "stream",
     "text": [
      "<class 'pandas.core.frame.DataFrame'>\n",
      "Index: 38908 entries, 2 to 41230\n",
      "Data columns (total 7 columns):\n",
      " #   Column        Non-Null Count  Dtype         \n",
      "---  ------        --------------  -----         \n",
      " 0   invoice_no    38908 non-null  object        \n",
      " 1   stock_code    38908 non-null  object        \n",
      " 2   description   38908 non-null  object        \n",
      " 3   quantity      38908 non-null  int64         \n",
      " 4   invoice_date  38908 non-null  datetime64[ns]\n",
      " 5   unit_price    38908 non-null  float64       \n",
      " 6   customer_id   38908 non-null  int32         \n",
      "dtypes: datetime64[ns](1), float64(1), int32(1), int64(1), object(3)\n",
      "memory usage: 2.2+ MB\n"
     ]
    }
   ],
   "source": [
    "below_100.info()"
   ]
  },
  {
   "cell_type": "code",
   "execution_count": 28,
   "metadata": {},
   "outputs": [
    {
     "name": "stdout",
     "output_type": "stream",
     "text": [
      "customer_id  description                          unit_price\n",
      "12415        PINK POLKADOT PLATE                  1.45          96\n",
      "12370        HEART DECORATION PAINTED ZINC        0.65          96\n",
      "14646        PLASTERS IN TIN VINTAGE PAISLEY      1.45          96\n",
      "13089        HEART IVORY TRELLIS SMALL            1.25          96\n",
      "14646        PLASTERS IN TIN STRONGMAN            1.45          96\n",
      "14258        SET/6 RED SPOTTY PAPER PLATES        0.64          96\n",
      "14646        BLUE POLKADOT CUP                    0.72          96\n",
      "14258        SET/20 RED RETROSPOT PAPER NAPKINS   0.64          96\n",
      "15061        MAGIC DRAWING SLATE SPACEBOY         0.36          96\n",
      "17511        6 RIBBONS SHIMMERING PINKS           0.42          96\n",
      "14062        HAND WARMER BABUSHKA DESIGN          0.85          96\n",
      "17511        BAG 125g SWIRLY MARBLES              0.36          96\n",
      "15330        FEATHER PEN LIGHT PINK               0.39          96\n",
      "14646        BLUE STRIPE CERAMIC DRAWER KNOB      1.06          96\n",
      "15061        LUNCH BOX I LOVE LONDON              1.65          96\n",
      "17511        BLUE POLKADOT CUP                    0.72          96\n",
      "15061        HANGING JAM JAR T-LIGHT HOLDER       0.72          96\n",
      "17511        BLUE POLKADOT PLATE                  1.45          96\n",
      "15514        ROCKING HORSE RED CHRISTMAS          0.72          96\n",
      "15347        CLOTHES PEGS RETROSPOT PACK 24       1.25          96\n",
      "Name: quantity, dtype: int64\n"
     ]
    }
   ],
   "source": [
    "# Conferir a lista com os valores máximos até 100 pedidos\n",
    "\n",
    "group_below_100 = below_100.groupby(['customer_id','description','unit_price'])['quantity'].max().sort_values(ascending=False)\n",
    "print(group_below_100.head(20))"
   ]
  },
  {
   "cell_type": "code",
   "execution_count": 29,
   "metadata": {},
   "outputs": [
    {
     "data": {
      "image/png": "[encoded data removed]",
      "text/plain": [
       "<Figure size 640x480 with 1 Axes>"
      ]
     },
     "metadata": {},
     "output_type": "display_data"
    }
   ],
   "source": [
    "# Plotar histograma de quantidade inferior a 100\n",
    "\n",
    "quant_below_100 = below_100['quantity']\n",
    "\n",
    "plt.boxplot(quant_below_100)\n",
    "plt.show()"
   ]
  },
  {
   "cell_type": "markdown",
   "metadata": {},
   "source": [
    "- Com base neste novo boxplot é possível ver a distribuição dos dados onde temos o limite superior próximo a 20.\n",
    "    - O passo agora é calcular esse limite, realizar nova filtragem dos dados e observar se vale a pena manter a nova filtragem ou utilizar os dados com quantidade abaixo de 100"
   ]
  },
  {
   "cell_type": "code",
   "execution_count": 30,
   "metadata": {},
   "outputs": [
    {
     "name": "stdout",
     "output_type": "stream",
     "text": [
      "O limite superior é:  27.0\n"
     ]
    }
   ],
   "source": [
    "''' Observação para mim mesmo, eu poderia ter realizado isso logo após confeccionar o primeiro boxplot ao invés de ficar adivinhando valores'''\n",
    "\n",
    "# Calcular o limite superior do boxplot\n",
    "\n",
    "# Calcular o terceiro quartil\n",
    "q3 = below_100['quantity'].quantile(0.75)\n",
    "\n",
    "# Calcular o primeiro quartil\n",
    "q1 = below_100['quantity'].quantile(0.25)\n",
    "\n",
    "# Calcular o intervalo interquartil (IQR)\n",
    "iqr = q3-q1\n",
    "\n",
    "# Calcular o limite superior\n",
    "upper_limit = q3 + 1.5 * iqr\n",
    "\n",
    "print(\"O limite superior é: \", upper_limit)"
   ]
  },
  {
   "cell_type": "markdown",
   "metadata": {},
   "source": [
    "- Como descobri que o limite superior é de 27, vou realizar a filtragem dos dados para 'quantity' até 27 e depois estudar os dados"
   ]
  },
  {
   "cell_type": "code",
   "execution_count": 31,
   "metadata": {},
   "outputs": [],
   "source": [
    "# Filtrando os dados para quantity até 27\n",
    "below_27 = ecommerce_clean[ecommerce_clean['quantity'] <= 27]"
   ]
  },
  {
   "cell_type": "code",
   "execution_count": 32,
   "metadata": {},
   "outputs": [
    {
     "name": "stdout",
     "output_type": "stream",
     "text": [
      "<class 'pandas.core.frame.DataFrame'>\n",
      "Index: 36844 entries, 2 to 41230\n",
      "Data columns (total 7 columns):\n",
      " #   Column        Non-Null Count  Dtype         \n",
      "---  ------        --------------  -----         \n",
      " 0   invoice_no    36844 non-null  object        \n",
      " 1   stock_code    36844 non-null  object        \n",
      " 2   description   36844 non-null  object        \n",
      " 3   quantity      36844 non-null  int64         \n",
      " 4   invoice_date  36844 non-null  datetime64[ns]\n",
      " 5   unit_price    36844 non-null  float64       \n",
      " 6   customer_id   36844 non-null  int32         \n",
      "dtypes: datetime64[ns](1), float64(1), int32(1), int64(1), object(3)\n",
      "memory usage: 2.1+ MB\n"
     ]
    }
   ],
   "source": [
    "below_27.info()"
   ]
  },
  {
   "cell_type": "code",
   "execution_count": 33,
   "metadata": {},
   "outputs": [
    {
     "name": "stdout",
     "output_type": "stream",
     "text": [
      "1680\n"
     ]
    }
   ],
   "source": [
    "# Conferindo o total de usuários únicos após a filtragem\n",
    "\n",
    "unique_users_27 = below_27['customer_id'].nunique()\n",
    "\n",
    "print(unique_users_27)"
   ]
  },
  {
   "cell_type": "markdown",
   "metadata": {},
   "source": [
    "- Com base nos resultados obtidos temos 1680 usuários únicos no novo dataframe filtrado"
   ]
  },
  {
   "cell_type": "markdown",
   "metadata": {},
   "source": [
    "### 1.4 Estudando a coluna 'unit_price'"
   ]
  },
  {
   "cell_type": "markdown",
   "metadata": {},
   "source": [
    "- Antes de mais nada, vou criar renomear o dataframe 'below_27' para 'ecommerce_clean_27' assim entendo de onde vieram esses dados já que eles foram limpos uma vez e filtrados."
   ]
  },
  {
   "cell_type": "code",
   "execution_count": 34,
   "metadata": {},
   "outputs": [],
   "source": [
    "# Renomeando o Dataframe para trabalho\n",
    "\n",
    "ecommerce_clean_27 = below_27"
   ]
  },
  {
   "cell_type": "code",
   "execution_count": 35,
   "metadata": {},
   "outputs": [
    {
     "name": "stdout",
     "output_type": "stream",
     "text": [
      "description                        quantity\n",
      "VINTAGE RED KITCHEN CABINET        1           295.00\n",
      "LOVE SEAT ANTIQUE WHITE METAL      2           175.00\n",
      "RUSTIC SEVENTEEN DRAWER SIDEBOARD  1           165.00\n",
      "REGENCY MIRROR WITH SHUTTERS       1           165.00\n",
      "CARRIAGE                           1           150.00\n",
      "RUSTIC SEVENTEEN DRAWER SIDEBOARD  2           145.00\n",
      "CHEST NATURAL WOOD 20 DRAWERS      1           125.00\n",
      "VINTAGE RED KITCHEN CABINET        2           125.00\n",
      "VINTAGE BLUE KITCHEN CABINET       1           125.00\n",
      "                                   2           125.00\n",
      "CHEST NATURAL WOOD 20 DRAWERS      4           110.00\n",
      "VINTAGE POST OFFICE CABINET        1            79.95\n",
      "SCHOOL DESK AND CHAIR              1            65.00\n",
      "                                   2            65.00\n",
      "VINTAGE POST OFFICE CABINET        10           52.77\n",
      "HALL CABINET WITH 3 DRAWERS        1            49.95\n",
      "PINK PAINTED KASHMIRI CHAIR        4            42.95\n",
      "POSTAGE                            2            40.00\n",
      "                                   3            40.00\n",
      "                                   5            40.00\n",
      "Name: unit_price, dtype: float64\n"
     ]
    }
   ],
   "source": [
    "# Conferir a lista com os valores máximos até 100 pedidos\n",
    "\n",
    "group_unit_price = ecommerce_clean_27.groupby(['description','quantity'])['unit_price'].max().sort_values(ascending=False)\n",
    "print(group_unit_price.head(20))"
   ]
  },
  {
   "cell_type": "markdown",
   "metadata": {},
   "source": [
    "- Observando os preços dos itens, os mesmos parecem de acordo com os itens em questão."
   ]
  },
  {
   "cell_type": "code",
   "execution_count": 36,
   "metadata": {},
   "outputs": [
    {
     "data": {
      "image/png": "[encoded data removed]",
      "text/plain": [
       "<Figure size 640x480 with 1 Axes>"
      ]
     },
     "metadata": {},
     "output_type": "display_data"
    }
   ],
   "source": [
    "# Histograma da distribuição dos preços\n",
    "plt.hist(ecommerce_clean_27['unit_price'], bins=15)\n",
    "plt.ylabel('Frequência dos preços')\n",
    "plt.xlabel('Preço unitário')\n",
    "plt.title('Distribuição dos preços unitários geral')\n",
    "plt.show()"
   ]
  },
  {
   "cell_type": "markdown",
   "metadata": {},
   "source": [
    "- O histograma nos mostra que a grande maioria dos preços unitários dos produtos se encontra entre zero e 25."
   ]
  },
  {
   "cell_type": "code",
   "execution_count": 37,
   "metadata": {},
   "outputs": [
    {
     "data": {
      "image/png": "[encoded data removed]",
      "text/plain": [
       "<Figure size 640x480 with 1 Axes>"
      ]
     },
     "metadata": {},
     "output_type": "display_data"
    }
   ],
   "source": [
    "# Boxplot da distribuição dos preços\n",
    "plt.boxplot(ecommerce_clean_27['unit_price'])\n",
    "plt.ylabel('Preços unitários')\n",
    "plt.title('Distribuição dos preços unitários geral')\n",
    "plt.show()"
   ]
  },
  {
   "cell_type": "markdown",
   "metadata": {},
   "source": [
    "- Com o boxplot dos preços unitarios podemos ver que há vários produtos com valores outliers justificados pelo tipo de produto em si."
   ]
  },
  {
   "cell_type": "code",
   "execution_count": 38,
   "metadata": {},
   "outputs": [
    {
     "name": "stdout",
     "output_type": "stream",
     "text": [
      "O limite superior de preço é:  7.5\n"
     ]
    }
   ],
   "source": [
    "# Calcular o limite superior do boxplot\n",
    "\n",
    "# Calcular o terceiro quartil\n",
    "q3 = ecommerce_clean_27['unit_price'].quantile(0.75)\n",
    "\n",
    "# Calcular o primeiro quartil\n",
    "q1 = ecommerce_clean_27['unit_price'].quantile(0.25)\n",
    "\n",
    "# Calcular o intervalo interquartil (IQR)\n",
    "iqr = q3-q1\n",
    "\n",
    "# Calcular o limite superior\n",
    "upper_limit = q3 + 1.5 * iqr\n",
    "\n",
    "print(\"O limite superior de preço é: \", upper_limit)"
   ]
  },
  {
   "cell_type": "markdown",
   "metadata": {},
   "source": [
    "- Pelo boxplot podemos observar que o limite superior de preço unitario é 7,5 e como a loja vende produtos muito mais caros, mas que saem com menos frequência, isso justifica os outliers."
   ]
  },
  {
   "cell_type": "markdown",
   "metadata": {},
   "source": [
    "## 2 Adição de dados"
   ]
  },
  {
   "cell_type": "markdown",
   "metadata": {},
   "source": [
    "### 2.1 Criar uma coluna com o valor total gasto por usuário"
   ]
  },
  {
   "cell_type": "code",
   "execution_count": 39,
   "metadata": {},
   "outputs": [
    {
     "name": "stderr",
     "output_type": "stream",
     "text": [
      "C:\\Users\\renan\\AppData\\Local\\Temp\\ipykernel_4700\\3784831467.py:1: SettingWithCopyWarning: \n",
      "A value is trying to be set on a copy of a slice from a DataFrame.\n",
      "Try using .loc[row_indexer,col_indexer] = value instead\n",
      "\n",
      "See the caveats in the documentation: https://pandas.pydata.org/pandas-docs/stable/user_guide/indexing.html#returning-a-view-versus-a-copy\n",
      "  ecommerce_clean_27['total_spent'] = (ecommerce_clean_27['unit_price'] * ecommerce_clean_27['quantity'])\n"
     ]
    }
   ],
   "source": [
    "ecommerce_clean_27['total_spent'] = (ecommerce_clean_27['unit_price'] * ecommerce_clean_27['quantity'])"
   ]
  },
  {
   "cell_type": "code",
   "execution_count": 40,
   "metadata": {},
   "outputs": [
    {
     "name": "stdout",
     "output_type": "stream",
     "text": [
      "  invoice_no stock_code                     description  quantity  \\\n",
      "2     537626     85232D   SET/3 DECOUPAGE STACKING TINS         3   \n",
      "3     537626      22725  ALARM CLOCK BAKELIKE CHOCOLATE         4   \n",
      "4     537626      22726      ALARM CLOCK BAKELIKE GREEN         4   \n",
      "5     537626      22727       ALARM CLOCK BAKELIKE RED          4   \n",
      "6     537626      22728       ALARM CLOCK BAKELIKE PINK         4   \n",
      "\n",
      "         invoice_date  unit_price  customer_id  total_spent  \n",
      "2 2018-12-05 14:57:00        4.95        12347        14.85  \n",
      "3 2018-12-05 14:57:00        3.75        12347        15.00  \n",
      "4 2018-12-05 14:57:00        3.75        12347        15.00  \n",
      "5 2018-12-05 14:57:00        3.75        12347        15.00  \n",
      "6 2018-12-05 14:57:00        3.75        12347        15.00  \n"
     ]
    }
   ],
   "source": [
    "print(ecommerce_clean_27.head())"
   ]
  },
  {
   "cell_type": "markdown",
   "metadata": {},
   "source": [
    "#### 2.1.1 Conferindo se todos os valores são numéricos"
   ]
  },
  {
   "cell_type": "code",
   "execution_count": 41,
   "metadata": {},
   "outputs": [
    {
     "name": "stdout",
     "output_type": "stream",
     "text": [
      "A coluna 'total_spent' contém apenas números.\n"
     ]
    }
   ],
   "source": [
    "#Imprimindo para ver se todos os valores da coluna total_spent são numéricos\n",
    "try:\n",
    "    pd.to_numeric(ecommerce_clean_27['total_spent'])\n",
    "    print(\"A coluna 'total_spent' contém apenas números.\")\n",
    "except ValueError:\n",
    "    print(\"A coluna 'total_spent' contém valores não numéricos.\")"
   ]
  },
  {
   "cell_type": "markdown",
   "metadata": {},
   "source": [
    "### 2.2 Adicionar coluna de data apenas no dataframe"
   ]
  },
  {
   "cell_type": "code",
   "execution_count": 42,
   "metadata": {},
   "outputs": [
    {
     "name": "stderr",
     "output_type": "stream",
     "text": [
      "C:\\Users\\renan\\AppData\\Local\\Temp\\ipykernel_4700\\1964287090.py:1: SettingWithCopyWarning: \n",
      "A value is trying to be set on a copy of a slice from a DataFrame.\n",
      "Try using .loc[row_indexer,col_indexer] = value instead\n",
      "\n",
      "See the caveats in the documentation: https://pandas.pydata.org/pandas-docs/stable/user_guide/indexing.html#returning-a-view-versus-a-copy\n",
      "  ecommerce_clean_27['date'] = ecommerce_clean_27['invoice_date'].dt.date\n"
     ]
    }
   ],
   "source": [
    "ecommerce_clean_27['date'] = ecommerce_clean_27['invoice_date'].dt.date"
   ]
  },
  {
   "cell_type": "code",
   "execution_count": 43,
   "metadata": {},
   "outputs": [
    {
     "name": "stdout",
     "output_type": "stream",
     "text": [
      "  invoice_no stock_code                     description  quantity  \\\n",
      "2     537626     85232D   SET/3 DECOUPAGE STACKING TINS         3   \n",
      "3     537626      22725  ALARM CLOCK BAKELIKE CHOCOLATE         4   \n",
      "4     537626      22726      ALARM CLOCK BAKELIKE GREEN         4   \n",
      "5     537626      22727       ALARM CLOCK BAKELIKE RED          4   \n",
      "6     537626      22728       ALARM CLOCK BAKELIKE PINK         4   \n",
      "\n",
      "         invoice_date  unit_price  customer_id  total_spent        date  \n",
      "2 2018-12-05 14:57:00        4.95        12347        14.85  2018-12-05  \n",
      "3 2018-12-05 14:57:00        3.75        12347        15.00  2018-12-05  \n",
      "4 2018-12-05 14:57:00        3.75        12347        15.00  2018-12-05  \n",
      "5 2018-12-05 14:57:00        3.75        12347        15.00  2018-12-05  \n",
      "6 2018-12-05 14:57:00        3.75        12347        15.00  2018-12-05  \n"
     ]
    }
   ],
   "source": [
    "# Obtendo os resultados pós adição da coluna 'date'\n",
    "print(ecommerce_clean_27.head())"
   ]
  },
  {
   "cell_type": "code",
   "execution_count": 44,
   "metadata": {},
   "outputs": [
    {
     "name": "stdout",
     "output_type": "stream",
     "text": [
      "<class 'pandas.core.frame.DataFrame'>\n",
      "Index: 36844 entries, 2 to 41230\n",
      "Data columns (total 9 columns):\n",
      " #   Column        Non-Null Count  Dtype         \n",
      "---  ------        --------------  -----         \n",
      " 0   invoice_no    36844 non-null  object        \n",
      " 1   stock_code    36844 non-null  object        \n",
      " 2   description   36844 non-null  object        \n",
      " 3   quantity      36844 non-null  int64         \n",
      " 4   invoice_date  36844 non-null  datetime64[ns]\n",
      " 5   unit_price    36844 non-null  float64       \n",
      " 6   customer_id   36844 non-null  int32         \n",
      " 7   total_spent   36844 non-null  float64       \n",
      " 8   date          36844 non-null  object        \n",
      "dtypes: datetime64[ns](1), float64(2), int32(1), int64(1), object(4)\n",
      "memory usage: 2.7+ MB\n"
     ]
    }
   ],
   "source": [
    "ecommerce_clean_27.info()"
   ]
  },
  {
   "cell_type": "code",
   "execution_count": 45,
   "metadata": {},
   "outputs": [
    {
     "data": {
      "text/html": [
       "<div>\n",
       "<style scoped>\n",
       "    .dataframe tbody tr th:only-of-type {\n",
       "        vertical-align: middle;\n",
       "    }\n",
       "\n",
       "    .dataframe tbody tr th {\n",
       "        vertical-align: top;\n",
       "    }\n",
       "\n",
       "    .dataframe thead th {\n",
       "        text-align: right;\n",
       "    }\n",
       "</style>\n",
       "<table border=\"1\" class=\"dataframe\">\n",
       "  <thead>\n",
       "    <tr style=\"text-align: right;\">\n",
       "      <th></th>\n",
       "      <th>products</th>\n",
       "      <th>transactions</th>\n",
       "      <th>customers</th>\n",
       "    </tr>\n",
       "  </thead>\n",
       "  <tbody>\n",
       "    <tr>\n",
       "      <th>quantity</th>\n",
       "      <td>2543</td>\n",
       "      <td>3438</td>\n",
       "      <td>1680</td>\n",
       "    </tr>\n",
       "  </tbody>\n",
       "</table>\n",
       "</div>"
      ],
      "text/plain": [
       "          products  transactions  customers\n",
       "quantity      2543          3438       1680"
      ]
     },
     "execution_count": 45,
     "metadata": {},
     "output_type": "execute_result"
    }
   ],
   "source": [
    "#Criar uma tabela para resumir os dados\n",
    "pd.DataFrame([{'products': len(ecommerce_clean_27['stock_code'].value_counts()),\n",
    "               'transactions':len(ecommerce_clean_27['invoice_no'].value_counts()),\n",
    "               'customers':len(ecommerce_clean_27['customer_id'].value_counts()),\n",
    "               }], columns=['products','transactions','customers'], index=['quantity'])"
   ]
  },
  {
   "cell_type": "markdown",
   "metadata": {},
   "source": [
    "- Após todo o tratamento dos dados podemos ver que os resultados advém de 1680 usuários, os quais compraram 2543 produtos diferentes sendo que o total de transações realizadas foi de 3438."
   ]
  },
  {
   "cell_type": "markdown",
   "metadata": {},
   "source": [
    "## 3 Análise de Coorte"
   ]
  },
  {
   "cell_type": "markdown",
   "metadata": {},
   "source": [
    "## 4 Codificação dos dados "
   ]
  },
  {
   "cell_type": "markdown",
   "metadata": {},
   "source": [
    "### 4.1 Label Encoding"
   ]
  },
  {
   "cell_type": "code",
   "execution_count": 46,
   "metadata": {},
   "outputs": [
    {
     "name": "stdout",
     "output_type": "stream",
     "text": [
      "<class 'pandas.core.frame.DataFrame'>\n",
      "Index: 36844 entries, 2 to 41230\n",
      "Data columns (total 9 columns):\n",
      " #   Column        Non-Null Count  Dtype         \n",
      "---  ------        --------------  -----         \n",
      " 0   invoice_no    36844 non-null  object        \n",
      " 1   stock_code    36844 non-null  object        \n",
      " 2   description   36844 non-null  object        \n",
      " 3   quantity      36844 non-null  int64         \n",
      " 4   invoice_date  36844 non-null  datetime64[ns]\n",
      " 5   unit_price    36844 non-null  float64       \n",
      " 6   customer_id   36844 non-null  int32         \n",
      " 7   total_spent   36844 non-null  float64       \n",
      " 8   date          36844 non-null  object        \n",
      "dtypes: datetime64[ns](1), float64(2), int32(1), int64(1), object(4)\n",
      "memory usage: 2.7+ MB\n"
     ]
    }
   ],
   "source": [
    "ecommerce_clean_27.info()"
   ]
  },
  {
   "cell_type": "code",
   "execution_count": 47,
   "metadata": {},
   "outputs": [
    {
     "name": "stderr",
     "output_type": "stream",
     "text": [
      "C:\\Users\\renan\\AppData\\Local\\Temp\\ipykernel_4700\\2563632898.py:5: SettingWithCopyWarning: \n",
      "A value is trying to be set on a copy of a slice from a DataFrame\n",
      "\n",
      "See the caveats in the documentation: https://pandas.pydata.org/pandas-docs/stable/user_guide/indexing.html#returning-a-view-versus-a-copy\n",
      "  ecommerce_clean_27.drop(['invoice_date'], axis=1, inplace=True)\n"
     ]
    },
    {
     "data": {
      "text/plain": [
       "' Ao tentar realizar'"
      ]
     },
     "execution_count": 47,
     "metadata": {},
     "output_type": "execute_result"
    }
   ],
   "source": [
    "''' A coluna 'invoice_date' está dando problema na transformação utilizando label encoding. \n",
    "Na hora de realizar a regressão logistica ela não reconhece o formato datetime, ou seja, ou eu transformo para object ou removo ela.\n",
    "Nesse caso, como tenho a coluna date acredito que vou remover a invoice_date'''\n",
    "\n",
    "ecommerce_clean_27.drop(['invoice_date'], axis=1, inplace=True)\n",
    "\n"
   ]
  },
  {
   "cell_type": "code",
   "execution_count": 48,
   "metadata": {},
   "outputs": [],
   "source": [
    "#dividindo o conjunto de dados\n",
    "\n",
    "X = ecommerce_clean_27.drop(columns=['description'])\n",
    "y = ecommerce_clean_27['description']\n",
    "\n",
    "#Dividir os dados em treino e teste\n",
    "X_train, X_test, y_train, y_test = train_test_split(X, y, test_size=0.2, random_state=0)\n"
   ]
  },
  {
   "cell_type": "code",
   "execution_count": 49,
   "metadata": {},
   "outputs": [],
   "source": [
    "# Renomear o dataframe para fazer a categorização das colunas com tipo objeto\n",
    "train = ecommerce_clean_27"
   ]
  },
  {
   "cell_type": "code",
   "execution_count": 50,
   "metadata": {},
   "outputs": [
    {
     "name": "stdout",
     "output_type": "stream",
     "text": [
      "   invoice_no stock_code                        description  quantity  \\\n",
      "8      537626      22375  AIRLINE BAG VINTAGE JET SET BROWN         4   \n",
      "3      537626      22725     ALARM CLOCK BAKELIKE CHOCOLATE         4   \n",
      "4      537626      22726         ALARM CLOCK BAKELIKE GREEN         4   \n",
      "7      537626      22729        ALARM CLOCK BAKELIKE ORANGE         4   \n",
      "6      537626      22728          ALARM CLOCK BAKELIKE PINK         4   \n",
      "5      537626      22727          ALARM CLOCK BAKELIKE RED          4   \n",
      "11     537626     84997C  BLUE 3 PIECE POLKADOT CUTLERY SET         6   \n",
      "10     537626      22212          FOUR HOOK WHITE LOVEBIRDS         6   \n",
      "9      537626      22497    SET OF 2 TINS VINTAGE BATHROOM          4   \n",
      "2      537626     85232D      SET/3 DECOUPAGE STACKING TINS         3   \n",
      "\n",
      "    unit_price  customer_id  total_spent        date  \n",
      "8         4.25        12347        17.00  2018-12-05  \n",
      "3         3.75        12347        15.00  2018-12-05  \n",
      "4         3.75        12347        15.00  2018-12-05  \n",
      "7         3.75        12347        15.00  2018-12-05  \n",
      "6         3.75        12347        15.00  2018-12-05  \n",
      "5         3.75        12347        15.00  2018-12-05  \n",
      "11        3.75        12347        22.50  2018-12-05  \n",
      "10        2.10        12347        12.60  2018-12-05  \n",
      "9         4.25        12347        17.00  2018-12-05  \n",
      "2         4.95        12347        14.85  2018-12-05  \n"
     ]
    }
   ],
   "source": [
    "print(train.head(10).sort_values(by='description'))"
   ]
  },
  {
   "cell_type": "code",
   "execution_count": 51,
   "metadata": {},
   "outputs": [
    {
     "name": "stderr",
     "output_type": "stream",
     "text": [
      "C:\\Users\\renan\\AppData\\Local\\Temp\\ipykernel_4700\\1569315618.py:3: SettingWithCopyWarning: \n",
      "A value is trying to be set on a copy of a slice from a DataFrame.\n",
      "Try using .loc[row_indexer,col_indexer] = value instead\n",
      "\n",
      "See the caveats in the documentation: https://pandas.pydata.org/pandas-docs/stable/user_guide/indexing.html#returning-a-view-versus-a-copy\n",
      "  train['invoice_no'] = label.fit_transform(train['invoice_no'])\n",
      "C:\\Users\\renan\\AppData\\Local\\Temp\\ipykernel_4700\\1569315618.py:4: SettingWithCopyWarning: \n",
      "A value is trying to be set on a copy of a slice from a DataFrame.\n",
      "Try using .loc[row_indexer,col_indexer] = value instead\n",
      "\n",
      "See the caveats in the documentation: https://pandas.pydata.org/pandas-docs/stable/user_guide/indexing.html#returning-a-view-versus-a-copy\n",
      "  train['stock_code'] = label.fit_transform(train['stock_code'])\n",
      "C:\\Users\\renan\\AppData\\Local\\Temp\\ipykernel_4700\\1569315618.py:5: SettingWithCopyWarning: \n",
      "A value is trying to be set on a copy of a slice from a DataFrame.\n",
      "Try using .loc[row_indexer,col_indexer] = value instead\n",
      "\n",
      "See the caveats in the documentation: https://pandas.pydata.org/pandas-docs/stable/user_guide/indexing.html#returning-a-view-versus-a-copy\n",
      "  train['description'] = label.fit_transform(train['description'])\n",
      "C:\\Users\\renan\\AppData\\Local\\Temp\\ipykernel_4700\\1569315618.py:6: SettingWithCopyWarning: \n",
      "A value is trying to be set on a copy of a slice from a DataFrame.\n",
      "Try using .loc[row_indexer,col_indexer] = value instead\n",
      "\n",
      "See the caveats in the documentation: https://pandas.pydata.org/pandas-docs/stable/user_guide/indexing.html#returning-a-view-versus-a-copy\n",
      "  train['date'] = label.fit_transform(train['date'])\n"
     ]
    }
   ],
   "source": [
    "label = LabelEncoder()\n",
    "\n",
    "train['invoice_no'] = label.fit_transform(train['invoice_no'])\n",
    "train['stock_code'] = label.fit_transform(train['stock_code'])\n",
    "train['description'] = label.fit_transform(train['description']) \n",
    "train['date'] = label.fit_transform(train['date'])\n"
   ]
  },
  {
   "cell_type": "code",
   "execution_count": 52,
   "metadata": {},
   "outputs": [
    {
     "data": {
      "text/plain": [
       "\"\\n- Tinha criado essa função para alterar os dados para o tipo int para usar no código mas ela me retornava valores nulos em algumas das células\\n\\n%%time\\n\\ntrain = pd.DataFrame()\\n\\n\\n# Criar um ciclo for para transformar os dados do tipo objeto para algum número do tipo int\\n\\nfor c in X.columns:\\n    if(X[c].dtype=='object'):\\n        train[c]= label.fit_transform(X[c])\\n    else:\\n        train[c]=X[c]\\n\\nprint(train.head(3))\\n\\n\""
      ]
     },
     "execution_count": 52,
     "metadata": {},
     "output_type": "execute_result"
    }
   ],
   "source": [
    "'''\n",
    "- Tinha criado essa função para alterar os dados para o tipo int para usar no código mas ela me retornava valores nulos em algumas das células\n",
    "\n",
    "%%time\n",
    "\n",
    "train = pd.DataFrame()\n",
    "\n",
    "\n",
    "# Criar um ciclo for para transformar os dados do tipo objeto para algum número do tipo int\n",
    "\n",
    "for c in X.columns:\n",
    "    if(X[c].dtype=='object'):\n",
    "        train[c]= label.fit_transform(X[c])\n",
    "    else:\n",
    "        train[c]=X[c]\n",
    "\n",
    "print(train.head(3))\n",
    "\n",
    "'''"
   ]
  },
  {
   "cell_type": "code",
   "execution_count": 53,
   "metadata": {},
   "outputs": [
    {
     "name": "stdout",
     "output_type": "stream",
     "text": [
      "O dataset de treino tem 36844 linhas e 8 colunas\n"
     ]
    }
   ],
   "source": [
    "print('O dataset de treino tem {} linhas e {} colunas'.format(train.shape[0],train.shape[1]))"
   ]
  },
  {
   "cell_type": "markdown",
   "metadata": {},
   "source": [
    "- A codificação via Label Encoding funcionou, não gerando mudança no número de colunas e linhas entretanto alguns valores ficaram nulos."
   ]
  },
  {
   "cell_type": "markdown",
   "metadata": {},
   "source": [
    "#### 4.1.1 Regressão logistica"
   ]
  },
  {
   "cell_type": "code",
   "execution_count": 54,
   "metadata": {},
   "outputs": [],
   "source": [
    "# Definindo a fórmula para aplicar a regressão logistica\n",
    "def logistic(X,y):\n",
    "    X_train,X_test,y_train,y_test = train_test_split(X,y, random_state=0)\n",
    "    lr=LogisticRegression()\n",
    "    lr.fit(X_train,y_train)\n",
    "    y_pre = lr.predict(X_test)\n",
    "    print('Accuracy: ', accuracy_score(y_test, y_pre)) "
   ]
  },
  {
   "cell_type": "code",
   "execution_count": 55,
   "metadata": {},
   "outputs": [
    {
     "name": "stderr",
     "output_type": "stream",
     "text": [
      "c:\\Users\\renan\\Python\\Lib\\site-packages\\sklearn\\linear_model\\_logistic.py:469: ConvergenceWarning: lbfgs failed to converge (status=1):\n",
      "STOP: TOTAL NO. of ITERATIONS REACHED LIMIT.\n",
      "\n",
      "Increase the number of iterations (max_iter) or scale the data as shown in:\n",
      "    https://scikit-learn.org/stable/modules/preprocessing.html\n",
      "Please also refer to the documentation for alternative solver options:\n",
      "    https://scikit-learn.org/stable/modules/linear_model.html#logistic-regression\n",
      "  n_iter_i = _check_optimize_result(\n"
     ]
    },
    {
     "name": "stdout",
     "output_type": "stream",
     "text": [
      "Accuracy:  0.07415047226142656\n"
     ]
    }
   ],
   "source": [
    "# Obtendo o resultado\n",
    "logistic(train,y)"
   ]
  },
  {
   "cell_type": "markdown",
   "metadata": {},
   "source": [
    "- Após utilizar Label Encodign para substituir os dados do tipo object para int e tentar prever a chance de se comprar determinados produtos 'description' através da regressão logistica, cheguei a um modelo com 7,4% de acurácia, o que mostra que este modelo não foi adequado para essa previsão."
   ]
  },
  {
   "cell_type": "markdown",
   "metadata": {},
   "source": [
    "### 4.2 On Hot Encoding"
   ]
  },
  {
   "cell_type": "code",
   "execution_count": 56,
   "metadata": {},
   "outputs": [
    {
     "name": "stdout",
     "output_type": "stream",
     "text": [
      "O dataset de treino tem 36844 linhas e 8 colunas\n",
      "CPU times: total: 78.1 ms\n",
      "Wall time: 76 ms\n"
     ]
    }
   ],
   "source": [
    "%%time \n",
    "# me mostra o tempo de execução da célula\n",
    "\n",
    "one = OneHotEncoder()\n",
    "\n",
    "one.fit(X)\n",
    "train_o_h_e = one.transform(X)\n",
    "\n",
    "print('O dataset de treino tem {} linhas e {} colunas'.format(train.shape[0],train.shape[1]))\n"
   ]
  },
  {
   "cell_type": "markdown",
   "metadata": {},
   "source": [
    "#### 4.2.1 Regressão logistica"
   ]
  },
  {
   "cell_type": "code",
   "execution_count": 57,
   "metadata": {},
   "outputs": [
    {
     "name": "stdout",
     "output_type": "stream",
     "text": [
      "Accuracy:  0.9229182499185756\n"
     ]
    }
   ],
   "source": [
    "logistic(train_o_h_e,y)"
   ]
  },
  {
   "cell_type": "markdown",
   "metadata": {},
   "source": [
    "- A utilização do On Hot Encoding para codificação dos dados, com posterior regressão logística se mostrou eficiente para a predição dos produtos comprados. Nesse caso, a acurácia obtida foi de 92,29% muito mais interessante que o modelo obtido com Label Encoding.\n",
    "- A desvantagem que eu vejo desse método é que ele aumentou muito o tamanho do dataframe, adicionando novas colunas.\n",
    "\n",
    "- <b> É um bom dataset para trabalhar realizar os agrupamentos. Testarei mais alguns para ter certeza."
   ]
  },
  {
   "cell_type": "markdown",
   "metadata": {},
   "source": [
    "### 4.3 Feature Hashing"
   ]
  },
  {
   "cell_type": "code",
   "execution_count": 76,
   "metadata": {},
   "outputs": [],
   "source": [
    "#dividindo o conjunto de dados\n",
    "\n",
    "X = ecommerce_clean_27.drop(columns=['description'])\n",
    "y = ecommerce_clean_27['description']\n",
    "\n",
    "#Dividir os dados em treino e teste\n",
    "X_train, X_test, y_train, y_test = train_test_split(X, y, test_size=0.2, random_state=0)\n"
   ]
  },
  {
   "cell_type": "code",
   "execution_count": 77,
   "metadata": {},
   "outputs": [
    {
     "name": "stdout",
     "output_type": "stream",
     "text": [
      "CPU times: total: 297 ms\n",
      "Wall time: 301 ms\n"
     ]
    }
   ],
   "source": [
    "%%time\n",
    "\n",
    "X_train_hash=X.copy()\n",
    "for c in X.columns:\n",
    "    X_train_hash[c] = X[c].astype('str')\n",
    "hashing = FeatureHasher(input_type='string')\n",
    "train=hashing.transform(X_train_hash.values)"
   ]
  },
  {
   "cell_type": "code",
   "execution_count": 78,
   "metadata": {},
   "outputs": [
    {
     "name": "stdout",
     "output_type": "stream",
     "text": [
      "O dataset de treino tem 36844 linhase 1048576 colunas\n"
     ]
    }
   ],
   "source": [
    "print('O dataset de treino tem {} linhase {} colunas'.format(train.shape[0],train.shape[1]))"
   ]
  },
  {
   "cell_type": "markdown",
   "metadata": {},
   "source": [
    "#### 4.3.1 Regressão logistica "
   ]
  },
  {
   "cell_type": "code",
   "execution_count": 79,
   "metadata": {},
   "outputs": [
    {
     "ename": "MemoryError",
     "evalue": "",
     "output_type": "error",
     "traceback": [
      "\u001b[1;31m---------------------------------------------------------------------------\u001b[0m",
      "\u001b[1;31mMemoryError\u001b[0m                               Traceback (most recent call last)",
      "Cell \u001b[1;32mIn[79], line 1\u001b[0m\n\u001b[1;32m----> 1\u001b[0m \u001b[43mlogistic\u001b[49m\u001b[43m(\u001b[49m\u001b[43mtrain\u001b[49m\u001b[43m,\u001b[49m\u001b[43my\u001b[49m\u001b[43m)\u001b[49m \n\u001b[0;32m      3\u001b[0m \u001b[38;5;124;03m'''Ao tentar executar a fórmula deu erro de memória, ou seja, o conjunto de dados está muito grande para trabalhar. \u001b[39;00m\n\u001b[0;32m      4\u001b[0m \u001b[38;5;124;03mUma alternativa seria a de remover algumas informações para tentar rodar o código de maneira que fique mais leve\u001b[39;00m\n\u001b[0;32m      5\u001b[0m \u001b[38;5;124;03m'''\u001b[39;00m\n",
      "Cell \u001b[1;32mIn[54], line 5\u001b[0m, in \u001b[0;36mlogistic\u001b[1;34m(X, y)\u001b[0m\n\u001b[0;32m      3\u001b[0m X_train,X_test,y_train,y_test \u001b[38;5;241m=\u001b[39m train_test_split(X,y, random_state\u001b[38;5;241m=\u001b[39m\u001b[38;5;241m0\u001b[39m)\n\u001b[0;32m      4\u001b[0m lr\u001b[38;5;241m=\u001b[39mLogisticRegression()\n\u001b[1;32m----> 5\u001b[0m \u001b[43mlr\u001b[49m\u001b[38;5;241;43m.\u001b[39;49m\u001b[43mfit\u001b[49m\u001b[43m(\u001b[49m\u001b[43mX_train\u001b[49m\u001b[43m,\u001b[49m\u001b[43my_train\u001b[49m\u001b[43m)\u001b[49m\n\u001b[0;32m      6\u001b[0m y_pre \u001b[38;5;241m=\u001b[39m lr\u001b[38;5;241m.\u001b[39mpredict(X_test)\n\u001b[0;32m      7\u001b[0m \u001b[38;5;28mprint\u001b[39m(\u001b[38;5;124m'\u001b[39m\u001b[38;5;124mAccuracy: \u001b[39m\u001b[38;5;124m'\u001b[39m, accuracy_score(y_test, y_pre))\n",
      "File \u001b[1;32mc:\\Users\\renan\\Python\\Lib\\site-packages\\sklearn\\base.py:1351\u001b[0m, in \u001b[0;36m_fit_context.<locals>.decorator.<locals>.wrapper\u001b[1;34m(estimator, *args, **kwargs)\u001b[0m\n\u001b[0;32m   1344\u001b[0m     estimator\u001b[38;5;241m.\u001b[39m_validate_params()\n\u001b[0;32m   1346\u001b[0m \u001b[38;5;28;01mwith\u001b[39;00m config_context(\n\u001b[0;32m   1347\u001b[0m     skip_parameter_validation\u001b[38;5;241m=\u001b[39m(\n\u001b[0;32m   1348\u001b[0m         prefer_skip_nested_validation \u001b[38;5;129;01mor\u001b[39;00m global_skip_validation\n\u001b[0;32m   1349\u001b[0m     )\n\u001b[0;32m   1350\u001b[0m ):\n\u001b[1;32m-> 1351\u001b[0m     \u001b[38;5;28;01mreturn\u001b[39;00m \u001b[43mfit_method\u001b[49m\u001b[43m(\u001b[49m\u001b[43mestimator\u001b[49m\u001b[43m,\u001b[49m\u001b[43m \u001b[49m\u001b[38;5;241;43m*\u001b[39;49m\u001b[43margs\u001b[49m\u001b[43m,\u001b[49m\u001b[43m \u001b[49m\u001b[38;5;241;43m*\u001b[39;49m\u001b[38;5;241;43m*\u001b[39;49m\u001b[43mkwargs\u001b[49m\u001b[43m)\u001b[49m\n",
      "File \u001b[1;32mc:\\Users\\renan\\Python\\Lib\\site-packages\\sklearn\\linear_model\\_logistic.py:1296\u001b[0m, in \u001b[0;36mLogisticRegression.fit\u001b[1;34m(self, X, y, sample_weight)\u001b[0m\n\u001b[0;32m   1293\u001b[0m \u001b[38;5;28;01melse\u001b[39;00m:\n\u001b[0;32m   1294\u001b[0m     n_threads \u001b[38;5;241m=\u001b[39m \u001b[38;5;241m1\u001b[39m\n\u001b[1;32m-> 1296\u001b[0m fold_coefs_ \u001b[38;5;241m=\u001b[39m \u001b[43mParallel\u001b[49m\u001b[43m(\u001b[49m\u001b[43mn_jobs\u001b[49m\u001b[38;5;241;43m=\u001b[39;49m\u001b[38;5;28;43mself\u001b[39;49m\u001b[38;5;241;43m.\u001b[39;49m\u001b[43mn_jobs\u001b[49m\u001b[43m,\u001b[49m\u001b[43m \u001b[49m\u001b[43mverbose\u001b[49m\u001b[38;5;241;43m=\u001b[39;49m\u001b[38;5;28;43mself\u001b[39;49m\u001b[38;5;241;43m.\u001b[39;49m\u001b[43mverbose\u001b[49m\u001b[43m,\u001b[49m\u001b[43m \u001b[49m\u001b[43mprefer\u001b[49m\u001b[38;5;241;43m=\u001b[39;49m\u001b[43mprefer\u001b[49m\u001b[43m)\u001b[49m\u001b[43m(\u001b[49m\n\u001b[0;32m   1297\u001b[0m \u001b[43m    \u001b[49m\u001b[43mpath_func\u001b[49m\u001b[43m(\u001b[49m\n\u001b[0;32m   1298\u001b[0m \u001b[43m        \u001b[49m\u001b[43mX\u001b[49m\u001b[43m,\u001b[49m\n\u001b[0;32m   1299\u001b[0m \u001b[43m        \u001b[49m\u001b[43my\u001b[49m\u001b[43m,\u001b[49m\n\u001b[0;32m   1300\u001b[0m \u001b[43m        \u001b[49m\u001b[43mpos_class\u001b[49m\u001b[38;5;241;43m=\u001b[39;49m\u001b[43mclass_\u001b[49m\u001b[43m,\u001b[49m\n\u001b[0;32m   1301\u001b[0m \u001b[43m        \u001b[49m\u001b[43mCs\u001b[49m\u001b[38;5;241;43m=\u001b[39;49m\u001b[43m[\u001b[49m\u001b[43mC_\u001b[49m\u001b[43m]\u001b[49m\u001b[43m,\u001b[49m\n\u001b[0;32m   1302\u001b[0m \u001b[43m        \u001b[49m\u001b[43ml1_ratio\u001b[49m\u001b[38;5;241;43m=\u001b[39;49m\u001b[38;5;28;43mself\u001b[39;49m\u001b[38;5;241;43m.\u001b[39;49m\u001b[43ml1_ratio\u001b[49m\u001b[43m,\u001b[49m\n\u001b[0;32m   1303\u001b[0m \u001b[43m        \u001b[49m\u001b[43mfit_intercept\u001b[49m\u001b[38;5;241;43m=\u001b[39;49m\u001b[38;5;28;43mself\u001b[39;49m\u001b[38;5;241;43m.\u001b[39;49m\u001b[43mfit_intercept\u001b[49m\u001b[43m,\u001b[49m\n\u001b[0;32m   1304\u001b[0m \u001b[43m        \u001b[49m\u001b[43mtol\u001b[49m\u001b[38;5;241;43m=\u001b[39;49m\u001b[38;5;28;43mself\u001b[39;49m\u001b[38;5;241;43m.\u001b[39;49m\u001b[43mtol\u001b[49m\u001b[43m,\u001b[49m\n\u001b[0;32m   1305\u001b[0m \u001b[43m        \u001b[49m\u001b[43mverbose\u001b[49m\u001b[38;5;241;43m=\u001b[39;49m\u001b[38;5;28;43mself\u001b[39;49m\u001b[38;5;241;43m.\u001b[39;49m\u001b[43mverbose\u001b[49m\u001b[43m,\u001b[49m\n\u001b[0;32m   1306\u001b[0m \u001b[43m        \u001b[49m\u001b[43msolver\u001b[49m\u001b[38;5;241;43m=\u001b[39;49m\u001b[43msolver\u001b[49m\u001b[43m,\u001b[49m\n\u001b[0;32m   1307\u001b[0m \u001b[43m        \u001b[49m\u001b[43mmulti_class\u001b[49m\u001b[38;5;241;43m=\u001b[39;49m\u001b[43mmulti_class\u001b[49m\u001b[43m,\u001b[49m\n\u001b[0;32m   1308\u001b[0m \u001b[43m        \u001b[49m\u001b[43mmax_iter\u001b[49m\u001b[38;5;241;43m=\u001b[39;49m\u001b[38;5;28;43mself\u001b[39;49m\u001b[38;5;241;43m.\u001b[39;49m\u001b[43mmax_iter\u001b[49m\u001b[43m,\u001b[49m\n\u001b[0;32m   1309\u001b[0m \u001b[43m        \u001b[49m\u001b[43mclass_weight\u001b[49m\u001b[38;5;241;43m=\u001b[39;49m\u001b[38;5;28;43mself\u001b[39;49m\u001b[38;5;241;43m.\u001b[39;49m\u001b[43mclass_weight\u001b[49m\u001b[43m,\u001b[49m\n\u001b[0;32m   1310\u001b[0m \u001b[43m        \u001b[49m\u001b[43mcheck_input\u001b[49m\u001b[38;5;241;43m=\u001b[39;49m\u001b[38;5;28;43;01mFalse\u001b[39;49;00m\u001b[43m,\u001b[49m\n\u001b[0;32m   1311\u001b[0m \u001b[43m        \u001b[49m\u001b[43mrandom_state\u001b[49m\u001b[38;5;241;43m=\u001b[39;49m\u001b[38;5;28;43mself\u001b[39;49m\u001b[38;5;241;43m.\u001b[39;49m\u001b[43mrandom_state\u001b[49m\u001b[43m,\u001b[49m\n\u001b[0;32m   1312\u001b[0m \u001b[43m        \u001b[49m\u001b[43mcoef\u001b[49m\u001b[38;5;241;43m=\u001b[39;49m\u001b[43mwarm_start_coef_\u001b[49m\u001b[43m,\u001b[49m\n\u001b[0;32m   1313\u001b[0m \u001b[43m        \u001b[49m\u001b[43mpenalty\u001b[49m\u001b[38;5;241;43m=\u001b[39;49m\u001b[43mpenalty\u001b[49m\u001b[43m,\u001b[49m\n\u001b[0;32m   1314\u001b[0m \u001b[43m        \u001b[49m\u001b[43mmax_squared_sum\u001b[49m\u001b[38;5;241;43m=\u001b[39;49m\u001b[43mmax_squared_sum\u001b[49m\u001b[43m,\u001b[49m\n\u001b[0;32m   1315\u001b[0m \u001b[43m        \u001b[49m\u001b[43msample_weight\u001b[49m\u001b[38;5;241;43m=\u001b[39;49m\u001b[43msample_weight\u001b[49m\u001b[43m,\u001b[49m\n\u001b[0;32m   1316\u001b[0m \u001b[43m        \u001b[49m\u001b[43mn_threads\u001b[49m\u001b[38;5;241;43m=\u001b[39;49m\u001b[43mn_threads\u001b[49m\u001b[43m,\u001b[49m\n\u001b[0;32m   1317\u001b[0m \u001b[43m    \u001b[49m\u001b[43m)\u001b[49m\n\u001b[0;32m   1318\u001b[0m \u001b[43m    \u001b[49m\u001b[38;5;28;43;01mfor\u001b[39;49;00m\u001b[43m \u001b[49m\u001b[43mclass_\u001b[49m\u001b[43m,\u001b[49m\u001b[43m \u001b[49m\u001b[43mwarm_start_coef_\u001b[49m\u001b[43m \u001b[49m\u001b[38;5;129;43;01min\u001b[39;49;00m\u001b[43m \u001b[49m\u001b[38;5;28;43mzip\u001b[39;49m\u001b[43m(\u001b[49m\u001b[43mclasses_\u001b[49m\u001b[43m,\u001b[49m\u001b[43m \u001b[49m\u001b[43mwarm_start_coef\u001b[49m\u001b[43m)\u001b[49m\n\u001b[0;32m   1319\u001b[0m \u001b[43m\u001b[49m\u001b[43m)\u001b[49m\n\u001b[0;32m   1321\u001b[0m fold_coefs_, _, n_iter_ \u001b[38;5;241m=\u001b[39m \u001b[38;5;28mzip\u001b[39m(\u001b[38;5;241m*\u001b[39mfold_coefs_)\n\u001b[0;32m   1322\u001b[0m \u001b[38;5;28mself\u001b[39m\u001b[38;5;241m.\u001b[39mn_iter_ \u001b[38;5;241m=\u001b[39m np\u001b[38;5;241m.\u001b[39masarray(n_iter_, dtype\u001b[38;5;241m=\u001b[39mnp\u001b[38;5;241m.\u001b[39mint32)[:, \u001b[38;5;241m0\u001b[39m]\n",
      "File \u001b[1;32mc:\\Users\\renan\\Python\\Lib\\site-packages\\sklearn\\utils\\parallel.py:67\u001b[0m, in \u001b[0;36mParallel.__call__\u001b[1;34m(self, iterable)\u001b[0m\n\u001b[0;32m     62\u001b[0m config \u001b[38;5;241m=\u001b[39m get_config()\n\u001b[0;32m     63\u001b[0m iterable_with_config \u001b[38;5;241m=\u001b[39m (\n\u001b[0;32m     64\u001b[0m     (_with_config(delayed_func, config), args, kwargs)\n\u001b[0;32m     65\u001b[0m     \u001b[38;5;28;01mfor\u001b[39;00m delayed_func, args, kwargs \u001b[38;5;129;01min\u001b[39;00m iterable\n\u001b[0;32m     66\u001b[0m )\n\u001b[1;32m---> 67\u001b[0m \u001b[38;5;28;01mreturn\u001b[39;00m \u001b[38;5;28;43msuper\u001b[39;49m\u001b[43m(\u001b[49m\u001b[43m)\u001b[49m\u001b[38;5;241;43m.\u001b[39;49m\u001b[38;5;21;43m__call__\u001b[39;49m\u001b[43m(\u001b[49m\u001b[43miterable_with_config\u001b[49m\u001b[43m)\u001b[49m\n",
      "File \u001b[1;32mc:\\Users\\renan\\Python\\Lib\\site-packages\\joblib\\parallel.py:1863\u001b[0m, in \u001b[0;36mParallel.__call__\u001b[1;34m(self, iterable)\u001b[0m\n\u001b[0;32m   1861\u001b[0m     output \u001b[38;5;241m=\u001b[39m \u001b[38;5;28mself\u001b[39m\u001b[38;5;241m.\u001b[39m_get_sequential_output(iterable)\n\u001b[0;32m   1862\u001b[0m     \u001b[38;5;28mnext\u001b[39m(output)\n\u001b[1;32m-> 1863\u001b[0m     \u001b[38;5;28;01mreturn\u001b[39;00m output \u001b[38;5;28;01mif\u001b[39;00m \u001b[38;5;28mself\u001b[39m\u001b[38;5;241m.\u001b[39mreturn_generator \u001b[38;5;28;01melse\u001b[39;00m \u001b[38;5;28;43mlist\u001b[39;49m\u001b[43m(\u001b[49m\u001b[43moutput\u001b[49m\u001b[43m)\u001b[49m\n\u001b[0;32m   1865\u001b[0m \u001b[38;5;66;03m# Let's create an ID that uniquely identifies the current call. If the\u001b[39;00m\n\u001b[0;32m   1866\u001b[0m \u001b[38;5;66;03m# call is interrupted early and that the same instance is immediately\u001b[39;00m\n\u001b[0;32m   1867\u001b[0m \u001b[38;5;66;03m# re-used, this id will be used to prevent workers that were\u001b[39;00m\n\u001b[0;32m   1868\u001b[0m \u001b[38;5;66;03m# concurrently finalizing a task from the previous call to run the\u001b[39;00m\n\u001b[0;32m   1869\u001b[0m \u001b[38;5;66;03m# callback.\u001b[39;00m\n\u001b[0;32m   1870\u001b[0m \u001b[38;5;28;01mwith\u001b[39;00m \u001b[38;5;28mself\u001b[39m\u001b[38;5;241m.\u001b[39m_lock:\n",
      "File \u001b[1;32mc:\\Users\\renan\\Python\\Lib\\site-packages\\joblib\\parallel.py:1792\u001b[0m, in \u001b[0;36mParallel._get_sequential_output\u001b[1;34m(self, iterable)\u001b[0m\n\u001b[0;32m   1790\u001b[0m \u001b[38;5;28mself\u001b[39m\u001b[38;5;241m.\u001b[39mn_dispatched_batches \u001b[38;5;241m+\u001b[39m\u001b[38;5;241m=\u001b[39m \u001b[38;5;241m1\u001b[39m\n\u001b[0;32m   1791\u001b[0m \u001b[38;5;28mself\u001b[39m\u001b[38;5;241m.\u001b[39mn_dispatched_tasks \u001b[38;5;241m+\u001b[39m\u001b[38;5;241m=\u001b[39m \u001b[38;5;241m1\u001b[39m\n\u001b[1;32m-> 1792\u001b[0m res \u001b[38;5;241m=\u001b[39m \u001b[43mfunc\u001b[49m\u001b[43m(\u001b[49m\u001b[38;5;241;43m*\u001b[39;49m\u001b[43margs\u001b[49m\u001b[43m,\u001b[49m\u001b[43m \u001b[49m\u001b[38;5;241;43m*\u001b[39;49m\u001b[38;5;241;43m*\u001b[39;49m\u001b[43mkwargs\u001b[49m\u001b[43m)\u001b[49m\n\u001b[0;32m   1793\u001b[0m \u001b[38;5;28mself\u001b[39m\u001b[38;5;241m.\u001b[39mn_completed_tasks \u001b[38;5;241m+\u001b[39m\u001b[38;5;241m=\u001b[39m \u001b[38;5;241m1\u001b[39m\n\u001b[0;32m   1794\u001b[0m \u001b[38;5;28mself\u001b[39m\u001b[38;5;241m.\u001b[39mprint_progress()\n",
      "File \u001b[1;32mc:\\Users\\renan\\Python\\Lib\\site-packages\\sklearn\\utils\\parallel.py:129\u001b[0m, in \u001b[0;36m_FuncWrapper.__call__\u001b[1;34m(self, *args, **kwargs)\u001b[0m\n\u001b[0;32m    127\u001b[0m     config \u001b[38;5;241m=\u001b[39m {}\n\u001b[0;32m    128\u001b[0m \u001b[38;5;28;01mwith\u001b[39;00m config_context(\u001b[38;5;241m*\u001b[39m\u001b[38;5;241m*\u001b[39mconfig):\n\u001b[1;32m--> 129\u001b[0m     \u001b[38;5;28;01mreturn\u001b[39;00m \u001b[38;5;28;43mself\u001b[39;49m\u001b[38;5;241;43m.\u001b[39;49m\u001b[43mfunction\u001b[49m\u001b[43m(\u001b[49m\u001b[38;5;241;43m*\u001b[39;49m\u001b[43margs\u001b[49m\u001b[43m,\u001b[49m\u001b[43m \u001b[49m\u001b[38;5;241;43m*\u001b[39;49m\u001b[38;5;241;43m*\u001b[39;49m\u001b[43mkwargs\u001b[49m\u001b[43m)\u001b[49m\n",
      "File \u001b[1;32mc:\\Users\\renan\\Python\\Lib\\site-packages\\sklearn\\linear_model\\_logistic.py:455\u001b[0m, in \u001b[0;36m_logistic_regression_path\u001b[1;34m(X, y, pos_class, Cs, fit_intercept, max_iter, tol, verbose, solver, coef, class_weight, dual, penalty, intercept_scaling, multi_class, random_state, check_input, max_squared_sum, sample_weight, l1_ratio, n_threads)\u001b[0m\n\u001b[0;32m    451\u001b[0m l2_reg_strength \u001b[38;5;241m=\u001b[39m \u001b[38;5;241m1.0\u001b[39m \u001b[38;5;241m/\u001b[39m (C \u001b[38;5;241m*\u001b[39m sw_sum)\n\u001b[0;32m    452\u001b[0m iprint \u001b[38;5;241m=\u001b[39m [\u001b[38;5;241m-\u001b[39m\u001b[38;5;241m1\u001b[39m, \u001b[38;5;241m50\u001b[39m, \u001b[38;5;241m1\u001b[39m, \u001b[38;5;241m100\u001b[39m, \u001b[38;5;241m101\u001b[39m][\n\u001b[0;32m    453\u001b[0m     np\u001b[38;5;241m.\u001b[39msearchsorted(np\u001b[38;5;241m.\u001b[39marray([\u001b[38;5;241m0\u001b[39m, \u001b[38;5;241m1\u001b[39m, \u001b[38;5;241m2\u001b[39m, \u001b[38;5;241m3\u001b[39m]), verbose)\n\u001b[0;32m    454\u001b[0m ]\n\u001b[1;32m--> 455\u001b[0m opt_res \u001b[38;5;241m=\u001b[39m \u001b[43moptimize\u001b[49m\u001b[38;5;241;43m.\u001b[39;49m\u001b[43mminimize\u001b[49m\u001b[43m(\u001b[49m\n\u001b[0;32m    456\u001b[0m \u001b[43m    \u001b[49m\u001b[43mfunc\u001b[49m\u001b[43m,\u001b[49m\n\u001b[0;32m    457\u001b[0m \u001b[43m    \u001b[49m\u001b[43mw0\u001b[49m\u001b[43m,\u001b[49m\n\u001b[0;32m    458\u001b[0m \u001b[43m    \u001b[49m\u001b[43mmethod\u001b[49m\u001b[38;5;241;43m=\u001b[39;49m\u001b[38;5;124;43m\"\u001b[39;49m\u001b[38;5;124;43mL-BFGS-B\u001b[39;49m\u001b[38;5;124;43m\"\u001b[39;49m\u001b[43m,\u001b[49m\n\u001b[0;32m    459\u001b[0m \u001b[43m    \u001b[49m\u001b[43mjac\u001b[49m\u001b[38;5;241;43m=\u001b[39;49m\u001b[38;5;28;43;01mTrue\u001b[39;49;00m\u001b[43m,\u001b[49m\n\u001b[0;32m    460\u001b[0m \u001b[43m    \u001b[49m\u001b[43margs\u001b[49m\u001b[38;5;241;43m=\u001b[39;49m\u001b[43m(\u001b[49m\u001b[43mX\u001b[49m\u001b[43m,\u001b[49m\u001b[43m \u001b[49m\u001b[43mtarget\u001b[49m\u001b[43m,\u001b[49m\u001b[43m \u001b[49m\u001b[43msample_weight\u001b[49m\u001b[43m,\u001b[49m\u001b[43m \u001b[49m\u001b[43ml2_reg_strength\u001b[49m\u001b[43m,\u001b[49m\u001b[43m \u001b[49m\u001b[43mn_threads\u001b[49m\u001b[43m)\u001b[49m\u001b[43m,\u001b[49m\n\u001b[0;32m    461\u001b[0m \u001b[43m    \u001b[49m\u001b[43moptions\u001b[49m\u001b[38;5;241;43m=\u001b[39;49m\u001b[43m{\u001b[49m\n\u001b[0;32m    462\u001b[0m \u001b[43m        \u001b[49m\u001b[38;5;124;43m\"\u001b[39;49m\u001b[38;5;124;43mmaxiter\u001b[39;49m\u001b[38;5;124;43m\"\u001b[39;49m\u001b[43m:\u001b[49m\u001b[43m \u001b[49m\u001b[43mmax_iter\u001b[49m\u001b[43m,\u001b[49m\n\u001b[0;32m    463\u001b[0m \u001b[43m        \u001b[49m\u001b[38;5;124;43m\"\u001b[39;49m\u001b[38;5;124;43mmaxls\u001b[39;49m\u001b[38;5;124;43m\"\u001b[39;49m\u001b[43m:\u001b[49m\u001b[43m \u001b[49m\u001b[38;5;241;43m50\u001b[39;49m\u001b[43m,\u001b[49m\u001b[43m  \u001b[49m\u001b[38;5;66;43;03m# default is 20\u001b[39;49;00m\n\u001b[0;32m    464\u001b[0m \u001b[43m        \u001b[49m\u001b[38;5;124;43m\"\u001b[39;49m\u001b[38;5;124;43miprint\u001b[39;49m\u001b[38;5;124;43m\"\u001b[39;49m\u001b[43m:\u001b[49m\u001b[43m \u001b[49m\u001b[43miprint\u001b[49m\u001b[43m,\u001b[49m\n\u001b[0;32m    465\u001b[0m \u001b[43m        \u001b[49m\u001b[38;5;124;43m\"\u001b[39;49m\u001b[38;5;124;43mgtol\u001b[39;49m\u001b[38;5;124;43m\"\u001b[39;49m\u001b[43m:\u001b[49m\u001b[43m \u001b[49m\u001b[43mtol\u001b[49m\u001b[43m,\u001b[49m\n\u001b[0;32m    466\u001b[0m \u001b[43m        \u001b[49m\u001b[38;5;124;43m\"\u001b[39;49m\u001b[38;5;124;43mftol\u001b[39;49m\u001b[38;5;124;43m\"\u001b[39;49m\u001b[43m:\u001b[49m\u001b[43m \u001b[49m\u001b[38;5;241;43m64\u001b[39;49m\u001b[43m \u001b[49m\u001b[38;5;241;43m*\u001b[39;49m\u001b[43m \u001b[49m\u001b[43mnp\u001b[49m\u001b[38;5;241;43m.\u001b[39;49m\u001b[43mfinfo\u001b[49m\u001b[43m(\u001b[49m\u001b[38;5;28;43mfloat\u001b[39;49m\u001b[43m)\u001b[49m\u001b[38;5;241;43m.\u001b[39;49m\u001b[43meps\u001b[49m\u001b[43m,\u001b[49m\n\u001b[0;32m    467\u001b[0m \u001b[43m    \u001b[49m\u001b[43m}\u001b[49m\u001b[43m,\u001b[49m\n\u001b[0;32m    468\u001b[0m \u001b[43m\u001b[49m\u001b[43m)\u001b[49m\n\u001b[0;32m    469\u001b[0m n_iter_i \u001b[38;5;241m=\u001b[39m _check_optimize_result(\n\u001b[0;32m    470\u001b[0m     solver,\n\u001b[0;32m    471\u001b[0m     opt_res,\n\u001b[0;32m    472\u001b[0m     max_iter,\n\u001b[0;32m    473\u001b[0m     extra_warning_msg\u001b[38;5;241m=\u001b[39m_LOGISTIC_SOLVER_CONVERGENCE_MSG,\n\u001b[0;32m    474\u001b[0m )\n\u001b[0;32m    475\u001b[0m w0, loss \u001b[38;5;241m=\u001b[39m opt_res\u001b[38;5;241m.\u001b[39mx, opt_res\u001b[38;5;241m.\u001b[39mfun\n",
      "File \u001b[1;32mc:\\Users\\renan\\Python\\Lib\\site-packages\\scipy\\optimize\\_minimize.py:710\u001b[0m, in \u001b[0;36mminimize\u001b[1;34m(fun, x0, args, method, jac, hess, hessp, bounds, constraints, tol, callback, options)\u001b[0m\n\u001b[0;32m    707\u001b[0m     res \u001b[38;5;241m=\u001b[39m _minimize_newtoncg(fun, x0, args, jac, hess, hessp, callback,\n\u001b[0;32m    708\u001b[0m                              \u001b[38;5;241m*\u001b[39m\u001b[38;5;241m*\u001b[39moptions)\n\u001b[0;32m    709\u001b[0m \u001b[38;5;28;01melif\u001b[39;00m meth \u001b[38;5;241m==\u001b[39m \u001b[38;5;124m'\u001b[39m\u001b[38;5;124ml-bfgs-b\u001b[39m\u001b[38;5;124m'\u001b[39m:\n\u001b[1;32m--> 710\u001b[0m     res \u001b[38;5;241m=\u001b[39m \u001b[43m_minimize_lbfgsb\u001b[49m\u001b[43m(\u001b[49m\u001b[43mfun\u001b[49m\u001b[43m,\u001b[49m\u001b[43m \u001b[49m\u001b[43mx0\u001b[49m\u001b[43m,\u001b[49m\u001b[43m \u001b[49m\u001b[43margs\u001b[49m\u001b[43m,\u001b[49m\u001b[43m \u001b[49m\u001b[43mjac\u001b[49m\u001b[43m,\u001b[49m\u001b[43m \u001b[49m\u001b[43mbounds\u001b[49m\u001b[43m,\u001b[49m\n\u001b[0;32m    711\u001b[0m \u001b[43m                           \u001b[49m\u001b[43mcallback\u001b[49m\u001b[38;5;241;43m=\u001b[39;49m\u001b[43mcallback\u001b[49m\u001b[43m,\u001b[49m\u001b[43m \u001b[49m\u001b[38;5;241;43m*\u001b[39;49m\u001b[38;5;241;43m*\u001b[39;49m\u001b[43moptions\u001b[49m\u001b[43m)\u001b[49m\n\u001b[0;32m    712\u001b[0m \u001b[38;5;28;01melif\u001b[39;00m meth \u001b[38;5;241m==\u001b[39m \u001b[38;5;124m'\u001b[39m\u001b[38;5;124mtnc\u001b[39m\u001b[38;5;124m'\u001b[39m:\n\u001b[0;32m    713\u001b[0m     res \u001b[38;5;241m=\u001b[39m _minimize_tnc(fun, x0, args, jac, bounds, callback\u001b[38;5;241m=\u001b[39mcallback,\n\u001b[0;32m    714\u001b[0m                         \u001b[38;5;241m*\u001b[39m\u001b[38;5;241m*\u001b[39moptions)\n",
      "File \u001b[1;32mc:\\Users\\renan\\Python\\Lib\\site-packages\\scipy\\optimize\\_lbfgsb_py.py:283\u001b[0m, in \u001b[0;36m_minimize_lbfgsb\u001b[1;34m(fun, x0, args, jac, bounds, disp, maxcor, ftol, gtol, eps, maxfun, maxiter, iprint, callback, maxls, finite_diff_rel_step, **unknown_options)\u001b[0m\n\u001b[0;32m    280\u001b[0m n, \u001b[38;5;241m=\u001b[39m x0\u001b[38;5;241m.\u001b[39mshape\n\u001b[0;32m    282\u001b[0m \u001b[38;5;28;01mif\u001b[39;00m bounds \u001b[38;5;129;01mis\u001b[39;00m \u001b[38;5;28;01mNone\u001b[39;00m:\n\u001b[1;32m--> 283\u001b[0m     bounds \u001b[38;5;241m=\u001b[39m \u001b[43m[\u001b[49m\u001b[43m(\u001b[49m\u001b[38;5;28;43;01mNone\u001b[39;49;00m\u001b[43m,\u001b[49m\u001b[43m \u001b[49m\u001b[38;5;28;43;01mNone\u001b[39;49;00m\u001b[43m)\u001b[49m\u001b[43m]\u001b[49m\u001b[43m \u001b[49m\u001b[38;5;241;43m*\u001b[39;49m\u001b[43m \u001b[49m\u001b[43mn\u001b[49m\n\u001b[0;32m    284\u001b[0m \u001b[38;5;28;01mif\u001b[39;00m \u001b[38;5;28mlen\u001b[39m(bounds) \u001b[38;5;241m!=\u001b[39m n:\n\u001b[0;32m    285\u001b[0m     \u001b[38;5;28;01mraise\u001b[39;00m \u001b[38;5;167;01mValueError\u001b[39;00m(\u001b[38;5;124m'\u001b[39m\u001b[38;5;124mlength of x0 != length of bounds\u001b[39m\u001b[38;5;124m'\u001b[39m)\n",
      "\u001b[1;31mMemoryError\u001b[0m: "
     ]
    }
   ],
   "source": [
    "'''\n",
    "logistic(train,y) \n",
    "\n",
    "Ao tentar executar a fórmula deu erro de memória, ou seja, o conjunto de dados está muito grande para trabalhar. \n",
    "Uma alternativa seria a de remover algumas informações para tentar rodar o código de maneira que fique mais leve\n",
    "'''"
   ]
  },
  {
   "cell_type": "markdown",
   "metadata": {},
   "source": [
    "- Obtive um erro de memória com essa codificação. A questão é voltar e ver o que eu posso remover dos dados para deixar ele mais leve"
   ]
  },
  {
   "cell_type": "markdown",
   "metadata": {},
   "source": [
    "### 4.4 Encoding categories with dataset statistics"
   ]
  },
  {
   "cell_type": "code",
   "execution_count": null,
   "metadata": {},
   "outputs": [
    {
     "name": "stdout",
     "output_type": "stream",
     "text": [
      "<class 'pandas.core.frame.DataFrame'>\n",
      "Index: 36844 entries, 2 to 41230\n",
      "Data columns (total 8 columns):\n",
      " #   Column       Non-Null Count  Dtype  \n",
      "---  ------       --------------  -----  \n",
      " 0   invoice_no   36844 non-null  int32  \n",
      " 1   stock_code   36844 non-null  int32  \n",
      " 2   description  36844 non-null  int32  \n",
      " 3   quantity     36844 non-null  int64  \n",
      " 4   unit_price   36844 non-null  float64\n",
      " 5   customer_id  36844 non-null  int32  \n",
      " 6   total_spent  36844 non-null  float64\n",
      " 7   date         36844 non-null  int32  \n",
      "dtypes: float64(2), int32(5), int64(1)\n",
      "memory usage: 1.8 MB\n"
     ]
    }
   ],
   "source": [
    "ecommerce_clean_27.info()"
   ]
  },
  {
   "cell_type": "code",
   "execution_count": 80,
   "metadata": {},
   "outputs": [],
   "source": [
    "#dividindo o conjunto de dados\n",
    "\n",
    "X = ecommerce_clean_27.drop(columns=['description'])\n",
    "y = ecommerce_clean_27['description']\n",
    "\n",
    "#Dividir os dados em treino e teste\n",
    "X_train, X_test, y_train, y_test = train_test_split(X, y, test_size=0.2, random_state=0)\n"
   ]
  },
  {
   "cell_type": "code",
   "execution_count": 81,
   "metadata": {},
   "outputs": [
    {
     "name": "stdout",
     "output_type": "stream",
     "text": [
      "CPU times: total: 15.6 ms\n",
      "Wall time: 3 ms\n"
     ]
    }
   ],
   "source": [
    "%%time\n",
    "\n",
    "X_train_stat=X.copy()\n",
    "for c in X_train_stat.columns:\n",
    "    if(X_train_stat[c].dtype=='object'):\n",
    "        X_train_stat[c]=X_train_stat[c].astype('category')\n",
    "        counts=X_train_stat[c].value_counts()\n",
    "        counts=counts.sort_index()\n",
    "        counts=counts.fillna(0)\n",
    "        counts += np.random.rand(len(counts))/1000\n",
    "        X_train_stat[c].cat.categories=counts"
   ]
  },
  {
   "cell_type": "markdown",
   "metadata": {},
   "source": [
    "#### 4.4.1 Logistic regression"
   ]
  },
  {
   "cell_type": "code",
   "execution_count": 83,
   "metadata": {},
   "outputs": [
    {
     "name": "stderr",
     "output_type": "stream",
     "text": [
      "c:\\Users\\renan\\Python\\Lib\\site-packages\\sklearn\\linear_model\\_logistic.py:469: ConvergenceWarning: lbfgs failed to converge (status=1):\n",
      "STOP: TOTAL NO. of ITERATIONS REACHED LIMIT.\n",
      "\n",
      "Increase the number of iterations (max_iter) or scale the data as shown in:\n",
      "    https://scikit-learn.org/stable/modules/preprocessing.html\n",
      "Please also refer to the documentation for alternative solver options:\n",
      "    https://scikit-learn.org/stable/modules/linear_model.html#logistic-regression\n",
      "  n_iter_i = _check_optimize_result(\n"
     ]
    },
    {
     "name": "stdout",
     "output_type": "stream",
     "text": [
      "Accuracy:  0.03951796764737814\n"
     ]
    }
   ],
   "source": [
    "logistic(X_train_stat,y)"
   ]
  },
  {
   "cell_type": "markdown",
   "metadata": {},
   "source": [
    "- Nesse modelo obtive a menor acurácia entre os demais testes sendo ela de 3,91%."
   ]
  },
  {
   "cell_type": "markdown",
   "metadata": {},
   "source": [
    "## 5 Agrupamentos\n"
   ]
  },
  {
   "cell_type": "markdown",
   "metadata": {},
   "source": [
    "### 5.1 K-means"
   ]
  },
  {
   "cell_type": "code",
   "execution_count": 84,
   "metadata": {},
   "outputs": [],
   "source": [
    "#dividindo o conjunto de dados\n",
    "\n",
    "X = ecommerce_clean_27.drop(columns=['description'])\n",
    "y = ecommerce_clean_27['description']\n",
    "\n",
    "#Dividir os dados em treino e teste\n",
    "X_train, X_test, y_train, y_test = train_test_split(X, y, test_size=0.2, random_state=0)"
   ]
  },
  {
   "cell_type": "code",
   "execution_count": 85,
   "metadata": {},
   "outputs": [
    {
     "data": {
      "image/png": "[encoded data removed]",
      "text/plain": [
       "<Figure size 640x480 with 1 Axes>"
      ]
     },
     "metadata": {},
     "output_type": "display_data"
    }
   ],
   "source": [
    "x=y.value_counts()\n",
    "plt.bar(x.index,x)\n",
    "plt.title('Distribuição da variável total_spent')\n",
    "plt.show()"
   ]
  },
  {
   "cell_type": "code",
   "execution_count": 90,
   "metadata": {},
   "outputs": [],
   "source": [
    "#criando um objeto StandardScaler object e aplicando isso ao conjunto de treino\n",
    "sc = StandardScaler()\n",
    "\n",
    "#treinar o scaler e transformar a matriz para um conjunto de treino\n",
    "X_train_st = sc.fit_transform(X_train)\n",
    "\n",
    "linked = linkage(X_train_st, method='ward')"
   ]
  },
  {
   "cell_type": "markdown",
   "metadata": {},
   "source": [
    "#### 5.1.1 Dendrograma\n"
   ]
  },
  {
   "cell_type": "code",
   "execution_count": 91,
   "metadata": {},
   "outputs": [
    {
     "data": {
      "image/png": "[encoded data removed]",
      "text/plain": [
       "<Figure size 1500x1500 with 1 Axes>"
      ]
     },
     "metadata": {},
     "output_type": "display_data"
    }
   ],
   "source": [
    "#plotando o dendrograma\n",
    "\n",
    "plt.figure(figsize=[15,15])\n",
    "dendrogram(linked, orientation='top')\n",
    "plt.title('Agrupamento hierárquico para os dados da academia')\n",
    "plt.show()"
   ]
  },
  {
   "cell_type": "markdown",
   "metadata": {},
   "source": [
    "- Consigo realizar 5 agrupamentos."
   ]
  }
 ],
 "metadata": {
  "kernelspec": {
   "display_name": "Python 3",
   "language": "python",
   "name": "python3"
  },
  "language_info": {
   "codemirror_mode": {
    "name": "ipython",
    "version": 3
   },
   "file_extension": ".py",
   "mimetype": "text/x-python",
   "name": "python",
   "nbconvert_exporter": "python",
   "pygments_lexer": "ipython3",
   "version": "3.12.0"
  }
 },
 "nbformat": 4,
 "nbformat_minor": 2
}
