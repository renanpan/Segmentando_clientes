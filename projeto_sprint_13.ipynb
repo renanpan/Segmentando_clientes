{
 "cells": [
  {
   "cell_type": "markdown",
   "metadata": {},
   "source": [
    "# Sprint 13 - Projeto Final"
   ]
  },
  {
   "cell_type": "markdown",
   "metadata": {},
   "source": [
    "### Tarefa\n",
    "\n",
    "Segmente usuários com base em seus perfis de consumidor.\n",
    "\n",
    "- Realize a análise exploratória de dados.\n",
    "- Segmente os usuários com base no histórico de compras. Sinta-se à vontade para implementar suas próprias ideias para segmentar usuários. Pense em como a segmentação pode ajudar você a desenvolver ofertas mais personalizadas para diferentes usuários. Tente formar segmentos com base no que os usuários compram. Você pode analisar suas compras e segmentar as mercadorias de acordo com a categoria de produto a que pertencem.\n",
    "- Formule e teste hipóteses estatísticas."
   ]
  },
  {
   "cell_type": "markdown",
   "metadata": {},
   "source": [
    "### **Descrição dos dados**\n",
    "\n",
    "O conjunto de dados contém o histórico de transações da Everything Plus, uma loja online que vende utensílios domésticos.\n",
    "\n",
    "O arquivo `ecommerce_dataset_us.csv` contém as seguintes colunas:\n",
    "\n",
    "`InvoiceNo` — identificador de pedido\n",
    "\n",
    "`StockCode` — identificador de item\n",
    "\n",
    "`Description` — nome de item\n",
    "\n",
    "`Quantity`\n",
    "\n",
    "`InvoiceDate` — data do pedido\n",
    "\n",
    "`UnitPrice` — preço por item\n",
    "\n",
    "`CustomerID`"
   ]
  },
  {
   "cell_type": "markdown",
   "metadata": {},
   "source": [
    "Faça uma lista de 5 a 10 fontes (documentação, artigos) que você usou enquanto trabalhava no projeto. Forneça breves explicações sobre as perguntas que cada fonte o ajudou a responder. Prepare uma apresentação com suas conclusões. Você pode usar qualquer ferramenta que desejar para fazer a apresentação, mas deve enviá-la em PDF. Coloque o link no corpo do projeto principal."
   ]
  },
  {
   "cell_type": "markdown",
   "metadata": {},
   "source": [
    "### Dashboards\n",
    "\n",
    "1. Sugestão 1\n",
    "    1. Faça um diagrama para o número de compras por dia\n",
    "    2. Adicione um indicador para o número de clientes\n",
    "    3. Adicione um filtro de data de compra\n",
    "2. Sugestão 2\n",
    "    1. Faça um diagrama para o total de compras por dia\n",
    "    2. Trace um histograma de totais de compras individuais\n",
    "    3. Adicione um filtro de data de compra"
   ]
  },
  {
   "cell_type": "code",
   "execution_count": 97,
   "metadata": {},
   "outputs": [],
   "source": [
    "# Importando as bibliotecas\n",
    "import pandas as pd\n",
    "import matplotlib.pyplot as plt\n",
    "import datetime as dt\n",
    "\n",
    "##bibliotecas para aprendizado de maquina\n",
    "from sklearn.preprocessing import StandardScaler\n",
    "from sklearn.model_selection import train_test_split\n",
    "from sklearn.linear_model import LogisticRegression\n",
    "from sklearn.metrics import accuracy_score, precision_score, recall_score\n",
    "from sklearn.ensemble import RandomForestClassifier\n",
    "from sklearn.cluster import KMeans\n",
    "from scipy.cluster.hierarchy import dendrogram, linkage \n"
   ]
  },
  {
   "cell_type": "markdown",
   "metadata": {},
   "source": [
    "## 1 Tratamento dos dados"
   ]
  },
  {
   "cell_type": "code",
   "execution_count": 54,
   "metadata": {},
   "outputs": [],
   "source": [
    "ecommerce = pd.read_csv('dataset/ecommerce_dataset_us.csv')"
   ]
  },
  {
   "cell_type": "code",
   "execution_count": 55,
   "metadata": {},
   "outputs": [
    {
     "name": "stdout",
     "output_type": "stream",
     "text": [
      "<class 'pandas.core.frame.DataFrame'>\n",
      "RangeIndex: 65535 entries, 0 to 65534\n",
      "Data columns (total 7 columns):\n",
      " #   Column       Non-Null Count  Dtype  \n",
      "---  ------       --------------  -----  \n",
      " 0   InvoiceNo    65535 non-null  object \n",
      " 1   StockCode    65535 non-null  object \n",
      " 2   Description  65372 non-null  object \n",
      " 3   Quantity     65535 non-null  int64  \n",
      " 4   InvoiceDate  65535 non-null  object \n",
      " 5   UnitPrice    65535 non-null  float64\n",
      " 6   CustomerID   41231 non-null  float64\n",
      "dtypes: float64(2), int64(1), object(4)\n",
      "memory usage: 3.5+ MB\n"
     ]
    }
   ],
   "source": [
    "ecommerce.info()"
   ]
  },
  {
   "cell_type": "markdown",
   "metadata": {},
   "source": [
    "- Atributos para arrumar\n",
    "    - Alterar o nome das colunas para snake-case e tudo em letras minusculas\n",
    "    - Remover valores nulos em customer_id da tabela já que não me permitem criar um perfil de cliente;\n",
    "    - Procurar e remover valores duplicados;\n",
    "    - Alterar o tipo de dados de invoice_date para datetime;\n",
    "    - Remover da tabela valores que estão negativos na coluna 'quantity';\n",
    "    - Conferir e tratar os dados da coluna 'unit_price' se necessário;\n",
    "    - Adicionar uma coluna com total gasto por usuário (total_spent)"
   ]
  },
  {
   "cell_type": "code",
   "execution_count": 56,
   "metadata": {},
   "outputs": [],
   "source": [
    "# Renomear as colunas para que correspondam a Snake-Case e que tudo fique em letra minuscula\n",
    "new_column_names = ['invoice_no','stock_code','description','quantity','invoice_date','unit_price','customer_id']\n",
    "\n",
    "ecommerce.rename(columns=dict(zip(ecommerce.columns, new_column_names)), inplace=True)"
   ]
  },
  {
   "cell_type": "code",
   "execution_count": 57,
   "metadata": {},
   "outputs": [
    {
     "name": "stdout",
     "output_type": "stream",
     "text": [
      "  invoice_no stock_code                     description  quantity  \\\n",
      "0    C541433      23166  MEDIUM CERAMIC TOP STORAGE JAR    -74215   \n",
      "1     541431      23166  MEDIUM CERAMIC TOP STORAGE JAR     74215   \n",
      "2     537626     85232D   SET/3 DECOUPAGE STACKING TINS         3   \n",
      "3     537626      22725  ALARM CLOCK BAKELIKE CHOCOLATE         4   \n",
      "4     537626      22726      ALARM CLOCK BAKELIKE GREEN         4   \n",
      "\n",
      "       invoice_date  unit_price  customer_id  \n",
      "0  01/16/2019 10:17        1.04      12346.0  \n",
      "1  01/16/2019 10:01        1.04      12346.0  \n",
      "2  12/05/2018 14:57        4.95      12347.0  \n",
      "3  12/05/2018 14:57        3.75      12347.0  \n",
      "4  12/05/2018 14:57        3.75      12347.0  \n"
     ]
    }
   ],
   "source": [
    "print(ecommerce.head())"
   ]
  },
  {
   "cell_type": "code",
   "execution_count": 58,
   "metadata": {},
   "outputs": [],
   "source": [
    "# Tratar os dados da coluna customer_id\n",
    "ecommerce_clean = ecommerce[~ecommerce['customer_id'].isna()]"
   ]
  },
  {
   "cell_type": "code",
   "execution_count": 59,
   "metadata": {},
   "outputs": [
    {
     "name": "stdout",
     "output_type": "stream",
     "text": [
      "<class 'pandas.core.frame.DataFrame'>\n",
      "Index: 41231 entries, 0 to 41230\n",
      "Data columns (total 7 columns):\n",
      " #   Column        Non-Null Count  Dtype  \n",
      "---  ------        --------------  -----  \n",
      " 0   invoice_no    41231 non-null  object \n",
      " 1   stock_code    41231 non-null  object \n",
      " 2   description   41231 non-null  object \n",
      " 3   quantity      41231 non-null  int64  \n",
      " 4   invoice_date  41231 non-null  object \n",
      " 5   unit_price    41231 non-null  float64\n",
      " 6   customer_id   41231 non-null  float64\n",
      "dtypes: float64(2), int64(1), object(4)\n",
      "memory usage: 2.5+ MB\n"
     ]
    }
   ],
   "source": [
    "ecommerce_clean.info()"
   ]
  },
  {
   "cell_type": "code",
   "execution_count": 60,
   "metadata": {},
   "outputs": [
    {
     "name": "stderr",
     "output_type": "stream",
     "text": [
      "C:\\Users\\renan\\AppData\\Local\\Temp\\ipykernel_15716\\3316102296.py:2: SettingWithCopyWarning: \n",
      "A value is trying to be set on a copy of a slice from a DataFrame.\n",
      "Try using .loc[row_indexer,col_indexer] = value instead\n",
      "\n",
      "See the caveats in the documentation: https://pandas.pydata.org/pandas-docs/stable/user_guide/indexing.html#returning-a-view-versus-a-copy\n",
      "  ecommerce_clean['customer_id'] = ecommerce_clean['customer_id'].astype('int')\n"
     ]
    }
   ],
   "source": [
    "# Atualizar o formato de dados de 'customer_id' para int\n",
    "ecommerce_clean['customer_id'] = ecommerce_clean['customer_id'].astype('int')"
   ]
  },
  {
   "cell_type": "markdown",
   "metadata": {},
   "source": [
    "### 1.1 Remover possiveis espaços duplos da coluna 'description'"
   ]
  },
  {
   "cell_type": "code",
   "execution_count": 61,
   "metadata": {},
   "outputs": [
    {
     "name": "stderr",
     "output_type": "stream",
     "text": [
      "C:\\Users\\renan\\AppData\\Local\\Temp\\ipykernel_15716\\1543203026.py:3: SettingWithCopyWarning: \n",
      "A value is trying to be set on a copy of a slice from a DataFrame.\n",
      "Try using .loc[row_indexer,col_indexer] = value instead\n",
      "\n",
      "See the caveats in the documentation: https://pandas.pydata.org/pandas-docs/stable/user_guide/indexing.html#returning-a-view-versus-a-copy\n",
      "  ecommerce_clean['description'] = ecommerce_clean['description'].str.replace(r'\\s+', ' ', regex=True)\n"
     ]
    }
   ],
   "source": [
    "# Removendo os espaços duplos\n",
    "\n",
    "ecommerce_clean['description'] = ecommerce_clean['description'].str.replace(r'\\s+', ' ', regex=True)"
   ]
  },
  {
   "cell_type": "markdown",
   "metadata": {},
   "source": [
    "### 1.2 Remover dados duplicados"
   ]
  },
  {
   "cell_type": "code",
   "execution_count": 62,
   "metadata": {},
   "outputs": [
    {
     "name": "stdout",
     "output_type": "stream",
     "text": [
      "False    40579\n",
      "True       652\n",
      "Name: count, dtype: int64\n"
     ]
    }
   ],
   "source": [
    "# Obter o total de valores duplicados\n",
    "print(ecommerce_clean.duplicated().value_counts())"
   ]
  },
  {
   "cell_type": "code",
   "execution_count": 63,
   "metadata": {},
   "outputs": [],
   "source": [
    "# Removendo duplicados\n",
    "ecommerce_clean = ecommerce_clean.drop_duplicates()"
   ]
  },
  {
   "cell_type": "code",
   "execution_count": 64,
   "metadata": {},
   "outputs": [
    {
     "name": "stdout",
     "output_type": "stream",
     "text": [
      "False    40579\n",
      "Name: count, dtype: int64\n"
     ]
    }
   ],
   "source": [
    "# Conferindo se removeu os duplicados\n",
    "print(ecommerce_clean.duplicated().value_counts())"
   ]
  },
  {
   "cell_type": "markdown",
   "metadata": {},
   "source": [
    "- A remoção dos dados duplicados funcionou."
   ]
  },
  {
   "cell_type": "markdown",
   "metadata": {},
   "source": [
    "### 1.3 Tratando os dados da coluna 'quantity'"
   ]
  },
  {
   "cell_type": "code",
   "execution_count": 65,
   "metadata": {},
   "outputs": [],
   "source": [
    "# Filtrando os dados para remover valores negativos de 'quantity' selecionando apenas valores maiores ou iguais a 1\n",
    "\n",
    "ecommerce_clean = ecommerce_clean[ecommerce_clean['quantity']>= 1]"
   ]
  },
  {
   "cell_type": "code",
   "execution_count": 66,
   "metadata": {},
   "outputs": [
    {
     "name": "stdout",
     "output_type": "stream",
     "text": [
      "<class 'pandas.core.frame.DataFrame'>\n",
      "Index: 39531 entries, 1 to 41230\n",
      "Data columns (total 7 columns):\n",
      " #   Column        Non-Null Count  Dtype  \n",
      "---  ------        --------------  -----  \n",
      " 0   invoice_no    39531 non-null  object \n",
      " 1   stock_code    39531 non-null  object \n",
      " 2   description   39531 non-null  object \n",
      " 3   quantity      39531 non-null  int64  \n",
      " 4   invoice_date  39531 non-null  object \n",
      " 5   unit_price    39531 non-null  float64\n",
      " 6   customer_id   39531 non-null  int32  \n",
      "dtypes: float64(1), int32(1), int64(1), object(4)\n",
      "memory usage: 2.3+ MB\n"
     ]
    }
   ],
   "source": [
    "ecommerce_clean.info()"
   ]
  },
  {
   "cell_type": "code",
   "execution_count": 67,
   "metadata": {},
   "outputs": [],
   "source": [
    "# Alterar o tipo de dados de 'invoice_date' para datetime\n",
    "\n",
    "ecommerce_clean['invoice_date'] = pd.to_datetime(ecommerce_clean['invoice_date'])"
   ]
  },
  {
   "cell_type": "code",
   "execution_count": 68,
   "metadata": {},
   "outputs": [
    {
     "name": "stdout",
     "output_type": "stream",
     "text": [
      "  invoice_no stock_code                     description  quantity  \\\n",
      "1     541431      23166  MEDIUM CERAMIC TOP STORAGE JAR     74215   \n",
      "2     537626     85232D   SET/3 DECOUPAGE STACKING TINS         3   \n",
      "3     537626      22725  ALARM CLOCK BAKELIKE CHOCOLATE         4   \n",
      "\n",
      "         invoice_date  unit_price  customer_id  \n",
      "1 2019-01-16 10:01:00        1.04        12346  \n",
      "2 2018-12-05 14:57:00        4.95        12347  \n",
      "3 2018-12-05 14:57:00        3.75        12347  \n"
     ]
    }
   ],
   "source": [
    "print(ecommerce_clean.head(3))"
   ]
  },
  {
   "cell_type": "code",
   "execution_count": 69,
   "metadata": {},
   "outputs": [
    {
     "data": {
      "image/png": "[encoded data removed]",
      "text/plain": [
       "<Figure size 640x480 with 1 Axes>"
      ]
     },
     "metadata": {},
     "output_type": "display_data"
    }
   ],
   "source": [
    "# Conferir os dados de quantidade pois parece ter alguns valores extremos\n",
    "\n",
    "quantity_values = ecommerce_clean['quantity']\n",
    "\n",
    "plt.boxplot(quantity_values)\n",
    "plt.show()"
   ]
  },
  {
   "cell_type": "code",
   "execution_count": 70,
   "metadata": {},
   "outputs": [],
   "source": [
    "# Filtrar os dados para remover dados de 'quantity' acima de 10000\n",
    "\n",
    "ecommerce_clean = ecommerce_clean[ecommerce_clean['quantity']<=10000]"
   ]
  },
  {
   "cell_type": "code",
   "execution_count": 71,
   "metadata": {},
   "outputs": [
    {
     "data": {
      "image/png": "[encoded data removed]",
      "text/plain": [
       "<Figure size 640x480 with 1 Axes>"
      ]
     },
     "metadata": {},
     "output_type": "display_data"
    }
   ],
   "source": [
    "# Conferir os dados de quantidade após remoção\n",
    "\n",
    "quantity_values_2 = ecommerce_clean['quantity']\n",
    "\n",
    "plt.boxplot(quantity_values_2)\n",
    "plt.show()"
   ]
  },
  {
   "cell_type": "code",
   "execution_count": 72,
   "metadata": {},
   "outputs": [
    {
     "name": "stdout",
     "output_type": "stream",
     "text": [
      "customer_id  description                         unit_price\n",
      "15749        FAIRY CAKE FLANNEL ASSORTED COLOUR  2.10          3114\n",
      "16754        WORLD WAR 2 GLIDERS ASSTD DESIGNS   0.18          2880\n",
      "16029        GROW A FLYTRAP OR SUNFLOWER IN TIN  0.94          2400\n",
      "15749        GIN + TONIC DIET METAL SIGN         1.85          2000\n",
      "             WHITE HANGING HEART T-LIGHT HOLDER  2.55          1930\n",
      "15299        ASSORTED COLOUR T-LIGHT HOLDER      0.55          1824\n",
      "12875        ASSORTED LAQUERED INCENSE HOLDERS   0.17          1728\n",
      "12755        ROUND SNACK BOXES SET OF 4 FRUITS   2.55          1488\n",
      "14156        ASSORTED INCENSE PACK               0.16          1440\n",
      "16754        RED HARMONICA IN BOX                1.06          1400\n",
      "17857        MINI PAINT SET VINTAGE              0.55          1394\n",
      "17450        HEART OF WICKER SMALL               1.93          1356\n",
      "15749        TEA TIME TEA TOWELS                 2.55          1300\n",
      "17306        PACK OF 12 LONDON TISSUES           0.25          1296\n",
      "17450        HEART OF WICKER LARGE               3.21          1284\n",
      "             WHITE HANGING HEART T-LIGHT HOLDER  3.24          1010\n",
      "18102        CREAM HEART CARD HOLDER             2.31          1008\n",
      "             BLACK HEART CARD HOLDER             2.31          1008\n",
      "13848        SMALL CHINESE STYLE SCISSOR         0.32          1000\n",
      "13027        PACK OF 72 RETROSPOT CAKE CASES     0.40           960\n",
      "Name: quantity, dtype: int64\n"
     ]
    }
   ],
   "source": [
    "''' Acredito que tenha algo de errado com esses dados com valores acima de 1000 itens do mesmo pedido\n",
    "    Estou pensando em agrupar por usuário e pedido e ver o máximo de produtos pedidos'''\n",
    "\n",
    "group_user_orders = ecommerce_clean.groupby(['customer_id','description','unit_price'])['quantity'].max().sort_values(ascending=False)\n",
    "print(group_user_orders.head(20))"
   ]
  },
  {
   "cell_type": "markdown",
   "metadata": {},
   "source": [
    "- Com essa informação vejo que alguns dados os pedidos provavelmente estão errados, sendo assim vou filtrar o dataframe para quantidade superior e inferior a 300 pedidos e ver o resultado nos dados"
   ]
  },
  {
   "cell_type": "code",
   "execution_count": 73,
   "metadata": {},
   "outputs": [],
   "source": [
    "# Filtrando as quantidades com limite de 300\n",
    "\n",
    "above_300 = ecommerce_clean[ecommerce_clean['quantity'] >= 300]\n",
    "below_300 = ecommerce_clean[ecommerce_clean['quantity'] < 300]"
   ]
  },
  {
   "cell_type": "code",
   "execution_count": 74,
   "metadata": {},
   "outputs": [
    {
     "name": "stdout",
     "output_type": "stream",
     "text": [
      "<class 'pandas.core.frame.DataFrame'>\n",
      "Index: 89 entries, 479 to 40054\n",
      "Data columns (total 7 columns):\n",
      " #   Column        Non-Null Count  Dtype         \n",
      "---  ------        --------------  -----         \n",
      " 0   invoice_no    89 non-null     object        \n",
      " 1   stock_code    89 non-null     object        \n",
      " 2   description   89 non-null     object        \n",
      " 3   quantity      89 non-null     int64         \n",
      " 4   invoice_date  89 non-null     datetime64[ns]\n",
      " 5   unit_price    89 non-null     float64       \n",
      " 6   customer_id   89 non-null     int32         \n",
      "dtypes: datetime64[ns](1), float64(1), int32(1), int64(1), object(3)\n",
      "memory usage: 5.2+ KB\n"
     ]
    }
   ],
   "source": [
    "above_300.info()"
   ]
  },
  {
   "cell_type": "code",
   "execution_count": 75,
   "metadata": {},
   "outputs": [
    {
     "name": "stdout",
     "output_type": "stream",
     "text": [
      "<class 'pandas.core.frame.DataFrame'>\n",
      "Index: 39440 entries, 2 to 41230\n",
      "Data columns (total 7 columns):\n",
      " #   Column        Non-Null Count  Dtype         \n",
      "---  ------        --------------  -----         \n",
      " 0   invoice_no    39440 non-null  object        \n",
      " 1   stock_code    39440 non-null  object        \n",
      " 2   description   39440 non-null  object        \n",
      " 3   quantity      39440 non-null  int64         \n",
      " 4   invoice_date  39440 non-null  datetime64[ns]\n",
      " 5   unit_price    39440 non-null  float64       \n",
      " 6   customer_id   39440 non-null  int32         \n",
      "dtypes: datetime64[ns](1), float64(1), int32(1), int64(1), object(3)\n",
      "memory usage: 2.3+ MB\n"
     ]
    }
   ],
   "source": [
    "below_300.info()"
   ]
  },
  {
   "cell_type": "code",
   "execution_count": 76,
   "metadata": {},
   "outputs": [
    {
     "name": "stdout",
     "output_type": "stream",
     "text": [
      "customer_id  description                         unit_price\n",
      "15311        DECORATIVE CATS BATHROOM BOTTLE     0.42          288\n",
      "17511        DISCO BALL CHRISTMAS DECORATION     0.10          288\n",
      "18092        MOROCCAN TEA GLASS                  0.65          288\n",
      "14646        5 HOOK HANGER RED MAGIC TOADSTOOL   1.45          288\n",
      "17404        TEA BAG PLATE RED RETROSPOT         0.85          288\n",
      "16422        SET/10 RED POLKADOT PARTY CANDLES   1.06          288\n",
      "14156        SET/5 RED SPOTTY LID GLASS BOWLS    2.55          288\n",
      "17511        FELT FARM ANIMAL WHITE BUNNY        0.19          288\n",
      "14646        ASSORTED EASTER DECORATIONS BELLS   1.06          288\n",
      "             PLASTERS IN TIN WOODLAND ANIMALS    1.45          288\n",
      "16191        HAND WARMER BABUSHKA DESIGN         0.85          288\n",
      "16210        POTTERING MUG                       0.42          288\n",
      "16684        FANCY FONT BIRTHDAY CARD            0.36          288\n",
      "14646        SET/10 BLUE POLKADOT PARTY CANDLES  1.06          288\n",
      "16422        SET/10 PINK POLKADOT PARTY CANDLES  1.06          288\n",
      "14156        PACK OF 20 NAPKINS RED APPLES       0.64          288\n",
      "17381        VINTAGE HEADS AND TAILS CARD GAME   1.06          288\n",
      "14156        JAM MAKING SET PRINTED              1.25          288\n",
      "17404        SET OF 72 RETROSPOT PAPER DOILIES   1.45          288\n",
      "14646        PACK OF 12 TRADITIONAL CRAYONS      0.36          288\n",
      "Name: quantity, dtype: int64\n"
     ]
    }
   ],
   "source": [
    "# Conferir a lista com os valores máximos até 300 pedidos\n",
    "\n",
    "group_below_300 = below_300.groupby(['customer_id','description','unit_price'])['quantity'].max().sort_values(ascending=False)\n",
    "print(group_below_300.head(20))"
   ]
  },
  {
   "cell_type": "markdown",
   "metadata": {},
   "source": [
    "- Olhando os produtos posso dizer que mesmo filtrando os pedidos com quantidade inferior a 300, ainda temos produtos com valores que não aparentam ser adequados para esses tipos de produtos.\n",
    "- É necessário realizar novo tratamento desses dados e aplicar outra filtragem, nesse caso trabalharei com 100 itens"
   ]
  },
  {
   "cell_type": "code",
   "execution_count": 77,
   "metadata": {},
   "outputs": [],
   "source": [
    "# Filtrando as quantidades com limite de 100\n",
    "\n",
    "above_100 = ecommerce_clean[ecommerce_clean['quantity'] >= 100]\n",
    "below_100 = ecommerce_clean[ecommerce_clean['quantity'] < 100]"
   ]
  },
  {
   "cell_type": "code",
   "execution_count": 78,
   "metadata": {},
   "outputs": [
    {
     "name": "stdout",
     "output_type": "stream",
     "text": [
      "<class 'pandas.core.frame.DataFrame'>\n",
      "Index: 621 entries, 45 to 40644\n",
      "Data columns (total 7 columns):\n",
      " #   Column        Non-Null Count  Dtype         \n",
      "---  ------        --------------  -----         \n",
      " 0   invoice_no    621 non-null    object        \n",
      " 1   stock_code    621 non-null    object        \n",
      " 2   description   621 non-null    object        \n",
      " 3   quantity      621 non-null    int64         \n",
      " 4   invoice_date  621 non-null    datetime64[ns]\n",
      " 5   unit_price    621 non-null    float64       \n",
      " 6   customer_id   621 non-null    int32         \n",
      "dtypes: datetime64[ns](1), float64(1), int32(1), int64(1), object(3)\n",
      "memory usage: 36.4+ KB\n"
     ]
    }
   ],
   "source": [
    "above_100.info()"
   ]
  },
  {
   "cell_type": "code",
   "execution_count": 79,
   "metadata": {},
   "outputs": [
    {
     "name": "stdout",
     "output_type": "stream",
     "text": [
      "<class 'pandas.core.frame.DataFrame'>\n",
      "Index: 38908 entries, 2 to 41230\n",
      "Data columns (total 7 columns):\n",
      " #   Column        Non-Null Count  Dtype         \n",
      "---  ------        --------------  -----         \n",
      " 0   invoice_no    38908 non-null  object        \n",
      " 1   stock_code    38908 non-null  object        \n",
      " 2   description   38908 non-null  object        \n",
      " 3   quantity      38908 non-null  int64         \n",
      " 4   invoice_date  38908 non-null  datetime64[ns]\n",
      " 5   unit_price    38908 non-null  float64       \n",
      " 6   customer_id   38908 non-null  int32         \n",
      "dtypes: datetime64[ns](1), float64(1), int32(1), int64(1), object(3)\n",
      "memory usage: 2.2+ MB\n"
     ]
    }
   ],
   "source": [
    "below_100.info()"
   ]
  },
  {
   "cell_type": "code",
   "execution_count": 80,
   "metadata": {},
   "outputs": [
    {
     "name": "stdout",
     "output_type": "stream",
     "text": [
      "customer_id  description                          unit_price\n",
      "12415        PINK POLKADOT PLATE                  1.45          96\n",
      "12370        HEART DECORATION PAINTED ZINC        0.65          96\n",
      "14646        PLASTERS IN TIN VINTAGE PAISLEY      1.45          96\n",
      "13089        HEART IVORY TRELLIS SMALL            1.25          96\n",
      "14646        PLASTERS IN TIN STRONGMAN            1.45          96\n",
      "14258        SET/6 RED SPOTTY PAPER PLATES        0.64          96\n",
      "14646        BLUE POLKADOT CUP                    0.72          96\n",
      "14258        SET/20 RED RETROSPOT PAPER NAPKINS   0.64          96\n",
      "15061        MAGIC DRAWING SLATE SPACEBOY         0.36          96\n",
      "17511        6 RIBBONS SHIMMERING PINKS           0.42          96\n",
      "14062        HAND WARMER BABUSHKA DESIGN          0.85          96\n",
      "17511        BAG 125g SWIRLY MARBLES              0.36          96\n",
      "15330        FEATHER PEN LIGHT PINK               0.39          96\n",
      "14646        BLUE STRIPE CERAMIC DRAWER KNOB      1.06          96\n",
      "15061        LUNCH BOX I LOVE LONDON              1.65          96\n",
      "17511        BLUE POLKADOT CUP                    0.72          96\n",
      "15061        HANGING JAM JAR T-LIGHT HOLDER       0.72          96\n",
      "17511        BLUE POLKADOT PLATE                  1.45          96\n",
      "15514        ROCKING HORSE RED CHRISTMAS          0.72          96\n",
      "15347        CLOTHES PEGS RETROSPOT PACK 24       1.25          96\n",
      "Name: quantity, dtype: int64\n"
     ]
    }
   ],
   "source": [
    "# Conferir a lista com os valores máximos até 100 pedidos\n",
    "\n",
    "group_below_100 = below_100.groupby(['customer_id','description','unit_price'])['quantity'].max().sort_values(ascending=False)\n",
    "print(group_below_100.head(20))"
   ]
  },
  {
   "cell_type": "code",
   "execution_count": 81,
   "metadata": {},
   "outputs": [
    {
     "data": {
      "image/png": "[encoded data removed]",
      "text/plain": [
       "<Figure size 640x480 with 1 Axes>"
      ]
     },
     "metadata": {},
     "output_type": "display_data"
    }
   ],
   "source": [
    "# Plotar histograma de quantidade inferior a 100\n",
    "\n",
    "quant_below_100 = below_100['quantity']\n",
    "\n",
    "plt.boxplot(quant_below_100)\n",
    "plt.show()"
   ]
  },
  {
   "cell_type": "markdown",
   "metadata": {},
   "source": [
    "- Com base neste novo boxplot é possível ver a distribuição dos dados onde temos o limite superior próximo a 20.\n",
    "    - O passo agora é calcular esse limite, realizar nova filtragem dos dados e observar se vale a pena manter a nova filtragem ou utilizar os dados com quantidade abaixo de 100"
   ]
  },
  {
   "cell_type": "code",
   "execution_count": 82,
   "metadata": {},
   "outputs": [
    {
     "name": "stdout",
     "output_type": "stream",
     "text": [
      "O limite superior é:  27.0\n"
     ]
    }
   ],
   "source": [
    "''' Observação para mim mesmo, eu poderia ter realizado isso logo após confeccionar o primeiro boxplot ao invés de ficar adivinhando valores'''\n",
    "\n",
    "# Calcular o limite superior do boxplot\n",
    "\n",
    "# Calcular o terceiro quartil\n",
    "q3 = below_100['quantity'].quantile(0.75)\n",
    "\n",
    "# Calcular o primeiro quartil\n",
    "q1 = below_100['quantity'].quantile(0.25)\n",
    "\n",
    "# Calcular o intervalo interquartil (IQR)\n",
    "iqr = q3-q1\n",
    "\n",
    "# Calcular o limite superior\n",
    "upper_limit = q3 + 1.5 * iqr\n",
    "\n",
    "print(\"O limite superior é: \", upper_limit)"
   ]
  },
  {
   "cell_type": "markdown",
   "metadata": {},
   "source": [
    "- Como descobri que o limite superior é de 27, vou realizar a filtragem dos dados para 'quantity' até 27 e depois estudar os dados"
   ]
  },
  {
   "cell_type": "code",
   "execution_count": 83,
   "metadata": {},
   "outputs": [],
   "source": [
    "# Filtrando os dados para quantity até 27\n",
    "below_27 = ecommerce_clean[ecommerce_clean['quantity'] <= 27]"
   ]
  },
  {
   "cell_type": "code",
   "execution_count": 84,
   "metadata": {},
   "outputs": [
    {
     "name": "stdout",
     "output_type": "stream",
     "text": [
      "<class 'pandas.core.frame.DataFrame'>\n",
      "Index: 36844 entries, 2 to 41230\n",
      "Data columns (total 7 columns):\n",
      " #   Column        Non-Null Count  Dtype         \n",
      "---  ------        --------------  -----         \n",
      " 0   invoice_no    36844 non-null  object        \n",
      " 1   stock_code    36844 non-null  object        \n",
      " 2   description   36844 non-null  object        \n",
      " 3   quantity      36844 non-null  int64         \n",
      " 4   invoice_date  36844 non-null  datetime64[ns]\n",
      " 5   unit_price    36844 non-null  float64       \n",
      " 6   customer_id   36844 non-null  int32         \n",
      "dtypes: datetime64[ns](1), float64(1), int32(1), int64(1), object(3)\n",
      "memory usage: 2.1+ MB\n"
     ]
    }
   ],
   "source": [
    "below_27.info()"
   ]
  },
  {
   "cell_type": "code",
   "execution_count": 85,
   "metadata": {},
   "outputs": [
    {
     "name": "stdout",
     "output_type": "stream",
     "text": [
      "1680\n"
     ]
    }
   ],
   "source": [
    "# Conferindo o total de usuários únicos após a filtragem\n",
    "\n",
    "unique_users_27 = below_27['customer_id'].nunique()\n",
    "\n",
    "print(unique_users_27)"
   ]
  },
  {
   "cell_type": "markdown",
   "metadata": {},
   "source": [
    "- Com base nos resultados obtidos temos 1680 usuários únicos no novo dataframe filtrado"
   ]
  },
  {
   "cell_type": "markdown",
   "metadata": {},
   "source": [
    "### 1.4 Estudando a coluna 'unit_price'"
   ]
  },
  {
   "cell_type": "markdown",
   "metadata": {},
   "source": [
    "- Antes de mais nada, vou criar renomear o dataframe 'below_27' para 'ecommerce_clean_27' assim entendo de onde vieram esses dados já que eles foram limpos uma vez e filtrados."
   ]
  },
  {
   "cell_type": "code",
   "execution_count": 86,
   "metadata": {},
   "outputs": [],
   "source": [
    "# Renomeando o Dataframe para trabalho\n",
    "\n",
    "ecommerce_clean_27 = below_27"
   ]
  },
  {
   "cell_type": "code",
   "execution_count": 87,
   "metadata": {},
   "outputs": [
    {
     "name": "stdout",
     "output_type": "stream",
     "text": [
      "description                        quantity\n",
      "VINTAGE RED KITCHEN CABINET        1           295.00\n",
      "LOVE SEAT ANTIQUE WHITE METAL      2           175.00\n",
      "RUSTIC SEVENTEEN DRAWER SIDEBOARD  1           165.00\n",
      "REGENCY MIRROR WITH SHUTTERS       1           165.00\n",
      "CARRIAGE                           1           150.00\n",
      "RUSTIC SEVENTEEN DRAWER SIDEBOARD  2           145.00\n",
      "CHEST NATURAL WOOD 20 DRAWERS      1           125.00\n",
      "VINTAGE RED KITCHEN CABINET        2           125.00\n",
      "VINTAGE BLUE KITCHEN CABINET       1           125.00\n",
      "                                   2           125.00\n",
      "CHEST NATURAL WOOD 20 DRAWERS      4           110.00\n",
      "VINTAGE POST OFFICE CABINET        1            79.95\n",
      "SCHOOL DESK AND CHAIR              1            65.00\n",
      "                                   2            65.00\n",
      "VINTAGE POST OFFICE CABINET        10           52.77\n",
      "HALL CABINET WITH 3 DRAWERS        1            49.95\n",
      "PINK PAINTED KASHMIRI CHAIR        4            42.95\n",
      "POSTAGE                            2            40.00\n",
      "                                   3            40.00\n",
      "                                   5            40.00\n",
      "Name: unit_price, dtype: float64\n"
     ]
    }
   ],
   "source": [
    "# Conferir a lista com os valores máximos até 100 pedidos\n",
    "\n",
    "group_unit_price = ecommerce_clean_27.groupby(['description','quantity'])['unit_price'].max().sort_values(ascending=False)\n",
    "print(group_unit_price.head(20))"
   ]
  },
  {
   "cell_type": "markdown",
   "metadata": {},
   "source": [
    "- Observando os preços dos itens, os mesmos parecem de acordo com os itens em questão."
   ]
  },
  {
   "cell_type": "code",
   "execution_count": 88,
   "metadata": {},
   "outputs": [
    {
     "data": {
      "image/png": "[encoded data removed]",
      "text/plain": [
       "<Figure size 640x480 with 1 Axes>"
      ]
     },
     "metadata": {},
     "output_type": "display_data"
    }
   ],
   "source": [
    "# Histograma da distribuição dos preços\n",
    "plt.hist(ecommerce_clean_27['unit_price'], bins=15)\n",
    "plt.ylabel('Frequência dos preços')\n",
    "plt.xlabel('Preço unitário')\n",
    "plt.title('Distribuição dos preços unitários geral')\n",
    "plt.show()"
   ]
  },
  {
   "cell_type": "markdown",
   "metadata": {},
   "source": [
    "- O histograma nos mostra que a grande maioria dos preços unitários dos produtos se encontra entre zero e 25."
   ]
  },
  {
   "cell_type": "code",
   "execution_count": 89,
   "metadata": {},
   "outputs": [
    {
     "data": {
      "image/png": "[encoded data removed]",
      "text/plain": [
       "<Figure size 640x480 with 1 Axes>"
      ]
     },
     "metadata": {},
     "output_type": "display_data"
    }
   ],
   "source": [
    "# Boxplot da distribuição dos preços\n",
    "plt.boxplot(ecommerce_clean_27['unit_price'])\n",
    "plt.ylabel('Preços unitários')\n",
    "plt.title('Distribuição dos preços unitários geral')\n",
    "plt.show()"
   ]
  },
  {
   "cell_type": "markdown",
   "metadata": {},
   "source": [
    "- Com o boxplot dos preços unitarios podemos ver que há vários produtos com valores outliers justificados pelo tipo de produto em si."
   ]
  },
  {
   "cell_type": "code",
   "execution_count": 90,
   "metadata": {},
   "outputs": [
    {
     "name": "stdout",
     "output_type": "stream",
     "text": [
      "O limite superior de preço é:  7.5\n"
     ]
    }
   ],
   "source": [
    "# Calcular o limite superior do boxplot\n",
    "\n",
    "# Calcular o terceiro quartil\n",
    "q3 = ecommerce_clean_27['unit_price'].quantile(0.75)\n",
    "\n",
    "# Calcular o primeiro quartil\n",
    "q1 = ecommerce_clean_27['unit_price'].quantile(0.25)\n",
    "\n",
    "# Calcular o intervalo interquartil (IQR)\n",
    "iqr = q3-q1\n",
    "\n",
    "# Calcular o limite superior\n",
    "upper_limit = q3 + 1.5 * iqr\n",
    "\n",
    "print(\"O limite superior de preço é: \", upper_limit)"
   ]
  },
  {
   "cell_type": "markdown",
   "metadata": {},
   "source": [
    "- Pelo boxplot podemos observar que o limite superior de preço unitario é 7,5 e como a loja vende produtos muito mais caros, mas que saem com menos frequência, isso justifica os outliers."
   ]
  },
  {
   "cell_type": "markdown",
   "metadata": {},
   "source": [
    "## 2 Adição de dados"
   ]
  },
  {
   "cell_type": "markdown",
   "metadata": {},
   "source": [
    "### 2.1 Criar uma coluna com o valor total gasto por usuário"
   ]
  },
  {
   "cell_type": "code",
   "execution_count": 91,
   "metadata": {},
   "outputs": [
    {
     "name": "stderr",
     "output_type": "stream",
     "text": [
      "C:\\Users\\renan\\AppData\\Local\\Temp\\ipykernel_15716\\3784831467.py:1: SettingWithCopyWarning: \n",
      "A value is trying to be set on a copy of a slice from a DataFrame.\n",
      "Try using .loc[row_indexer,col_indexer] = value instead\n",
      "\n",
      "See the caveats in the documentation: https://pandas.pydata.org/pandas-docs/stable/user_guide/indexing.html#returning-a-view-versus-a-copy\n",
      "  ecommerce_clean_27['total_spent'] = (ecommerce_clean_27['unit_price'] * ecommerce_clean_27['quantity'])\n"
     ]
    }
   ],
   "source": [
    "ecommerce_clean_27['total_spent'] = (ecommerce_clean_27['unit_price'] * ecommerce_clean_27['quantity'])"
   ]
  },
  {
   "cell_type": "code",
   "execution_count": 92,
   "metadata": {},
   "outputs": [
    {
     "name": "stdout",
     "output_type": "stream",
     "text": [
      "  invoice_no stock_code                     description  quantity  \\\n",
      "2     537626     85232D   SET/3 DECOUPAGE STACKING TINS         3   \n",
      "3     537626      22725  ALARM CLOCK BAKELIKE CHOCOLATE         4   \n",
      "4     537626      22726      ALARM CLOCK BAKELIKE GREEN         4   \n",
      "5     537626      22727       ALARM CLOCK BAKELIKE RED          4   \n",
      "6     537626      22728       ALARM CLOCK BAKELIKE PINK         4   \n",
      "\n",
      "         invoice_date  unit_price  customer_id  total_spent  \n",
      "2 2018-12-05 14:57:00        4.95        12347        14.85  \n",
      "3 2018-12-05 14:57:00        3.75        12347        15.00  \n",
      "4 2018-12-05 14:57:00        3.75        12347        15.00  \n",
      "5 2018-12-05 14:57:00        3.75        12347        15.00  \n",
      "6 2018-12-05 14:57:00        3.75        12347        15.00  \n"
     ]
    }
   ],
   "source": [
    "print(ecommerce_clean_27.head())"
   ]
  },
  {
   "cell_type": "markdown",
   "metadata": {},
   "source": [
    "#### 2.1.1 Conferindo se todos os valores são numéricos"
   ]
  },
  {
   "cell_type": "code",
   "execution_count": 101,
   "metadata": {},
   "outputs": [
    {
     "name": "stdout",
     "output_type": "stream",
     "text": [
      "A coluna 'total_spent' contém apenas números.\n"
     ]
    }
   ],
   "source": [
    "#Imprimindo para ver se todos os valores da coluna total_spent são numéricos\n",
    "try:\n",
    "    pd.to_numeric(ecommerce_clean_27['total_spent'])\n",
    "    print(\"A coluna 'total_spent' contém apenas números.\")\n",
    "except ValueError:\n",
    "    print(\"A coluna 'total_spent' contém valores não numéricos.\")"
   ]
  },
  {
   "cell_type": "markdown",
   "metadata": {},
   "source": [
    "### 2.2 Adicionar coluna de data apenas no dataframe"
   ]
  },
  {
   "cell_type": "code",
   "execution_count": 93,
   "metadata": {},
   "outputs": [
    {
     "name": "stderr",
     "output_type": "stream",
     "text": [
      "C:\\Users\\renan\\AppData\\Local\\Temp\\ipykernel_15716\\1964287090.py:1: SettingWithCopyWarning: \n",
      "A value is trying to be set on a copy of a slice from a DataFrame.\n",
      "Try using .loc[row_indexer,col_indexer] = value instead\n",
      "\n",
      "See the caveats in the documentation: https://pandas.pydata.org/pandas-docs/stable/user_guide/indexing.html#returning-a-view-versus-a-copy\n",
      "  ecommerce_clean_27['date'] = ecommerce_clean_27['invoice_date'].dt.date\n"
     ]
    }
   ],
   "source": [
    "ecommerce_clean_27['date'] = ecommerce_clean_27['invoice_date'].dt.date"
   ]
  },
  {
   "cell_type": "code",
   "execution_count": 94,
   "metadata": {},
   "outputs": [
    {
     "name": "stdout",
     "output_type": "stream",
     "text": [
      "  invoice_no stock_code                     description  quantity  \\\n",
      "2     537626     85232D   SET/3 DECOUPAGE STACKING TINS         3   \n",
      "3     537626      22725  ALARM CLOCK BAKELIKE CHOCOLATE         4   \n",
      "4     537626      22726      ALARM CLOCK BAKELIKE GREEN         4   \n",
      "5     537626      22727       ALARM CLOCK BAKELIKE RED          4   \n",
      "6     537626      22728       ALARM CLOCK BAKELIKE PINK         4   \n",
      "\n",
      "         invoice_date  unit_price  customer_id  total_spent        date  \n",
      "2 2018-12-05 14:57:00        4.95        12347        14.85  2018-12-05  \n",
      "3 2018-12-05 14:57:00        3.75        12347        15.00  2018-12-05  \n",
      "4 2018-12-05 14:57:00        3.75        12347        15.00  2018-12-05  \n",
      "5 2018-12-05 14:57:00        3.75        12347        15.00  2018-12-05  \n",
      "6 2018-12-05 14:57:00        3.75        12347        15.00  2018-12-05  \n"
     ]
    }
   ],
   "source": [
    "# Obtendo os resultados pós adição da coluna 'date'\n",
    "print(ecommerce_clean_27.head())"
   ]
  },
  {
   "cell_type": "code",
   "execution_count": 95,
   "metadata": {},
   "outputs": [
    {
     "name": "stdout",
     "output_type": "stream",
     "text": [
      "<class 'pandas.core.frame.DataFrame'>\n",
      "Index: 36844 entries, 2 to 41230\n",
      "Data columns (total 9 columns):\n",
      " #   Column        Non-Null Count  Dtype         \n",
      "---  ------        --------------  -----         \n",
      " 0   invoice_no    36844 non-null  object        \n",
      " 1   stock_code    36844 non-null  object        \n",
      " 2   description   36844 non-null  object        \n",
      " 3   quantity      36844 non-null  int64         \n",
      " 4   invoice_date  36844 non-null  datetime64[ns]\n",
      " 5   unit_price    36844 non-null  float64       \n",
      " 6   customer_id   36844 non-null  int32         \n",
      " 7   total_spent   36844 non-null  float64       \n",
      " 8   date          36844 non-null  object        \n",
      "dtypes: datetime64[ns](1), float64(2), int32(1), int64(1), object(4)\n",
      "memory usage: 2.7+ MB\n"
     ]
    }
   ],
   "source": [
    "ecommerce_clean_27.info()"
   ]
  },
  {
   "cell_type": "code",
   "execution_count": 96,
   "metadata": {},
   "outputs": [
    {
     "data": {
      "text/html": [
       "<div>\n",
       "<style scoped>\n",
       "    .dataframe tbody tr th:only-of-type {\n",
       "        vertical-align: middle;\n",
       "    }\n",
       "\n",
       "    .dataframe tbody tr th {\n",
       "        vertical-align: top;\n",
       "    }\n",
       "\n",
       "    .dataframe thead th {\n",
       "        text-align: right;\n",
       "    }\n",
       "</style>\n",
       "<table border=\"1\" class=\"dataframe\">\n",
       "  <thead>\n",
       "    <tr style=\"text-align: right;\">\n",
       "      <th></th>\n",
       "      <th>products</th>\n",
       "      <th>transactions</th>\n",
       "      <th>customers</th>\n",
       "    </tr>\n",
       "  </thead>\n",
       "  <tbody>\n",
       "    <tr>\n",
       "      <th>quantity</th>\n",
       "      <td>2543</td>\n",
       "      <td>3438</td>\n",
       "      <td>1680</td>\n",
       "    </tr>\n",
       "  </tbody>\n",
       "</table>\n",
       "</div>"
      ],
      "text/plain": [
       "          products  transactions  customers\n",
       "quantity      2543          3438       1680"
      ]
     },
     "execution_count": 96,
     "metadata": {},
     "output_type": "execute_result"
    }
   ],
   "source": [
    "#Criar uma tabela para resumir os dados\n",
    "pd.DataFrame([{'products': len(ecommerce_clean_27['stock_code'].value_counts()),\n",
    "               'transactions':len(ecommerce_clean_27['invoice_no'].value_counts()),\n",
    "               'customers':len(ecommerce_clean_27['customer_id'].value_counts()),\n",
    "               }], columns=['products','transactions','customers'], index=['quantity'])"
   ]
  },
  {
   "cell_type": "markdown",
   "metadata": {},
   "source": [
    "- Após todo o tratamento dos dados podemos ver que os resultados advém de 1680 usuários, os quais compraram 2543 produtos diferentes sendo que o total de transações realizadas foi de 3438."
   ]
  },
  {
   "cell_type": "markdown",
   "metadata": {},
   "source": [
    "## 3 Análise de Coorte"
   ]
  },
  {
   "cell_type": "markdown",
   "metadata": {},
   "source": [
    "## 4 Clusters "
   ]
  },
  {
   "cell_type": "markdown",
   "metadata": {},
   "source": [
    "### 4.1 K-means"
   ]
  },
  {
   "cell_type": "code",
   "execution_count": 99,
   "metadata": {},
   "outputs": [],
   "source": [
    "#dividindo o conjunto de dados\n",
    "\n",
    "X = ecommerce_clean_27.drop(columns=['total_spent'])\n",
    "y = ecommerce_clean_27['total_spent']\n",
    "\n",
    "#Dividir os dados em treino e teste\n",
    "X_train, X_test, y_train, y_test = train_test_split(X, y, test_size=0.2, random_state=0)\n"
   ]
  },
  {
   "cell_type": "code",
   "execution_count": 100,
   "metadata": {},
   "outputs": [
    {
     "ename": "ValueError",
     "evalue": "could not convert string to float: '84997D'",
     "output_type": "error",
     "traceback": [
      "\u001b[1;31m---------------------------------------------------------------------------\u001b[0m",
      "\u001b[1;31mValueError\u001b[0m                                Traceback (most recent call last)",
      "\u001b[1;32m~\\AppData\\Local\\Temp\\ipykernel_15716\\4046772413.py\u001b[0m in \u001b[0;36m?\u001b[1;34m()\u001b[0m\n\u001b[0;32m      1\u001b[0m \u001b[1;31m#criando um objeto StandardScaler object e aplicando isso ao conjunto de treino\u001b[0m\u001b[1;33m\u001b[0m\u001b[1;33m\u001b[0m\u001b[0m\n\u001b[0;32m      2\u001b[0m \u001b[0msc\u001b[0m \u001b[1;33m=\u001b[0m \u001b[0mStandardScaler\u001b[0m\u001b[1;33m(\u001b[0m\u001b[1;33m)\u001b[0m\u001b[1;33m\u001b[0m\u001b[1;33m\u001b[0m\u001b[0m\n\u001b[0;32m      3\u001b[0m \u001b[1;33m\u001b[0m\u001b[0m\n\u001b[0;32m      4\u001b[0m \u001b[1;31m#treinar o scaler e transformar a matriz para um conjunto de treino\u001b[0m\u001b[1;33m\u001b[0m\u001b[1;33m\u001b[0m\u001b[0m\n\u001b[1;32m----> 5\u001b[1;33m \u001b[0mX_train_st\u001b[0m \u001b[1;33m=\u001b[0m \u001b[0msc\u001b[0m\u001b[1;33m.\u001b[0m\u001b[0mfit_transform\u001b[0m\u001b[1;33m(\u001b[0m\u001b[0mX_train\u001b[0m\u001b[1;33m)\u001b[0m\u001b[1;33m\u001b[0m\u001b[1;33m\u001b[0m\u001b[0m\n\u001b[0m\u001b[0;32m      6\u001b[0m \u001b[1;33m\u001b[0m\u001b[0m\n\u001b[0;32m      7\u001b[0m \u001b[0mlinked\u001b[0m \u001b[1;33m=\u001b[0m \u001b[0mlinkage\u001b[0m\u001b[1;33m(\u001b[0m\u001b[0mX_train_st\u001b[0m\u001b[1;33m,\u001b[0m \u001b[0mmethod\u001b[0m\u001b[1;33m=\u001b[0m\u001b[1;34m'ward'\u001b[0m\u001b[1;33m)\u001b[0m\u001b[1;33m\u001b[0m\u001b[1;33m\u001b[0m\u001b[0m\n",
      "\u001b[1;32mc:\\Users\\renan\\Python\\Lib\\site-packages\\sklearn\\utils\\_set_output.py\u001b[0m in \u001b[0;36m?\u001b[1;34m(self, X, *args, **kwargs)\u001b[0m\n\u001b[0;32m    271\u001b[0m     \u001b[1;33m@\u001b[0m\u001b[0mwraps\u001b[0m\u001b[1;33m(\u001b[0m\u001b[0mf\u001b[0m\u001b[1;33m)\u001b[0m\u001b[1;33m\u001b[0m\u001b[1;33m\u001b[0m\u001b[0m\n\u001b[0;32m    272\u001b[0m     \u001b[1;32mdef\u001b[0m \u001b[0mwrapped\u001b[0m\u001b[1;33m(\u001b[0m\u001b[0mself\u001b[0m\u001b[1;33m,\u001b[0m \u001b[0mX\u001b[0m\u001b[1;33m,\u001b[0m \u001b[1;33m*\u001b[0m\u001b[0margs\u001b[0m\u001b[1;33m,\u001b[0m \u001b[1;33m**\u001b[0m\u001b[0mkwargs\u001b[0m\u001b[1;33m)\u001b[0m\u001b[1;33m:\u001b[0m\u001b[1;33m\u001b[0m\u001b[1;33m\u001b[0m\u001b[0m\n\u001b[1;32m--> 273\u001b[1;33m         \u001b[0mdata_to_wrap\u001b[0m \u001b[1;33m=\u001b[0m \u001b[0mf\u001b[0m\u001b[1;33m(\u001b[0m\u001b[0mself\u001b[0m\u001b[1;33m,\u001b[0m \u001b[0mX\u001b[0m\u001b[1;33m,\u001b[0m \u001b[1;33m*\u001b[0m\u001b[0margs\u001b[0m\u001b[1;33m,\u001b[0m \u001b[1;33m**\u001b[0m\u001b[0mkwargs\u001b[0m\u001b[1;33m)\u001b[0m\u001b[1;33m\u001b[0m\u001b[1;33m\u001b[0m\u001b[0m\n\u001b[0m\u001b[0;32m    274\u001b[0m         \u001b[1;32mif\u001b[0m \u001b[0misinstance\u001b[0m\u001b[1;33m(\u001b[0m\u001b[0mdata_to_wrap\u001b[0m\u001b[1;33m,\u001b[0m \u001b[0mtuple\u001b[0m\u001b[1;33m)\u001b[0m\u001b[1;33m:\u001b[0m\u001b[1;33m\u001b[0m\u001b[1;33m\u001b[0m\u001b[0m\n\u001b[0;32m    275\u001b[0m             \u001b[1;31m# only wrap the first output for cross decomposition\u001b[0m\u001b[1;33m\u001b[0m\u001b[1;33m\u001b[0m\u001b[0m\n\u001b[0;32m    276\u001b[0m             return_tuple = (\n",
      "\u001b[1;32mc:\\Users\\renan\\Python\\Lib\\site-packages\\sklearn\\base.py\u001b[0m in \u001b[0;36m?\u001b[1;34m(self, X, y, **fit_params)\u001b[0m\n\u001b[0;32m   1057\u001b[0m                 \u001b[1;33m)\u001b[0m\u001b[1;33m\u001b[0m\u001b[1;33m\u001b[0m\u001b[0m\n\u001b[0;32m   1058\u001b[0m \u001b[1;33m\u001b[0m\u001b[0m\n\u001b[0;32m   1059\u001b[0m         \u001b[1;32mif\u001b[0m \u001b[0my\u001b[0m \u001b[1;32mis\u001b[0m \u001b[1;32mNone\u001b[0m\u001b[1;33m:\u001b[0m\u001b[1;33m\u001b[0m\u001b[1;33m\u001b[0m\u001b[0m\n\u001b[0;32m   1060\u001b[0m             \u001b[1;31m# fit method of arity 1 (unsupervised transformation)\u001b[0m\u001b[1;33m\u001b[0m\u001b[1;33m\u001b[0m\u001b[0m\n\u001b[1;32m-> 1061\u001b[1;33m             \u001b[1;32mreturn\u001b[0m \u001b[0mself\u001b[0m\u001b[1;33m.\u001b[0m\u001b[0mfit\u001b[0m\u001b[1;33m(\u001b[0m\u001b[0mX\u001b[0m\u001b[1;33m,\u001b[0m \u001b[1;33m**\u001b[0m\u001b[0mfit_params\u001b[0m\u001b[1;33m)\u001b[0m\u001b[1;33m.\u001b[0m\u001b[0mtransform\u001b[0m\u001b[1;33m(\u001b[0m\u001b[0mX\u001b[0m\u001b[1;33m)\u001b[0m\u001b[1;33m\u001b[0m\u001b[1;33m\u001b[0m\u001b[0m\n\u001b[0m\u001b[0;32m   1062\u001b[0m         \u001b[1;32melse\u001b[0m\u001b[1;33m:\u001b[0m\u001b[1;33m\u001b[0m\u001b[1;33m\u001b[0m\u001b[0m\n\u001b[0;32m   1063\u001b[0m             \u001b[1;31m# fit method of arity 2 (supervised transformation)\u001b[0m\u001b[1;33m\u001b[0m\u001b[1;33m\u001b[0m\u001b[0m\n\u001b[0;32m   1064\u001b[0m             \u001b[1;32mreturn\u001b[0m \u001b[0mself\u001b[0m\u001b[1;33m.\u001b[0m\u001b[0mfit\u001b[0m\u001b[1;33m(\u001b[0m\u001b[0mX\u001b[0m\u001b[1;33m,\u001b[0m \u001b[0my\u001b[0m\u001b[1;33m,\u001b[0m \u001b[1;33m**\u001b[0m\u001b[0mfit_params\u001b[0m\u001b[1;33m)\u001b[0m\u001b[1;33m.\u001b[0m\u001b[0mtransform\u001b[0m\u001b[1;33m(\u001b[0m\u001b[0mX\u001b[0m\u001b[1;33m)\u001b[0m\u001b[1;33m\u001b[0m\u001b[1;33m\u001b[0m\u001b[0m\n",
      "\u001b[1;32mc:\\Users\\renan\\Python\\Lib\\site-packages\\sklearn\\preprocessing\\_data.py\u001b[0m in \u001b[0;36m?\u001b[1;34m(self, X, y, sample_weight)\u001b[0m\n\u001b[0;32m    872\u001b[0m             \u001b[0mFitted\u001b[0m \u001b[0mscaler\u001b[0m\u001b[1;33m.\u001b[0m\u001b[1;33m\u001b[0m\u001b[1;33m\u001b[0m\u001b[0m\n\u001b[0;32m    873\u001b[0m         \"\"\"\n\u001b[0;32m    874\u001b[0m         \u001b[1;31m# Reset internal state before fitting\u001b[0m\u001b[1;33m\u001b[0m\u001b[1;33m\u001b[0m\u001b[0m\n\u001b[0;32m    875\u001b[0m         \u001b[0mself\u001b[0m\u001b[1;33m.\u001b[0m\u001b[0m_reset\u001b[0m\u001b[1;33m(\u001b[0m\u001b[1;33m)\u001b[0m\u001b[1;33m\u001b[0m\u001b[1;33m\u001b[0m\u001b[0m\n\u001b[1;32m--> 876\u001b[1;33m         \u001b[1;32mreturn\u001b[0m \u001b[0mself\u001b[0m\u001b[1;33m.\u001b[0m\u001b[0mpartial_fit\u001b[0m\u001b[1;33m(\u001b[0m\u001b[0mX\u001b[0m\u001b[1;33m,\u001b[0m \u001b[0my\u001b[0m\u001b[1;33m,\u001b[0m \u001b[0msample_weight\u001b[0m\u001b[1;33m)\u001b[0m\u001b[1;33m\u001b[0m\u001b[1;33m\u001b[0m\u001b[0m\n\u001b[0m",
      "\u001b[1;32mc:\\Users\\renan\\Python\\Lib\\site-packages\\sklearn\\base.py\u001b[0m in \u001b[0;36m?\u001b[1;34m(estimator, *args, **kwargs)\u001b[0m\n\u001b[0;32m   1347\u001b[0m                 skip_parameter_validation=(\n\u001b[0;32m   1348\u001b[0m                     \u001b[0mprefer_skip_nested_validation\u001b[0m \u001b[1;32mor\u001b[0m \u001b[0mglobal_skip_validation\u001b[0m\u001b[1;33m\u001b[0m\u001b[1;33m\u001b[0m\u001b[0m\n\u001b[0;32m   1349\u001b[0m                 \u001b[1;33m)\u001b[0m\u001b[1;33m\u001b[0m\u001b[1;33m\u001b[0m\u001b[0m\n\u001b[0;32m   1350\u001b[0m             \u001b[1;33m)\u001b[0m\u001b[1;33m:\u001b[0m\u001b[1;33m\u001b[0m\u001b[1;33m\u001b[0m\u001b[0m\n\u001b[1;32m-> 1351\u001b[1;33m                 \u001b[1;32mreturn\u001b[0m \u001b[0mfit_method\u001b[0m\u001b[1;33m(\u001b[0m\u001b[0mestimator\u001b[0m\u001b[1;33m,\u001b[0m \u001b[1;33m*\u001b[0m\u001b[0margs\u001b[0m\u001b[1;33m,\u001b[0m \u001b[1;33m**\u001b[0m\u001b[0mkwargs\u001b[0m\u001b[1;33m)\u001b[0m\u001b[1;33m\u001b[0m\u001b[1;33m\u001b[0m\u001b[0m\n\u001b[0m",
      "\u001b[1;32mc:\\Users\\renan\\Python\\Lib\\site-packages\\sklearn\\preprocessing\\_data.py\u001b[0m in \u001b[0;36m?\u001b[1;34m(self, X, y, sample_weight)\u001b[0m\n\u001b[0;32m    908\u001b[0m         \u001b[0mself\u001b[0m \u001b[1;33m:\u001b[0m \u001b[0mobject\u001b[0m\u001b[1;33m\u001b[0m\u001b[1;33m\u001b[0m\u001b[0m\n\u001b[0;32m    909\u001b[0m             \u001b[0mFitted\u001b[0m \u001b[0mscaler\u001b[0m\u001b[1;33m.\u001b[0m\u001b[1;33m\u001b[0m\u001b[1;33m\u001b[0m\u001b[0m\n\u001b[0;32m    910\u001b[0m         \"\"\"\n\u001b[0;32m    911\u001b[0m         \u001b[0mfirst_call\u001b[0m \u001b[1;33m=\u001b[0m \u001b[1;32mnot\u001b[0m \u001b[0mhasattr\u001b[0m\u001b[1;33m(\u001b[0m\u001b[0mself\u001b[0m\u001b[1;33m,\u001b[0m \u001b[1;34m\"n_samples_seen_\"\u001b[0m\u001b[1;33m)\u001b[0m\u001b[1;33m\u001b[0m\u001b[1;33m\u001b[0m\u001b[0m\n\u001b[1;32m--> 912\u001b[1;33m         X = self._validate_data(\n\u001b[0m\u001b[0;32m    913\u001b[0m             \u001b[0mX\u001b[0m\u001b[1;33m,\u001b[0m\u001b[1;33m\u001b[0m\u001b[1;33m\u001b[0m\u001b[0m\n\u001b[0;32m    914\u001b[0m             \u001b[0maccept_sparse\u001b[0m\u001b[1;33m=\u001b[0m\u001b[1;33m(\u001b[0m\u001b[1;34m\"csr\"\u001b[0m\u001b[1;33m,\u001b[0m \u001b[1;34m\"csc\"\u001b[0m\u001b[1;33m)\u001b[0m\u001b[1;33m,\u001b[0m\u001b[1;33m\u001b[0m\u001b[1;33m\u001b[0m\u001b[0m\n\u001b[0;32m    915\u001b[0m             \u001b[0mdtype\u001b[0m\u001b[1;33m=\u001b[0m\u001b[0mFLOAT_DTYPES\u001b[0m\u001b[1;33m,\u001b[0m\u001b[1;33m\u001b[0m\u001b[1;33m\u001b[0m\u001b[0m\n",
      "\u001b[1;32mc:\\Users\\renan\\Python\\Lib\\site-packages\\sklearn\\base.py\u001b[0m in \u001b[0;36m?\u001b[1;34m(self, X, y, reset, validate_separately, cast_to_ndarray, **check_params)\u001b[0m\n\u001b[0;32m    629\u001b[0m                 \u001b[0mout\u001b[0m \u001b[1;33m=\u001b[0m \u001b[0my\u001b[0m\u001b[1;33m\u001b[0m\u001b[1;33m\u001b[0m\u001b[0m\n\u001b[0;32m    630\u001b[0m             \u001b[1;32melse\u001b[0m\u001b[1;33m:\u001b[0m\u001b[1;33m\u001b[0m\u001b[1;33m\u001b[0m\u001b[0m\n\u001b[0;32m    631\u001b[0m                 \u001b[0mout\u001b[0m \u001b[1;33m=\u001b[0m \u001b[0mX\u001b[0m\u001b[1;33m,\u001b[0m \u001b[0my\u001b[0m\u001b[1;33m\u001b[0m\u001b[1;33m\u001b[0m\u001b[0m\n\u001b[0;32m    632\u001b[0m         \u001b[1;32melif\u001b[0m \u001b[1;32mnot\u001b[0m \u001b[0mno_val_X\u001b[0m \u001b[1;32mand\u001b[0m \u001b[0mno_val_y\u001b[0m\u001b[1;33m:\u001b[0m\u001b[1;33m\u001b[0m\u001b[1;33m\u001b[0m\u001b[0m\n\u001b[1;32m--> 633\u001b[1;33m             \u001b[0mout\u001b[0m \u001b[1;33m=\u001b[0m \u001b[0mcheck_array\u001b[0m\u001b[1;33m(\u001b[0m\u001b[0mX\u001b[0m\u001b[1;33m,\u001b[0m \u001b[0minput_name\u001b[0m\u001b[1;33m=\u001b[0m\u001b[1;34m\"X\"\u001b[0m\u001b[1;33m,\u001b[0m \u001b[1;33m**\u001b[0m\u001b[0mcheck_params\u001b[0m\u001b[1;33m)\u001b[0m\u001b[1;33m\u001b[0m\u001b[1;33m\u001b[0m\u001b[0m\n\u001b[0m\u001b[0;32m    634\u001b[0m         \u001b[1;32melif\u001b[0m \u001b[0mno_val_X\u001b[0m \u001b[1;32mand\u001b[0m \u001b[1;32mnot\u001b[0m \u001b[0mno_val_y\u001b[0m\u001b[1;33m:\u001b[0m\u001b[1;33m\u001b[0m\u001b[1;33m\u001b[0m\u001b[0m\n\u001b[0;32m    635\u001b[0m             \u001b[0mout\u001b[0m \u001b[1;33m=\u001b[0m \u001b[0m_check_y\u001b[0m\u001b[1;33m(\u001b[0m\u001b[0my\u001b[0m\u001b[1;33m,\u001b[0m \u001b[1;33m**\u001b[0m\u001b[0mcheck_params\u001b[0m\u001b[1;33m)\u001b[0m\u001b[1;33m\u001b[0m\u001b[1;33m\u001b[0m\u001b[0m\n\u001b[0;32m    636\u001b[0m         \u001b[1;32melse\u001b[0m\u001b[1;33m:\u001b[0m\u001b[1;33m\u001b[0m\u001b[1;33m\u001b[0m\u001b[0m\n",
      "\u001b[1;32mc:\\Users\\renan\\Python\\Lib\\site-packages\\sklearn\\utils\\validation.py\u001b[0m in \u001b[0;36m?\u001b[1;34m(array, accept_sparse, accept_large_sparse, dtype, order, copy, force_all_finite, ensure_2d, allow_nd, ensure_min_samples, ensure_min_features, estimator, input_name)\u001b[0m\n\u001b[0;32m    948\u001b[0m                         \u001b[1;33m)\u001b[0m\u001b[1;33m\u001b[0m\u001b[1;33m\u001b[0m\u001b[0m\n\u001b[0;32m    949\u001b[0m                     \u001b[0marray\u001b[0m \u001b[1;33m=\u001b[0m \u001b[0mxp\u001b[0m\u001b[1;33m.\u001b[0m\u001b[0mastype\u001b[0m\u001b[1;33m(\u001b[0m\u001b[0marray\u001b[0m\u001b[1;33m,\u001b[0m \u001b[0mdtype\u001b[0m\u001b[1;33m,\u001b[0m \u001b[0mcopy\u001b[0m\u001b[1;33m=\u001b[0m\u001b[1;32mFalse\u001b[0m\u001b[1;33m)\u001b[0m\u001b[1;33m\u001b[0m\u001b[1;33m\u001b[0m\u001b[0m\n\u001b[0;32m    950\u001b[0m                 \u001b[1;32melse\u001b[0m\u001b[1;33m:\u001b[0m\u001b[1;33m\u001b[0m\u001b[1;33m\u001b[0m\u001b[0m\n\u001b[0;32m    951\u001b[0m                     \u001b[0marray\u001b[0m \u001b[1;33m=\u001b[0m \u001b[0m_asarray_with_order\u001b[0m\u001b[1;33m(\u001b[0m\u001b[0marray\u001b[0m\u001b[1;33m,\u001b[0m \u001b[0morder\u001b[0m\u001b[1;33m=\u001b[0m\u001b[0morder\u001b[0m\u001b[1;33m,\u001b[0m \u001b[0mdtype\u001b[0m\u001b[1;33m=\u001b[0m\u001b[0mdtype\u001b[0m\u001b[1;33m,\u001b[0m \u001b[0mxp\u001b[0m\u001b[1;33m=\u001b[0m\u001b[0mxp\u001b[0m\u001b[1;33m)\u001b[0m\u001b[1;33m\u001b[0m\u001b[1;33m\u001b[0m\u001b[0m\n\u001b[1;32m--> 952\u001b[1;33m             \u001b[1;32mexcept\u001b[0m \u001b[0mComplexWarning\u001b[0m \u001b[1;32mas\u001b[0m \u001b[0mcomplex_warning\u001b[0m\u001b[1;33m:\u001b[0m\u001b[1;33m\u001b[0m\u001b[1;33m\u001b[0m\u001b[0m\n\u001b[0m\u001b[0;32m    953\u001b[0m                 raise ValueError(\n\u001b[0;32m    954\u001b[0m                     \u001b[1;34m\"Complex data not supported\\n{}\\n\"\u001b[0m\u001b[1;33m.\u001b[0m\u001b[0mformat\u001b[0m\u001b[1;33m(\u001b[0m\u001b[0marray\u001b[0m\u001b[1;33m)\u001b[0m\u001b[1;33m\u001b[0m\u001b[1;33m\u001b[0m\u001b[0m\n\u001b[0;32m    955\u001b[0m                 \u001b[1;33m)\u001b[0m \u001b[1;32mfrom\u001b[0m \u001b[0mcomplex_warning\u001b[0m\u001b[1;33m\u001b[0m\u001b[1;33m\u001b[0m\u001b[0m\n",
      "\u001b[1;32mc:\\Users\\renan\\Python\\Lib\\site-packages\\sklearn\\utils\\_array_api.py\u001b[0m in \u001b[0;36m?\u001b[1;34m(array, dtype, order, copy, xp)\u001b[0m\n\u001b[0;32m    517\u001b[0m         \u001b[1;31m# Use NumPy API to support order\u001b[0m\u001b[1;33m\u001b[0m\u001b[1;33m\u001b[0m\u001b[0m\n\u001b[0;32m    518\u001b[0m         \u001b[1;32mif\u001b[0m \u001b[0mcopy\u001b[0m \u001b[1;32mis\u001b[0m \u001b[1;32mTrue\u001b[0m\u001b[1;33m:\u001b[0m\u001b[1;33m\u001b[0m\u001b[1;33m\u001b[0m\u001b[0m\n\u001b[0;32m    519\u001b[0m             \u001b[0marray\u001b[0m \u001b[1;33m=\u001b[0m \u001b[0mnumpy\u001b[0m\u001b[1;33m.\u001b[0m\u001b[0marray\u001b[0m\u001b[1;33m(\u001b[0m\u001b[0marray\u001b[0m\u001b[1;33m,\u001b[0m \u001b[0morder\u001b[0m\u001b[1;33m=\u001b[0m\u001b[0morder\u001b[0m\u001b[1;33m,\u001b[0m \u001b[0mdtype\u001b[0m\u001b[1;33m=\u001b[0m\u001b[0mdtype\u001b[0m\u001b[1;33m)\u001b[0m\u001b[1;33m\u001b[0m\u001b[1;33m\u001b[0m\u001b[0m\n\u001b[0;32m    520\u001b[0m         \u001b[1;32melse\u001b[0m\u001b[1;33m:\u001b[0m\u001b[1;33m\u001b[0m\u001b[1;33m\u001b[0m\u001b[0m\n\u001b[1;32m--> 521\u001b[1;33m             \u001b[0marray\u001b[0m \u001b[1;33m=\u001b[0m \u001b[0mnumpy\u001b[0m\u001b[1;33m.\u001b[0m\u001b[0masarray\u001b[0m\u001b[1;33m(\u001b[0m\u001b[0marray\u001b[0m\u001b[1;33m,\u001b[0m \u001b[0morder\u001b[0m\u001b[1;33m=\u001b[0m\u001b[0morder\u001b[0m\u001b[1;33m,\u001b[0m \u001b[0mdtype\u001b[0m\u001b[1;33m=\u001b[0m\u001b[0mdtype\u001b[0m\u001b[1;33m)\u001b[0m\u001b[1;33m\u001b[0m\u001b[1;33m\u001b[0m\u001b[0m\n\u001b[0m\u001b[0;32m    522\u001b[0m \u001b[1;33m\u001b[0m\u001b[0m\n\u001b[0;32m    523\u001b[0m         \u001b[1;31m# At this point array is a NumPy ndarray. We convert it to an array\u001b[0m\u001b[1;33m\u001b[0m\u001b[1;33m\u001b[0m\u001b[0m\n\u001b[0;32m    524\u001b[0m         \u001b[1;31m# container that is consistent with the input's namespace.\u001b[0m\u001b[1;33m\u001b[0m\u001b[1;33m\u001b[0m\u001b[0m\n",
      "\u001b[1;32mc:\\Users\\renan\\Python\\Lib\\site-packages\\pandas\\core\\generic.py\u001b[0m in \u001b[0;36m?\u001b[1;34m(self, dtype)\u001b[0m\n\u001b[0;32m   2082\u001b[0m     \u001b[1;32mdef\u001b[0m \u001b[0m__array__\u001b[0m\u001b[1;33m(\u001b[0m\u001b[0mself\u001b[0m\u001b[1;33m,\u001b[0m \u001b[0mdtype\u001b[0m\u001b[1;33m:\u001b[0m \u001b[0mnpt\u001b[0m\u001b[1;33m.\u001b[0m\u001b[0mDTypeLike\u001b[0m \u001b[1;33m|\u001b[0m \u001b[1;32mNone\u001b[0m \u001b[1;33m=\u001b[0m \u001b[1;32mNone\u001b[0m\u001b[1;33m)\u001b[0m \u001b[1;33m->\u001b[0m \u001b[0mnp\u001b[0m\u001b[1;33m.\u001b[0m\u001b[0mndarray\u001b[0m\u001b[1;33m:\u001b[0m\u001b[1;33m\u001b[0m\u001b[1;33m\u001b[0m\u001b[0m\n\u001b[0;32m   2083\u001b[0m         \u001b[0mvalues\u001b[0m \u001b[1;33m=\u001b[0m \u001b[0mself\u001b[0m\u001b[1;33m.\u001b[0m\u001b[0m_values\u001b[0m\u001b[1;33m\u001b[0m\u001b[1;33m\u001b[0m\u001b[0m\n\u001b[1;32m-> 2084\u001b[1;33m         \u001b[0marr\u001b[0m \u001b[1;33m=\u001b[0m \u001b[0mnp\u001b[0m\u001b[1;33m.\u001b[0m\u001b[0masarray\u001b[0m\u001b[1;33m(\u001b[0m\u001b[0mvalues\u001b[0m\u001b[1;33m,\u001b[0m \u001b[0mdtype\u001b[0m\u001b[1;33m=\u001b[0m\u001b[0mdtype\u001b[0m\u001b[1;33m)\u001b[0m\u001b[1;33m\u001b[0m\u001b[1;33m\u001b[0m\u001b[0m\n\u001b[0m\u001b[0;32m   2085\u001b[0m         if (\n\u001b[0;32m   2086\u001b[0m             \u001b[0mastype_is_view\u001b[0m\u001b[1;33m(\u001b[0m\u001b[0mvalues\u001b[0m\u001b[1;33m.\u001b[0m\u001b[0mdtype\u001b[0m\u001b[1;33m,\u001b[0m \u001b[0marr\u001b[0m\u001b[1;33m.\u001b[0m\u001b[0mdtype\u001b[0m\u001b[1;33m)\u001b[0m\u001b[1;33m\u001b[0m\u001b[1;33m\u001b[0m\u001b[0m\n\u001b[0;32m   2087\u001b[0m             \u001b[1;32mand\u001b[0m \u001b[0musing_copy_on_write\u001b[0m\u001b[1;33m(\u001b[0m\u001b[1;33m)\u001b[0m\u001b[1;33m\u001b[0m\u001b[1;33m\u001b[0m\u001b[0m\n",
      "\u001b[1;31mValueError\u001b[0m: could not convert string to float: '84997D'"
     ]
    }
   ],
   "source": [
    "#criando um objeto StandardScaler object e aplicando isso ao conjunto de treino\n",
    "sc = StandardScaler()\n",
    "\n",
    "#treinar o scaler e transformar a matriz para um conjunto de treino\n",
    "X_train_st = sc.fit_transform(X_train)\n",
    "\n",
    "linked = linkage(X_train_st, method='ward')"
   ]
  }
 ],
 "metadata": {
  "kernelspec": {
   "display_name": "Python 3",
   "language": "python",
   "name": "python3"
  },
  "language_info": {
   "codemirror_mode": {
    "name": "ipython",
    "version": 3
   },
   "file_extension": ".py",
   "mimetype": "text/x-python",
   "name": "python",
   "nbconvert_exporter": "python",
   "pygments_lexer": "ipython3",
   "version": "3.12.0"
  }
 },
 "nbformat": 4,
 "nbformat_minor": 2
}
