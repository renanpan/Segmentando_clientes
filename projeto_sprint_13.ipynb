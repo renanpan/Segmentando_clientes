{
 "cells": [
  {
   "cell_type": "markdown",
   "metadata": {},
   "source": [
    "# Sprint 13 - Projeto Final"
   ]
  },
  {
   "cell_type": "markdown",
   "metadata": {},
   "source": [
    "### Tarefa\n",
    "\n",
    "Segmente usuários com base em seus perfis de consumidor.\n",
    "\n",
    "- Realize a análise exploratória de dados.\n",
    "- Segmente os usuários com base no histórico de compras. Sinta-se à vontade para implementar suas próprias ideias para segmentar usuários. Pense em como a segmentação pode ajudar você a desenvolver ofertas mais personalizadas para diferentes usuários. Tente formar segmentos com base no que os usuários compram. Você pode analisar suas compras e segmentar as mercadorias de acordo com a categoria de produto a que pertencem.\n",
    "- Formule e teste hipóteses estatísticas."
   ]
  },
  {
   "cell_type": "markdown",
   "metadata": {},
   "source": [
    "### **Descrição dos dados**\n",
    "\n",
    "O conjunto de dados contém o histórico de transações da Everything Plus, uma loja online que vende utensílios domésticos.\n",
    "\n",
    "O arquivo `ecommerce_dataset_us.csv` contém as seguintes colunas:\n",
    "\n",
    "`InvoiceNo` — identificador de pedido\n",
    "\n",
    "`StockCode` — identificador de item\n",
    "\n",
    "`Description` — nome de item\n",
    "\n",
    "`Quantity`\n",
    "\n",
    "`InvoiceDate` — data do pedido\n",
    "\n",
    "`UnitPrice` — preço por item\n",
    "\n",
    "`CustomerID`"
   ]
  },
  {
   "cell_type": "markdown",
   "metadata": {},
   "source": [
    "Faça uma lista de 5 a 10 fontes (documentação, artigos) que você usou enquanto trabalhava no projeto. Forneça breves explicações sobre as perguntas que cada fonte o ajudou a responder. Prepare uma apresentação com suas conclusões. Você pode usar qualquer ferramenta que desejar para fazer a apresentação, mas deve enviá-la em PDF. Coloque o link no corpo do projeto principal."
   ]
  },
  {
   "cell_type": "markdown",
   "metadata": {},
   "source": [
    "### Dashboards\n",
    "\n",
    "1. Sugestão 1\n",
    "    1. Faça um diagrama para o número de compras por dia\n",
    "    2. Adicione um indicador para o número de clientes\n",
    "    3. Adicione um filtro de data de compra\n",
    "2. Sugestão 2\n",
    "    1. Faça um diagrama para o total de compras por dia\n",
    "    2. Trace um histograma de totais de compras individuais\n",
    "    3. Adicione um filtro de data de compra"
   ]
  },
  {
   "cell_type": "markdown",
   "metadata": {},
   "source": [
    "## Tratamento dos dados"
   ]
  },
  {
   "cell_type": "code",
   "execution_count": 116,
   "metadata": {},
   "outputs": [],
   "source": [
    "# Importando as bibliotecas\n",
    "import pandas as pd\n",
    "import matplotlib.pyplot as plt\n"
   ]
  },
  {
   "cell_type": "code",
   "execution_count": 117,
   "metadata": {},
   "outputs": [],
   "source": [
    "ecommerce = pd.read_csv('dataset/ecommerce_dataset_us.csv')"
   ]
  },
  {
   "cell_type": "code",
   "execution_count": 118,
   "metadata": {},
   "outputs": [
    {
     "name": "stdout",
     "output_type": "stream",
     "text": [
      "<class 'pandas.core.frame.DataFrame'>\n",
      "RangeIndex: 65535 entries, 0 to 65534\n",
      "Data columns (total 7 columns):\n",
      " #   Column       Non-Null Count  Dtype  \n",
      "---  ------       --------------  -----  \n",
      " 0   InvoiceNo    65535 non-null  object \n",
      " 1   StockCode    65535 non-null  object \n",
      " 2   Description  65372 non-null  object \n",
      " 3   Quantity     65535 non-null  int64  \n",
      " 4   InvoiceDate  65535 non-null  object \n",
      " 5   UnitPrice    65535 non-null  float64\n",
      " 6   CustomerID   41231 non-null  float64\n",
      "dtypes: float64(2), int64(1), object(4)\n",
      "memory usage: 3.5+ MB\n"
     ]
    }
   ],
   "source": [
    "ecommerce.info()"
   ]
  },
  {
   "cell_type": "markdown",
   "metadata": {},
   "source": [
    "- Atributos para arrumar\n",
    "    - Alterar o nome das colunas para snake-case e tudo em letras minusculas\n",
    "    - Remover valores nulos em customer_id da tabela já que não me permitem criar um perfil de cliente;\n",
    "    - Alterar o tipo de dados de invoice_date para datetime;\n",
    "    - Remover da tabela valores que estão negativos na coluna 'quantity';\n",
    "    - Conferir e tratar os dados da coluna 'unit_price' se necessário;\n",
    "    - Adicionar uma coluna com total gasto por usuário (total_spent)"
   ]
  },
  {
   "cell_type": "code",
   "execution_count": 119,
   "metadata": {},
   "outputs": [],
   "source": [
    "# Renomear as colunas para que correspondam a Snake-Case e que tudo fique em letra minuscula\n",
    "new_column_names = ['invoice_no','stock_code','description','quantity','invoice_date','unit_price','customer_id']\n",
    "\n",
    "ecommerce.rename(columns=dict(zip(ecommerce.columns, new_column_names)), inplace=True)"
   ]
  },
  {
   "cell_type": "code",
   "execution_count": 120,
   "metadata": {},
   "outputs": [
    {
     "name": "stdout",
     "output_type": "stream",
     "text": [
      "  invoice_no stock_code                     description  quantity  \\\n",
      "0    C541433      23166  MEDIUM CERAMIC TOP STORAGE JAR    -74215   \n",
      "1     541431      23166  MEDIUM CERAMIC TOP STORAGE JAR     74215   \n",
      "2     537626     85232D   SET/3 DECOUPAGE STACKING TINS         3   \n",
      "3     537626      22725  ALARM CLOCK BAKELIKE CHOCOLATE         4   \n",
      "4     537626      22726      ALARM CLOCK BAKELIKE GREEN         4   \n",
      "\n",
      "       invoice_date  unit_price  customer_id  \n",
      "0  01/16/2019 10:17        1.04      12346.0  \n",
      "1  01/16/2019 10:01        1.04      12346.0  \n",
      "2  12/05/2018 14:57        4.95      12347.0  \n",
      "3  12/05/2018 14:57        3.75      12347.0  \n",
      "4  12/05/2018 14:57        3.75      12347.0  \n"
     ]
    }
   ],
   "source": [
    "print(ecommerce.head())"
   ]
  },
  {
   "cell_type": "code",
   "execution_count": 121,
   "metadata": {},
   "outputs": [],
   "source": [
    "# Tratar os dados da coluna customer_id\n",
    "ecommerce_clean = ecommerce[~ecommerce['customer_id'].isna()]"
   ]
  },
  {
   "cell_type": "code",
   "execution_count": 122,
   "metadata": {},
   "outputs": [
    {
     "name": "stdout",
     "output_type": "stream",
     "text": [
      "<class 'pandas.core.frame.DataFrame'>\n",
      "Index: 41231 entries, 0 to 41230\n",
      "Data columns (total 7 columns):\n",
      " #   Column        Non-Null Count  Dtype  \n",
      "---  ------        --------------  -----  \n",
      " 0   invoice_no    41231 non-null  object \n",
      " 1   stock_code    41231 non-null  object \n",
      " 2   description   41231 non-null  object \n",
      " 3   quantity      41231 non-null  int64  \n",
      " 4   invoice_date  41231 non-null  object \n",
      " 5   unit_price    41231 non-null  float64\n",
      " 6   customer_id   41231 non-null  float64\n",
      "dtypes: float64(2), int64(1), object(4)\n",
      "memory usage: 2.5+ MB\n"
     ]
    }
   ],
   "source": [
    "ecommerce_clean.info()"
   ]
  },
  {
   "cell_type": "code",
   "execution_count": 123,
   "metadata": {},
   "outputs": [
    {
     "name": "stderr",
     "output_type": "stream",
     "text": [
      "C:\\Users\\renan\\AppData\\Local\\Temp\\ipykernel_14564\\2181993322.py:1: SettingWithCopyWarning: \n",
      "A value is trying to be set on a copy of a slice from a DataFrame.\n",
      "Try using .loc[row_indexer,col_indexer] = value instead\n",
      "\n",
      "See the caveats in the documentation: https://pandas.pydata.org/pandas-docs/stable/user_guide/indexing.html#returning-a-view-versus-a-copy\n",
      "  ecommerce_clean['customer_id'] = ecommerce_clean['customer_id'].astype('int')\n"
     ]
    }
   ],
   "source": [
    "# Atualizar o formato de dados de 'customer_id' para int\n",
    "ecommerce_clean['customer_id'] = ecommerce_clean['customer_id'].astype('int')"
   ]
  },
  {
   "cell_type": "markdown",
   "metadata": {},
   "source": [
    "### Tratando os dados da coluna 'quantity'"
   ]
  },
  {
   "cell_type": "code",
   "execution_count": 124,
   "metadata": {},
   "outputs": [],
   "source": [
    "# Filtrando os dados para remover valores negativos de 'quantity' selecionando apenas valores maiores ou iguais a 1\n",
    "\n",
    "ecommerce_clean = ecommerce_clean[ecommerce_clean['quantity']>= 1]"
   ]
  },
  {
   "cell_type": "code",
   "execution_count": 125,
   "metadata": {},
   "outputs": [
    {
     "name": "stdout",
     "output_type": "stream",
     "text": [
      "<class 'pandas.core.frame.DataFrame'>\n",
      "Index: 40172 entries, 1 to 41230\n",
      "Data columns (total 7 columns):\n",
      " #   Column        Non-Null Count  Dtype  \n",
      "---  ------        --------------  -----  \n",
      " 0   invoice_no    40172 non-null  object \n",
      " 1   stock_code    40172 non-null  object \n",
      " 2   description   40172 non-null  object \n",
      " 3   quantity      40172 non-null  int64  \n",
      " 4   invoice_date  40172 non-null  object \n",
      " 5   unit_price    40172 non-null  float64\n",
      " 6   customer_id   40172 non-null  int32  \n",
      "dtypes: float64(1), int32(1), int64(1), object(4)\n",
      "memory usage: 2.3+ MB\n"
     ]
    }
   ],
   "source": [
    "ecommerce_clean.info()"
   ]
  },
  {
   "cell_type": "code",
   "execution_count": 126,
   "metadata": {},
   "outputs": [],
   "source": [
    "# Alterar o tipo de dados de 'invoice_date' para datetime\n",
    "\n",
    "ecommerce_clean['invoice_date'] = pd.to_datetime(ecommerce_clean['invoice_date'])"
   ]
  },
  {
   "cell_type": "code",
   "execution_count": 127,
   "metadata": {},
   "outputs": [
    {
     "name": "stdout",
     "output_type": "stream",
     "text": [
      "  invoice_no stock_code                     description  quantity  \\\n",
      "1     541431      23166  MEDIUM CERAMIC TOP STORAGE JAR     74215   \n",
      "2     537626     85232D   SET/3 DECOUPAGE STACKING TINS         3   \n",
      "3     537626      22725  ALARM CLOCK BAKELIKE CHOCOLATE         4   \n",
      "\n",
      "         invoice_date  unit_price  customer_id  \n",
      "1 2019-01-16 10:01:00        1.04        12346  \n",
      "2 2018-12-05 14:57:00        4.95        12347  \n",
      "3 2018-12-05 14:57:00        3.75        12347  \n"
     ]
    }
   ],
   "source": [
    "print(ecommerce_clean.head(3))"
   ]
  },
  {
   "cell_type": "code",
   "execution_count": 128,
   "metadata": {},
   "outputs": [
    {
     "data": {
      "image/png": "[encoded data removed]",
      "text/plain": [
       "<Figure size 640x480 with 1 Axes>"
      ]
     },
     "metadata": {},
     "output_type": "display_data"
    }
   ],
   "source": [
    "# Conferir os dados de quantidade pois parece ter alguns valores extremos\n",
    "\n",
    "quantity_values = ecommerce_clean['quantity']\n",
    "\n",
    "plt.boxplot(quantity_values)\n",
    "plt.show()"
   ]
  },
  {
   "cell_type": "code",
   "execution_count": 129,
   "metadata": {},
   "outputs": [],
   "source": [
    "# Filtrar os dados para remover dados de 'quantity' acima de 10000\n",
    "\n",
    "ecommerce_clean = ecommerce_clean[ecommerce_clean['quantity']<=10000]"
   ]
  },
  {
   "cell_type": "code",
   "execution_count": 130,
   "metadata": {},
   "outputs": [
    {
     "data": {
      "image/png": "[encoded data removed]",
      "text/plain": [
       "<Figure size 640x480 with 1 Axes>"
      ]
     },
     "metadata": {},
     "output_type": "display_data"
    }
   ],
   "source": [
    "# Conferir os dados de quantidade após remoção\n",
    "\n",
    "quantity_values_2 = ecommerce_clean['quantity']\n",
    "\n",
    "plt.boxplot(quantity_values_2)\n",
    "plt.show()"
   ]
  },
  {
   "cell_type": "code",
   "execution_count": 131,
   "metadata": {},
   "outputs": [
    {
     "name": "stdout",
     "output_type": "stream",
     "text": [
      "customer_id  description                         unit_price\n",
      "15749        FAIRY CAKE FLANNEL ASSORTED COLOUR  2.10          3114\n",
      "16754        WORLD WAR 2 GLIDERS ASSTD DESIGNS   0.18          2880\n",
      "16029        GROW A FLYTRAP OR SUNFLOWER IN TIN  0.94          2400\n",
      "15749        GIN + TONIC DIET METAL SIGN         1.85          2000\n",
      "             WHITE HANGING HEART T-LIGHT HOLDER  2.55          1930\n",
      "15299        ASSORTED COLOUR T-LIGHT HOLDER      0.55          1824\n",
      "12875        ASSORTED LAQUERED INCENSE HOLDERS   0.17          1728\n",
      "12755        ROUND SNACK BOXES SET OF 4 FRUITS   2.55          1488\n",
      "14156        ASSORTED INCENSE PACK               0.16          1440\n",
      "16754        RED  HARMONICA IN BOX               1.06          1400\n",
      "17857        MINI PAINT SET VINTAGE              0.55          1394\n",
      "17450        HEART OF WICKER SMALL               1.93          1356\n",
      "15749        TEA TIME TEA TOWELS                 2.55          1300\n",
      "17306        PACK OF 12 LONDON TISSUES           0.25          1296\n",
      "17450        HEART OF WICKER LARGE               3.21          1284\n",
      "             WHITE HANGING HEART T-LIGHT HOLDER  3.24          1010\n",
      "18102        BLACK HEART CARD HOLDER             2.31          1008\n",
      "             CREAM HEART CARD HOLDER             2.31          1008\n",
      "13848        SMALL CHINESE STYLE SCISSOR         0.32          1000\n",
      "13027        PACK OF 72 RETROSPOT CAKE CASES     0.40           960\n",
      "Name: quantity, dtype: int64\n"
     ]
    }
   ],
   "source": [
    "''' Acredito que tenha algo de errado com esses dados com valores acima de 1000 itens do mesmo pedido\n",
    "    Estou pensando em agrupar por usuário e pedido e ver o máximo de produtos pedidos'''\n",
    "\n",
    "group_user_orders = ecommerce_clean.groupby(['customer_id','description','unit_price'])['quantity'].max().sort_values(ascending=False)\n",
    "print(group_user_orders.head(20))"
   ]
  },
  {
   "cell_type": "markdown",
   "metadata": {},
   "source": [
    "- Com essa informação vejo que alguns dados os pedidos provavelmente estão errados, sendo assim vou filtrar o dataframe para quantidade superior e inferior a 300 pedidos e ver o resultado nos dados"
   ]
  },
  {
   "cell_type": "code",
   "execution_count": 132,
   "metadata": {},
   "outputs": [],
   "source": [
    "# Filtrando as quantidades com limite de 300\n",
    "\n",
    "above_300 = ecommerce_clean[ecommerce_clean['quantity'] >= 300]\n",
    "below_300 = ecommerce_clean[ecommerce_clean['quantity'] < 300]"
   ]
  },
  {
   "cell_type": "code",
   "execution_count": 133,
   "metadata": {},
   "outputs": [
    {
     "name": "stdout",
     "output_type": "stream",
     "text": [
      "<class 'pandas.core.frame.DataFrame'>\n",
      "Index: 89 entries, 479 to 40054\n",
      "Data columns (total 7 columns):\n",
      " #   Column        Non-Null Count  Dtype         \n",
      "---  ------        --------------  -----         \n",
      " 0   invoice_no    89 non-null     object        \n",
      " 1   stock_code    89 non-null     object        \n",
      " 2   description   89 non-null     object        \n",
      " 3   quantity      89 non-null     int64         \n",
      " 4   invoice_date  89 non-null     datetime64[ns]\n",
      " 5   unit_price    89 non-null     float64       \n",
      " 6   customer_id   89 non-null     int32         \n",
      "dtypes: datetime64[ns](1), float64(1), int32(1), int64(1), object(3)\n",
      "memory usage: 5.2+ KB\n"
     ]
    }
   ],
   "source": [
    "above_300.info()"
   ]
  },
  {
   "cell_type": "code",
   "execution_count": 134,
   "metadata": {},
   "outputs": [
    {
     "name": "stdout",
     "output_type": "stream",
     "text": [
      "<class 'pandas.core.frame.DataFrame'>\n",
      "Index: 40081 entries, 2 to 41230\n",
      "Data columns (total 7 columns):\n",
      " #   Column        Non-Null Count  Dtype         \n",
      "---  ------        --------------  -----         \n",
      " 0   invoice_no    40081 non-null  object        \n",
      " 1   stock_code    40081 non-null  object        \n",
      " 2   description   40081 non-null  object        \n",
      " 3   quantity      40081 non-null  int64         \n",
      " 4   invoice_date  40081 non-null  datetime64[ns]\n",
      " 5   unit_price    40081 non-null  float64       \n",
      " 6   customer_id   40081 non-null  int32         \n",
      "dtypes: datetime64[ns](1), float64(1), int32(1), int64(1), object(3)\n",
      "memory usage: 2.3+ MB\n"
     ]
    }
   ],
   "source": [
    "below_300.info()"
   ]
  },
  {
   "cell_type": "code",
   "execution_count": 135,
   "metadata": {},
   "outputs": [
    {
     "name": "stdout",
     "output_type": "stream",
     "text": [
      "customer_id  description                         unit_price\n",
      "14156        JAM MAKING SET PRINTED              1.25          288\n",
      "17404        TEA BAG PLATE RED RETROSPOT         0.85          288\n",
      "16210        POTTERING MUG                       0.42          288\n",
      "14646        ASSORTED EASTER DECORATIONS  BELLS  1.06          288\n",
      "             PLASTERS IN TIN WOODLAND ANIMALS    1.45          288\n",
      "             5 HOOK HANGER RED MAGIC TOADSTOOL   1.45          288\n",
      "14156        SET/5 RED SPOTTY LID GLASS BOWLS    2.55          288\n",
      "13225        CHOCOLATE 3 WICK MORRIS BOX CANDLE  1.25          288\n",
      "17511        DISCO BALL CHRISTMAS DECORATION     0.10          288\n",
      "14156        PACK OF 20 NAPKINS RED APPLES       0.64          288\n",
      "17511        FELT FARM ANIMAL WHITE BUNNY        0.19          288\n",
      "14646        PACK OF 12 TRADITIONAL CRAYONS      0.36          288\n",
      "16684        FANCY FONT BIRTHDAY CARD            0.36          288\n",
      "14646        SET/10 BLUE POLKADOT PARTY CANDLES  1.06          288\n",
      "18092        MOROCCAN TEA GLASS                  0.65          288\n",
      "15311        DECORATIVE CATS BATHROOM BOTTLE     0.42          288\n",
      "14646        RED TOADSTOOL LED NIGHT LIGHT       1.45          288\n",
      "16191        HAND WARMER BABUSHKA DESIGN         0.85          288\n",
      "16422        SET/10 PINK POLKADOT PARTY CANDLES  1.06          288\n",
      "14062        DISCO BALL CHRISTMAS DECORATION     0.10          288\n",
      "Name: quantity, dtype: int64\n"
     ]
    }
   ],
   "source": [
    "# Conferir a lista com os valores máximos até 300 pedidos\n",
    "\n",
    "group_below_300 = below_300.groupby(['customer_id','description','unit_price'])['quantity'].max().sort_values(ascending=False)\n",
    "print(group_below_300.head(20))"
   ]
  },
  {
   "cell_type": "markdown",
   "metadata": {},
   "source": [
    "- Olhando os produtos posso dizer que mesmo filtrando os pedidos com quantidade inferior a 300, ainda temos produtos com valores que não aparentam ser adequados para esses tipos de produtos.\n",
    "- É necessário realizar novo tratamento desses dados e aplicar outra filtragem, nesse caso trabalharei com 100 itens"
   ]
  },
  {
   "cell_type": "code",
   "execution_count": 136,
   "metadata": {},
   "outputs": [],
   "source": [
    "# Filtrando as quantidades com limite de 100\n",
    "\n",
    "above_100 = ecommerce_clean[ecommerce_clean['quantity'] >= 100]\n",
    "below_100 = ecommerce_clean[ecommerce_clean['quantity'] < 100]"
   ]
  },
  {
   "cell_type": "code",
   "execution_count": 137,
   "metadata": {},
   "outputs": [
    {
     "name": "stdout",
     "output_type": "stream",
     "text": [
      "<class 'pandas.core.frame.DataFrame'>\n",
      "Index: 621 entries, 45 to 40644\n",
      "Data columns (total 7 columns):\n",
      " #   Column        Non-Null Count  Dtype         \n",
      "---  ------        --------------  -----         \n",
      " 0   invoice_no    621 non-null    object        \n",
      " 1   stock_code    621 non-null    object        \n",
      " 2   description   621 non-null    object        \n",
      " 3   quantity      621 non-null    int64         \n",
      " 4   invoice_date  621 non-null    datetime64[ns]\n",
      " 5   unit_price    621 non-null    float64       \n",
      " 6   customer_id   621 non-null    int32         \n",
      "dtypes: datetime64[ns](1), float64(1), int32(1), int64(1), object(3)\n",
      "memory usage: 36.4+ KB\n"
     ]
    }
   ],
   "source": [
    "above_100.info()"
   ]
  },
  {
   "cell_type": "code",
   "execution_count": 138,
   "metadata": {},
   "outputs": [
    {
     "name": "stdout",
     "output_type": "stream",
     "text": [
      "<class 'pandas.core.frame.DataFrame'>\n",
      "Index: 39549 entries, 2 to 41230\n",
      "Data columns (total 7 columns):\n",
      " #   Column        Non-Null Count  Dtype         \n",
      "---  ------        --------------  -----         \n",
      " 0   invoice_no    39549 non-null  object        \n",
      " 1   stock_code    39549 non-null  object        \n",
      " 2   description   39549 non-null  object        \n",
      " 3   quantity      39549 non-null  int64         \n",
      " 4   invoice_date  39549 non-null  datetime64[ns]\n",
      " 5   unit_price    39549 non-null  float64       \n",
      " 6   customer_id   39549 non-null  int32         \n",
      "dtypes: datetime64[ns](1), float64(1), int32(1), int64(1), object(3)\n",
      "memory usage: 2.3+ MB\n"
     ]
    }
   ],
   "source": [
    "below_100.info()"
   ]
  },
  {
   "cell_type": "code",
   "execution_count": 139,
   "metadata": {},
   "outputs": [
    {
     "name": "stdout",
     "output_type": "stream",
     "text": [
      "customer_id  description                          unit_price\n",
      "13798        SET/6 RED SPOTTY PAPER PLATES        0.64          96\n",
      "17324        BLUE POLKADOT PLATE                  1.45          96\n",
      "16210        HAND WARMER UNION JACK               1.85          96\n",
      "15061        SET 7 BABUSHKA NESTING BOXES         7.65          96\n",
      "13082        PACK OF 12 SUKI TISSUES              0.29          96\n",
      "14060        SET OF 20 VINTAGE CHRISTMAS NAPKINS  0.64          96\n",
      "16210        HAND WARMER RED RETROSPOT            1.85          96\n",
      "13798        LARGE CAKE TOWEL PINK SPOTS          1.95          96\n",
      "16684        SMALL GLASS HEART TRINKET POT        1.85          96\n",
      "14062        HAND WARMER BABUSHKA DESIGN          0.85          96\n",
      "17324        BLUE POLKADOT CUP                    0.72          96\n",
      "15311        RED STRIPE CERAMIC DRAWER KNOB       1.06          96\n",
      "17324        PINK  POLKADOT CUP                   0.72          96\n",
      "14646        SWISS ROLL TOWEL  PINK  SPOTS        1.25          96\n",
      "17324        PINK  POLKADOT PLATE                 1.45          96\n",
      "13089        HAND WARMER BIRD DESIGN              1.85          96\n",
      "             HAND WARMER OWL DESIGN               1.85          96\n",
      "             HEART IVORY TRELLIS SMALL            1.25          96\n",
      "13165        ORIGAMI ROSE INCENSE IN TUBE         0.42          96\n",
      "             ORIGAMI LAVENDER INCENSE/CANDL SET   0.85          96\n",
      "Name: quantity, dtype: int64\n"
     ]
    }
   ],
   "source": [
    "# Conferir a lista com os valores máximos até 100 pedidos\n",
    "\n",
    "group_below_100 = below_100.groupby(['customer_id','description','unit_price'])['quantity'].max().sort_values(ascending=False)\n",
    "print(group_below_100.head(20))"
   ]
  },
  {
   "cell_type": "code",
   "execution_count": 140,
   "metadata": {},
   "outputs": [
    {
     "data": {
      "image/png": "[encoded data removed]",
      "text/plain": [
       "<Figure size 640x480 with 1 Axes>"
      ]
     },
     "metadata": {},
     "output_type": "display_data"
    }
   ],
   "source": [
    "# Plotar histograma de quantidade inferior a 100\n",
    "\n",
    "quant_below_100 = below_100['quantity']\n",
    "\n",
    "plt.boxplot(quant_below_100)\n",
    "plt.show()"
   ]
  },
  {
   "cell_type": "markdown",
   "metadata": {},
   "source": [
    "- Com base neste novo boxplot é possível ver a distribuição dos dados onde temos o limite superior próximo a 20.\n",
    "    - O passo agora é calcular esse limite, realizar nova filtragem dos dados e observar se vale a pena manter a nova filtragem ou utilizar os dados com quantidade abaixo de 100"
   ]
  },
  {
   "cell_type": "code",
   "execution_count": 141,
   "metadata": {},
   "outputs": [
    {
     "name": "stdout",
     "output_type": "stream",
     "text": [
      "O limite superior é:  27.0\n"
     ]
    }
   ],
   "source": [
    "''' Observação para mim mesmo, eu poderia ter realizado isso logo após confeccionar o primeiro boxplot ao invés de ficar adivinhando valores'''\n",
    "\n",
    "# Calcular o limite superior do boxplot\n",
    "\n",
    "# Calcular o terceiro quartil\n",
    "q3 = below_100['quantity'].quantile(0.75)\n",
    "\n",
    "# Calcular o primeiro quartil\n",
    "q1 = below_100['quantity'].quantile(0.25)\n",
    "\n",
    "# Calcular o intervalo interquartil (IQR)\n",
    "iqr = q3-q1\n",
    "\n",
    "# Calcular o limite superior\n",
    "upper_limit = q3 + 1.5 * iqr\n",
    "\n",
    "print(\"O limite superior é: \", upper_limit)"
   ]
  },
  {
   "cell_type": "markdown",
   "metadata": {},
   "source": [
    "- Como descobri que o limite superior é de 27, vou realizar a filtragem dos dados para 'quantity' até 27 e depois estudar os dados"
   ]
  },
  {
   "cell_type": "code",
   "execution_count": 142,
   "metadata": {},
   "outputs": [],
   "source": [
    "# Filtrando os dados para quantity até 27\n",
    "below_27 = ecommerce_clean[ecommerce_clean['quantity'] <= 27]"
   ]
  },
  {
   "cell_type": "code",
   "execution_count": 143,
   "metadata": {},
   "outputs": [
    {
     "name": "stdout",
     "output_type": "stream",
     "text": [
      "<class 'pandas.core.frame.DataFrame'>\n",
      "Index: 37483 entries, 2 to 41230\n",
      "Data columns (total 7 columns):\n",
      " #   Column        Non-Null Count  Dtype         \n",
      "---  ------        --------------  -----         \n",
      " 0   invoice_no    37483 non-null  object        \n",
      " 1   stock_code    37483 non-null  object        \n",
      " 2   description   37483 non-null  object        \n",
      " 3   quantity      37483 non-null  int64         \n",
      " 4   invoice_date  37483 non-null  datetime64[ns]\n",
      " 5   unit_price    37483 non-null  float64       \n",
      " 6   customer_id   37483 non-null  int32         \n",
      "dtypes: datetime64[ns](1), float64(1), int32(1), int64(1), object(3)\n",
      "memory usage: 2.1+ MB\n"
     ]
    }
   ],
   "source": [
    "below_27.info()"
   ]
  },
  {
   "cell_type": "code",
   "execution_count": 144,
   "metadata": {},
   "outputs": [
    {
     "name": "stdout",
     "output_type": "stream",
     "text": [
      "1680\n"
     ]
    }
   ],
   "source": [
    "# Conferindo o total de usuários únicos após a filtragem\n",
    "\n",
    "unique_users_27 = below_27['customer_id'].nunique()\n",
    "\n",
    "print(unique_users_27)"
   ]
  },
  {
   "cell_type": "markdown",
   "metadata": {},
   "source": [
    "- Com base nos resultados obtidos temos 1680 usuários únicos no novo dataframe filtrado"
   ]
  },
  {
   "cell_type": "markdown",
   "metadata": {},
   "source": [
    "### Estudando a coluna 'unit_price'"
   ]
  },
  {
   "cell_type": "markdown",
   "metadata": {},
   "source": [
    "- Antes de mais nada, vou criar renomear o dataframe 'below_27' para 'ecommerce_clean_27' assim entendo de onde vieram esses dados já que eles foram limpos uma vez e filtrados."
   ]
  },
  {
   "cell_type": "code",
   "execution_count": 145,
   "metadata": {},
   "outputs": [],
   "source": [
    "# Renomeando o Dataframe para trabalho\n",
    "\n",
    "ecommerce_clean_27 = below_27"
   ]
  },
  {
   "cell_type": "code",
   "execution_count": 149,
   "metadata": {},
   "outputs": [
    {
     "name": "stdout",
     "output_type": "stream",
     "text": [
      "description                         quantity\n",
      "VINTAGE RED KITCHEN CABINET         1           295.00\n",
      "LOVE SEAT ANTIQUE WHITE METAL       2           175.00\n",
      "RUSTIC  SEVENTEEN DRAWER SIDEBOARD  1           165.00\n",
      "REGENCY MIRROR WITH SHUTTERS        1           165.00\n",
      "CARRIAGE                            1           150.00\n",
      "RUSTIC  SEVENTEEN DRAWER SIDEBOARD  2           145.00\n",
      "CHEST NATURAL WOOD 20 DRAWERS       1           125.00\n",
      "VINTAGE BLUE KITCHEN CABINET        1           125.00\n",
      "                                    2           125.00\n",
      "VINTAGE RED KITCHEN CABINET         2           125.00\n",
      "CHEST NATURAL WOOD 20 DRAWERS       4           110.00\n",
      "VINTAGE POST OFFICE CABINET         1            79.95\n",
      "SCHOOL DESK AND CHAIR               1            65.00\n",
      "                                    2            65.00\n",
      "VINTAGE POST OFFICE CABINET         10           52.77\n",
      "HALL CABINET WITH 3 DRAWERS         1            49.95\n",
      "PINK PAINTED KASHMIRI CHAIR         4            42.95\n",
      "POSTAGE                             3            40.00\n",
      "                                    2            40.00\n",
      "                                    6            40.00\n",
      "Name: unit_price, dtype: float64\n"
     ]
    }
   ],
   "source": [
    "# Conferir a lista com os valores máximos até 100 pedidos\n",
    "\n",
    "group_unit_price = ecommerce_clean_27.groupby(['description','quantity'])['unit_price'].max().sort_values(ascending=False)\n",
    "print(group_unit_price.head(20))"
   ]
  },
  {
   "cell_type": "markdown",
   "metadata": {},
   "source": [
    "- Observando os preços dos itens, os mesmos parecem de acordo com os itens em questão."
   ]
  },
  {
   "cell_type": "code",
   "execution_count": 157,
   "metadata": {},
   "outputs": [
    {
     "data": {
      "image/png": "[encoded data removed]",
      "text/plain": [
       "<Figure size 640x480 with 1 Axes>"
      ]
     },
     "metadata": {},
     "output_type": "display_data"
    }
   ],
   "source": [
    "# Histograma da distribuição dos preços\n",
    "plt.hist(ecommerce_clean_27['unit_price'], bins=15)\n",
    "plt.ylabel('Frequência dos preços')\n",
    "plt.xlabel('Preço unitário')\n",
    "plt.title('Distribuição dos preços unitários geral')\n",
    "plt.show()"
   ]
  },
  {
   "cell_type": "markdown",
   "metadata": {},
   "source": [
    "- O histograma nos mostra que a grande maioria dos preços unitários dos produtos se encontra entre zero e 25."
   ]
  },
  {
   "cell_type": "code",
   "execution_count": 159,
   "metadata": {},
   "outputs": [
    {
     "data": {
      "image/png": "[encoded data removed]",
      "text/plain": [
       "<Figure size 640x480 with 1 Axes>"
      ]
     },
     "metadata": {},
     "output_type": "display_data"
    }
   ],
   "source": [
    "# Boxplot da distribuição dos preços\n",
    "plt.boxplot(ecommerce_clean_27['unit_price'])\n",
    "plt.ylabel('Preços unitários')\n",
    "plt.title('Distribuição dos preços unitários geral')\n",
    "plt.show()"
   ]
  },
  {
   "cell_type": "markdown",
   "metadata": {},
   "source": [
    "- Com o boxplot dos preços unitarios podemos ver que há vários produtos com valores outliers justificados pelo tipo de produto em si."
   ]
  },
  {
   "cell_type": "markdown",
   "metadata": {},
   "source": [
    "### Criar uma coluna com o valor total gasto por usuário"
   ]
  },
  {
   "cell_type": "code",
   "execution_count": 162,
   "metadata": {},
   "outputs": [
    {
     "name": "stderr",
     "output_type": "stream",
     "text": [
      "C:\\Users\\renan\\AppData\\Local\\Temp\\ipykernel_14564\\3784831467.py:1: SettingWithCopyWarning: \n",
      "A value is trying to be set on a copy of a slice from a DataFrame.\n",
      "Try using .loc[row_indexer,col_indexer] = value instead\n",
      "\n",
      "See the caveats in the documentation: https://pandas.pydata.org/pandas-docs/stable/user_guide/indexing.html#returning-a-view-versus-a-copy\n",
      "  ecommerce_clean_27['total_spent'] = (ecommerce_clean_27['unit_price'] * ecommerce_clean_27['quantity'])\n"
     ]
    }
   ],
   "source": [
    "ecommerce_clean_27['total_spent'] = (ecommerce_clean_27['unit_price'] * ecommerce_clean_27['quantity'])"
   ]
  },
  {
   "cell_type": "code",
   "execution_count": 163,
   "metadata": {},
   "outputs": [
    {
     "name": "stdout",
     "output_type": "stream",
     "text": [
      "  invoice_no stock_code                     description  quantity  \\\n",
      "2     537626     85232D   SET/3 DECOUPAGE STACKING TINS         3   \n",
      "3     537626      22725  ALARM CLOCK BAKELIKE CHOCOLATE         4   \n",
      "4     537626      22726      ALARM CLOCK BAKELIKE GREEN         4   \n",
      "5     537626      22727       ALARM CLOCK BAKELIKE RED          4   \n",
      "6     537626      22728       ALARM CLOCK BAKELIKE PINK         4   \n",
      "\n",
      "         invoice_date  unit_price  customer_id  total_expent  total_spent  \n",
      "2 2018-12-05 14:57:00        4.95        12347         14.85        14.85  \n",
      "3 2018-12-05 14:57:00        3.75        12347         15.00        15.00  \n",
      "4 2018-12-05 14:57:00        3.75        12347         15.00        15.00  \n",
      "5 2018-12-05 14:57:00        3.75        12347         15.00        15.00  \n",
      "6 2018-12-05 14:57:00        3.75        12347         15.00        15.00  \n"
     ]
    }
   ],
   "source": [
    "print(ecommerce_clean_27.head())"
   ]
  }
 ],
 "metadata": {
  "kernelspec": {
   "display_name": "Python 3",
   "language": "python",
   "name": "python3"
  },
  "language_info": {
   "codemirror_mode": {
    "name": "ipython",
    "version": 3
   },
   "file_extension": ".py",
   "mimetype": "text/x-python",
   "name": "python",
   "nbconvert_exporter": "python",
   "pygments_lexer": "ipython3",
   "version": "3.12.0"
  }
 },
 "nbformat": 4,
 "nbformat_minor": 2
}
